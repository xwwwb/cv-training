{
 "cells": [
  {
   "cell_type": "code",
   "execution_count": 1,
   "metadata": {
    "collapsed": false
   },
   "outputs": [
    {
     "name": "stdout",
     "output_type": "stream",
     "text": [
      "Looking in indexes: https://mirror.baidu.com/pypi/simple, https://mirrors.aliyun.com/pypi/simple/, https://pypi.tuna.tsinghua.edu.cn/simple/\n",
      "Collecting paddlex<=1.3.11\n",
      "  Downloading https://mirrors.aliyun.com/pypi/packages/d6/a2/07435f4aa1e51fe22bdf06c95d03bf1b78b7bc6625adbb51e35dc0804cc7/paddlex-1.3.11-py3-none-any.whl (516 kB)\n",
      "\u001B[2K     \u001B[90m━━━━━━━━━━━━━━━━━━━━━━━━━━━━━━━━━━━━━━━\u001B[0m \u001B[32m517.0/517.0 kB\u001B[0m \u001B[31m1.3 MB/s\u001B[0m eta \u001B[36m0:00:00\u001B[0ma \u001B[36m0:00:01\u001B[0m\n",
      "\u001B[?25hCollecting xlwt\n",
      "  Downloading https://mirrors.aliyun.com/pypi/packages/44/48/def306413b25c3d01753603b1a222a011b8621aed27cd7f89cbc27e6b0f4/xlwt-1.3.0-py2.py3-none-any.whl (99 kB)\n",
      "\u001B[2K     \u001B[90m━━━━━━━━━━━━━━━━━━━━━━━━━━━━━━━━━━━━━━━\u001B[0m \u001B[32m100.0/100.0 kB\u001B[0m \u001B[31m5.1 MB/s\u001B[0m eta \u001B[36m0:00:00\u001B[0m\n",
      "\u001B[?25hRequirement already satisfied: opencv-python in /opt/conda/envs/python35-paddle120-env/lib/python3.7/site-packages (from paddlex<=1.3.11) (4.1.1.26)\n",
      "Requirement already satisfied: colorama in /opt/conda/envs/python35-paddle120-env/lib/python3.7/site-packages (from paddlex<=1.3.11) (0.4.4)\n",
      "Requirement already satisfied: flask-cors in /opt/conda/envs/python35-paddle120-env/lib/python3.7/site-packages (from paddlex<=1.3.11) (3.0.8)\n",
      "Collecting shapely>=1.7.0\n",
      "  Downloading https://mirrors.aliyun.com/pypi/packages/d2/dd/9f0bc472d4a501b0ea333ecb8d6366320c59b7d3200f9ae2026165526971/shapely-2.0.2-cp37-cp37m-manylinux_2_17_x86_64.manylinux2014_x86_64.whl (2.4 MB)\n",
      "\u001B[2K     \u001B[90m━━━━━━━━━━━━━━━━━━━━━━━━━━━━━━━━━━━━━━━━\u001B[0m \u001B[32m2.4/2.4 MB\u001B[0m \u001B[31m1.2 MB/s\u001B[0m eta \u001B[36m0:00:00\u001B[0m00:01\u001B[0m00:01\u001B[0mm\n",
      "\u001B[?25hRequirement already satisfied: pyyaml in /opt/conda/envs/python35-paddle120-env/lib/python3.7/site-packages (from paddlex<=1.3.11) (5.1.2)\n",
      "Requirement already satisfied: visualdl>=2.0.0 in /opt/conda/envs/python35-paddle120-env/lib/python3.7/site-packages (from paddlex<=1.3.11) (2.2.0)\n",
      "Requirement already satisfied: sklearn in /opt/conda/envs/python35-paddle120-env/lib/python3.7/site-packages (from paddlex<=1.3.11) (0.0)\n",
      "Collecting paddleslim==1.1.1\n",
      "  Downloading https://mirrors.aliyun.com/pypi/packages/d1/77/e257227bed9a70ff0d35a4a3c4e70ac2d2362c803834c4c52018f7c4b762/paddleslim-1.1.1-py2.py3-none-any.whl (145 kB)\n",
      "\u001B[2K     \u001B[90m━━━━━━━━━━━━━━━━━━━━━━━━━━━━━━━━━━━━━━━\u001B[0m \u001B[32m145.3/145.3 kB\u001B[0m \u001B[31m6.9 MB/s\u001B[0m eta \u001B[36m0:00:00\u001B[0m\n",
      "\u001B[?25hRequirement already satisfied: tqdm in /opt/conda/envs/python35-paddle120-env/lib/python3.7/site-packages (from paddlex<=1.3.11) (4.36.1)\n",
      "Collecting paddlehub==2.1.0\n",
      "  Downloading https://mirrors.aliyun.com/pypi/packages/7a/29/3bd0ca43c787181e9c22fe44b944b64d7fcb14ce66d3bf4602d9ad2ac76c/paddlehub-2.1.0-py3-none-any.whl (211 kB)\n",
      "\u001B[2K     \u001B[90m━━━━━━━━━━━━━━━━━━━━━━━━━━━━━━━━━━━━━━\u001B[0m \u001B[32m211.4/211.4 kB\u001B[0m \u001B[31m12.8 MB/s\u001B[0m eta \u001B[36m0:00:00\u001B[0m\n",
      "\u001B[?25hCollecting pycocotools\n",
      "  Downloading https://mirrors.aliyun.com/pypi/packages/27/37/9a47974f4176d10d5304ead7f4c1ddf6e4148405d4e4c5414c4c68967295/pycocotools-2.0.7-cp37-cp37m-manylinux_2_17_x86_64.manylinux2014_x86_64.whl (403 kB)\n",
      "\u001B[2K     \u001B[90m━━━━━━━━━━━━━━━━━━━━━━━━━━━━━━━━━━━━━━\u001B[0m \u001B[32m403.3/403.3 kB\u001B[0m \u001B[31m12.2 MB/s\u001B[0m eta \u001B[36m0:00:00\u001B[0m\n",
      "\u001B[?25hRequirement already satisfied: psutil in /opt/conda/envs/python35-paddle120-env/lib/python3.7/site-packages (from paddlex<=1.3.11) (5.7.2)\n",
      "Requirement already satisfied: colorlog in /opt/conda/envs/python35-paddle120-env/lib/python3.7/site-packages (from paddlehub==2.1.0->paddlex<=1.3.11) (4.1.0)\n",
      "Requirement already satisfied: rarfile in /opt/conda/envs/python35-paddle120-env/lib/python3.7/site-packages (from paddlehub==2.1.0->paddlex<=1.3.11) (3.1)\n",
      "Requirement already satisfied: numpy in /opt/conda/envs/python35-paddle120-env/lib/python3.7/site-packages (from paddlehub==2.1.0->paddlex<=1.3.11) (1.21.6)\n",
      "Requirement already satisfied: Pillow in /opt/conda/envs/python35-paddle120-env/lib/python3.7/site-packages (from paddlehub==2.1.0->paddlex<=1.3.11) (7.1.2)\n",
      "Requirement already satisfied: pyzmq in /opt/conda/envs/python35-paddle120-env/lib/python3.7/site-packages (from paddlehub==2.1.0->paddlex<=1.3.11) (23.2.1)\n",
      "Requirement already satisfied: gunicorn>=19.10.0 in /opt/conda/envs/python35-paddle120-env/lib/python3.7/site-packages (from paddlehub==2.1.0->paddlex<=1.3.11) (20.0.4)\n",
      "Requirement already satisfied: flask>=1.1.0 in /opt/conda/envs/python35-paddle120-env/lib/python3.7/site-packages (from paddlehub==2.1.0->paddlex<=1.3.11) (1.1.1)\n",
      "Requirement already satisfied: paddlenlp>=2.0.0rc5 in /opt/conda/envs/python35-paddle120-env/lib/python3.7/site-packages (from paddlehub==2.1.0->paddlex<=1.3.11) (2.0.0rc7)\n",
      "Requirement already satisfied: packaging in /opt/conda/envs/python35-paddle120-env/lib/python3.7/site-packages (from paddlehub==2.1.0->paddlex<=1.3.11) (21.3)\n",
      "Collecting paddle2onnx>=0.5.1\n",
      "  Downloading https://mirrors.aliyun.com/pypi/packages/8d/61/58f5c4bfeefb43eb19e1d883f898ff9baeedb19c597ffe30336323727b5e/paddle2onnx-1.1.0-cp37-cp37m-manylinux_2_12_x86_64.manylinux2010_x86_64.whl (3.1 MB)\n",
      "\u001B[2K     \u001B[90m━━━━━━━━━━━━━━━━━━━━━━━━━━━━━━━━━━━━━━━━\u001B[0m \u001B[32m3.1/3.1 MB\u001B[0m \u001B[31m17.9 MB/s\u001B[0m eta \u001B[36m0:00:00\u001B[0m00:01\u001B[0m00:01\u001B[0m\n",
      "\u001B[?25hRequirement already satisfied: gitpython in /opt/conda/envs/python35-paddle120-env/lib/python3.7/site-packages (from paddlehub==2.1.0->paddlex<=1.3.11) (3.1.14)\n",
      "Requirement already satisfied: filelock in /opt/conda/envs/python35-paddle120-env/lib/python3.7/site-packages (from paddlehub==2.1.0->paddlex<=1.3.11) (3.0.12)\n",
      "Requirement already satisfied: easydict in /opt/conda/envs/python35-paddle120-env/lib/python3.7/site-packages (from paddlehub==2.1.0->paddlex<=1.3.11) (1.9)\n",
      "Requirement already satisfied: matplotlib in /opt/conda/envs/python35-paddle120-env/lib/python3.7/site-packages (from paddlehub==2.1.0->paddlex<=1.3.11) (2.2.3)\n",
      "Requirement already satisfied: Flask-Babel>=1.0.0 in /opt/conda/envs/python35-paddle120-env/lib/python3.7/site-packages (from visualdl>=2.0.0->paddlex<=1.3.11) (1.0.0)\n",
      "Requirement already satisfied: pre-commit in /opt/conda/envs/python35-paddle120-env/lib/python3.7/site-packages (from visualdl>=2.0.0->paddlex<=1.3.11) (1.21.0)\n",
      "Requirement already satisfied: pandas in /opt/conda/envs/python35-paddle120-env/lib/python3.7/site-packages (from visualdl>=2.0.0->paddlex<=1.3.11) (1.1.5)\n",
      "Requirement already satisfied: flake8>=3.7.9 in /opt/conda/envs/python35-paddle120-env/lib/python3.7/site-packages (from visualdl>=2.0.0->paddlex<=1.3.11) (4.0.1)\n",
      "Requirement already satisfied: bce-python-sdk in /opt/conda/envs/python35-paddle120-env/lib/python3.7/site-packages (from visualdl>=2.0.0->paddlex<=1.3.11) (0.8.53)\n",
      "Requirement already satisfied: requests in /opt/conda/envs/python35-paddle120-env/lib/python3.7/site-packages (from visualdl>=2.0.0->paddlex<=1.3.11) (2.22.0)\n",
      "Requirement already satisfied: six>=1.14.0 in /opt/conda/envs/python35-paddle120-env/lib/python3.7/site-packages (from visualdl>=2.0.0->paddlex<=1.3.11) (1.16.0)\n",
      "Requirement already satisfied: protobuf>=3.11.0 in /opt/conda/envs/python35-paddle120-env/lib/python3.7/site-packages (from visualdl>=2.0.0->paddlex<=1.3.11) (3.20.1)\n",
      "Requirement already satisfied: shellcheck-py in /opt/conda/envs/python35-paddle120-env/lib/python3.7/site-packages (from visualdl>=2.0.0->paddlex<=1.3.11) (0.7.1.1)\n",
      "Requirement already satisfied: scikit-learn in /opt/conda/envs/python35-paddle120-env/lib/python3.7/site-packages (from sklearn->paddlex<=1.3.11) (0.22.1)\n",
      "Requirement already satisfied: mccabe<0.7.0,>=0.6.0 in /opt/conda/envs/python35-paddle120-env/lib/python3.7/site-packages (from flake8>=3.7.9->visualdl>=2.0.0->paddlex<=1.3.11) (0.6.1)\n",
      "Requirement already satisfied: pycodestyle<2.9.0,>=2.8.0 in /opt/conda/envs/python35-paddle120-env/lib/python3.7/site-packages (from flake8>=3.7.9->visualdl>=2.0.0->paddlex<=1.3.11) (2.8.0)\n",
      "Requirement already satisfied: importlib-metadata<4.3 in /opt/conda/envs/python35-paddle120-env/lib/python3.7/site-packages (from flake8>=3.7.9->visualdl>=2.0.0->paddlex<=1.3.11) (4.2.0)\n",
      "Requirement already satisfied: pyflakes<2.5.0,>=2.4.0 in /opt/conda/envs/python35-paddle120-env/lib/python3.7/site-packages (from flake8>=3.7.9->visualdl>=2.0.0->paddlex<=1.3.11) (2.4.0)\n",
      "Requirement already satisfied: click>=5.1 in /opt/conda/envs/python35-paddle120-env/lib/python3.7/site-packages (from flask>=1.1.0->paddlehub==2.1.0->paddlex<=1.3.11) (7.0)\n",
      "Requirement already satisfied: Werkzeug>=0.15 in /opt/conda/envs/python35-paddle120-env/lib/python3.7/site-packages (from flask>=1.1.0->paddlehub==2.1.0->paddlex<=1.3.11) (0.16.0)\n",
      "Requirement already satisfied: Jinja2>=2.10.1 in /opt/conda/envs/python35-paddle120-env/lib/python3.7/site-packages (from flask>=1.1.0->paddlehub==2.1.0->paddlex<=1.3.11) (3.0.0)\n",
      "Requirement already satisfied: itsdangerous>=0.24 in /opt/conda/envs/python35-paddle120-env/lib/python3.7/site-packages (from flask>=1.1.0->paddlehub==2.1.0->paddlex<=1.3.11) (1.1.0)\n",
      "Requirement already satisfied: pytz in /opt/conda/envs/python35-paddle120-env/lib/python3.7/site-packages (from Flask-Babel>=1.0.0->visualdl>=2.0.0->paddlex<=1.3.11) (2019.3)\n",
      "Requirement already satisfied: Babel>=2.3 in /opt/conda/envs/python35-paddle120-env/lib/python3.7/site-packages (from Flask-Babel>=1.0.0->visualdl>=2.0.0->paddlex<=1.3.11) (2.8.0)\n",
      "Requirement already satisfied: setuptools>=3.0 in /opt/conda/envs/python35-paddle120-env/lib/python3.7/site-packages (from gunicorn>=19.10.0->paddlehub==2.1.0->paddlex<=1.3.11) (41.4.0)\n",
      "Requirement already satisfied: kiwisolver>=1.0.1 in /opt/conda/envs/python35-paddle120-env/lib/python3.7/site-packages (from matplotlib->paddlehub==2.1.0->paddlex<=1.3.11) (1.1.0)\n",
      "Requirement already satisfied: python-dateutil>=2.1 in /opt/conda/envs/python35-paddle120-env/lib/python3.7/site-packages (from matplotlib->paddlehub==2.1.0->paddlex<=1.3.11) (2.8.2)\n",
      "Requirement already satisfied: pyparsing!=2.0.4,!=2.1.2,!=2.1.6,>=2.0.1 in /opt/conda/envs/python35-paddle120-env/lib/python3.7/site-packages (from matplotlib->paddlehub==2.1.0->paddlex<=1.3.11) (3.0.9)\n",
      "Requirement already satisfied: cycler>=0.10 in /opt/conda/envs/python35-paddle120-env/lib/python3.7/site-packages (from matplotlib->paddlehub==2.1.0->paddlex<=1.3.11) (0.10.0)\n",
      "Requirement already satisfied: jieba in /opt/conda/envs/python35-paddle120-env/lib/python3.7/site-packages (from paddlenlp>=2.0.0rc5->paddlehub==2.1.0->paddlex<=1.3.11) (0.42.1)\n",
      "Requirement already satisfied: seqeval in /opt/conda/envs/python35-paddle120-env/lib/python3.7/site-packages (from paddlenlp>=2.0.0rc5->paddlehub==2.1.0->paddlex<=1.3.11) (1.2.2)\n",
      "Requirement already satisfied: h5py in /opt/conda/envs/python35-paddle120-env/lib/python3.7/site-packages (from paddlenlp>=2.0.0rc5->paddlehub==2.1.0->paddlex<=1.3.11) (2.9.0)\n",
      "Requirement already satisfied: future>=0.6.0 in /opt/conda/envs/python35-paddle120-env/lib/python3.7/site-packages (from bce-python-sdk->visualdl>=2.0.0->paddlex<=1.3.11) (0.18.0)\n",
      "Requirement already satisfied: pycryptodome>=3.8.0 in /opt/conda/envs/python35-paddle120-env/lib/python3.7/site-packages (from bce-python-sdk->visualdl>=2.0.0->paddlex<=1.3.11) (3.9.9)\n",
      "Requirement already satisfied: gitdb<5,>=4.0.1 in /opt/conda/envs/python35-paddle120-env/lib/python3.7/site-packages (from gitpython->paddlehub==2.1.0->paddlex<=1.3.11) (4.0.5)\n",
      "Requirement already satisfied: aspy.yaml in /opt/conda/envs/python35-paddle120-env/lib/python3.7/site-packages (from pre-commit->visualdl>=2.0.0->paddlex<=1.3.11) (1.3.0)\n",
      "Requirement already satisfied: nodeenv>=0.11.1 in /opt/conda/envs/python35-paddle120-env/lib/python3.7/site-packages (from pre-commit->visualdl>=2.0.0->paddlex<=1.3.11) (1.3.4)\n",
      "Requirement already satisfied: toml in /opt/conda/envs/python35-paddle120-env/lib/python3.7/site-packages (from pre-commit->visualdl>=2.0.0->paddlex<=1.3.11) (0.10.0)\n",
      "Requirement already satisfied: identify>=1.0.0 in /opt/conda/envs/python35-paddle120-env/lib/python3.7/site-packages (from pre-commit->visualdl>=2.0.0->paddlex<=1.3.11) (1.4.10)\n",
      "Requirement already satisfied: virtualenv>=15.2 in /opt/conda/envs/python35-paddle120-env/lib/python3.7/site-packages (from pre-commit->visualdl>=2.0.0->paddlex<=1.3.11) (16.7.9)\n",
      "Requirement already satisfied: cfgv>=2.0.0 in /opt/conda/envs/python35-paddle120-env/lib/python3.7/site-packages (from pre-commit->visualdl>=2.0.0->paddlex<=1.3.11) (2.0.1)\n",
      "Requirement already satisfied: certifi>=2017.4.17 in /opt/conda/envs/python35-paddle120-env/lib/python3.7/site-packages (from requests->visualdl>=2.0.0->paddlex<=1.3.11) (2019.9.11)\n",
      "Requirement already satisfied: urllib3!=1.25.0,!=1.25.1,<1.26,>=1.21.1 in /opt/conda/envs/python35-paddle120-env/lib/python3.7/site-packages (from requests->visualdl>=2.0.0->paddlex<=1.3.11) (1.25.6)\n",
      "Requirement already satisfied: chardet<3.1.0,>=3.0.2 in /opt/conda/envs/python35-paddle120-env/lib/python3.7/site-packages (from requests->visualdl>=2.0.0->paddlex<=1.3.11) (3.0.4)\n",
      "Requirement already satisfied: idna<2.9,>=2.5 in /opt/conda/envs/python35-paddle120-env/lib/python3.7/site-packages (from requests->visualdl>=2.0.0->paddlex<=1.3.11) (2.8)\n",
      "Requirement already satisfied: joblib>=0.11 in /opt/conda/envs/python35-paddle120-env/lib/python3.7/site-packages (from scikit-learn->sklearn->paddlex<=1.3.11) (0.14.1)\n",
      "Requirement already satisfied: scipy>=0.17.0 in /opt/conda/envs/python35-paddle120-env/lib/python3.7/site-packages (from scikit-learn->sklearn->paddlex<=1.3.11) (1.3.0)\n",
      "Requirement already satisfied: smmap<4,>=3.0.1 in /opt/conda/envs/python35-paddle120-env/lib/python3.7/site-packages (from gitdb<5,>=4.0.1->gitpython->paddlehub==2.1.0->paddlex<=1.3.11) (3.0.5)\n",
      "Requirement already satisfied: typing-extensions>=3.6.4 in /opt/conda/envs/python35-paddle120-env/lib/python3.7/site-packages (from importlib-metadata<4.3->flake8>=3.7.9->visualdl>=2.0.0->paddlex<=1.3.11) (4.3.0)\n",
      "Requirement already satisfied: zipp>=0.5 in /opt/conda/envs/python35-paddle120-env/lib/python3.7/site-packages (from importlib-metadata<4.3->flake8>=3.7.9->visualdl>=2.0.0->paddlex<=1.3.11) (3.8.1)\n",
      "Requirement already satisfied: MarkupSafe>=2.0.0rc2 in /opt/conda/envs/python35-paddle120-env/lib/python3.7/site-packages (from Jinja2>=2.10.1->flask>=1.1.0->paddlehub==2.1.0->paddlex<=1.3.11) (2.1.1)\n",
      "Installing collected packages: xlwt, paddle2onnx, shapely, paddleslim, pycocotools, paddlehub, paddlex\n",
      "  Attempting uninstall: paddlehub\n",
      "    Found existing installation: paddlehub 2.0.4\n",
      "    Uninstalling paddlehub-2.0.4:\n",
      "      Successfully uninstalled paddlehub-2.0.4\n",
      "Successfully installed paddle2onnx-1.1.0 paddlehub-2.1.0 paddleslim-1.1.1 paddlex-1.3.11 pycocotools-2.0.7 shapely-2.0.2 xlwt-1.3.0\n",
      "\n",
      "\u001B[1m[\u001B[0m\u001B[34;49mnotice\u001B[0m\u001B[1;39;49m]\u001B[0m\u001B[39;49m A new release of pip available: \u001B[0m\u001B[31;49m22.1.2\u001B[0m\u001B[39;49m -> \u001B[0m\u001B[32;49m23.3.2\u001B[0m\n",
      "\u001B[1m[\u001B[0m\u001B[34;49mnotice\u001B[0m\u001B[1;39;49m]\u001B[0m\u001B[39;49m To update, run: \u001B[0m\u001B[32;49mpip install --upgrade pip\u001B[0m\n"
     ]
    }
   ],
   "source": [
    "! pip install \"paddlex<=1.3.11\" -i https://mirror.baidu.com/pypi/simple"
   ]
  },
  {
   "cell_type": "markdown",
   "metadata": {
    "collapsed": false
   },
   "source": [
    "## 2. 准备昆虫目标检测数据集"
   ]
  },
  {
   "cell_type": "code",
   "execution_count": 2,
   "metadata": {
    "collapsed": false
   },
   "outputs": [
    {
     "name": "stdout",
     "output_type": "stream",
     "text": [
      "--2024-01-13 20:02:41--  https://bj.bcebos.com/paddlex/datasets/insect_det.tar.gz\n",
      "Resolving bj.bcebos.com (bj.bcebos.com)... 182.61.200.229, 182.61.200.195, 2409:8c04:1001:1002:0:ff:b001:368a\n",
      "Connecting to bj.bcebos.com (bj.bcebos.com)|182.61.200.229|:443... connected.\n",
      "HTTP request sent, awaiting response... 200 OK\n",
      "Length: 17304082 (17M) [application/octet-stream]\n",
      "Saving to: ‘insect_det.tar.gz.1’\n",
      "\n",
      "insect_det.tar.gz.1 100%[===================>]  16.50M  92.6MB/s    in 0.2s    \n",
      "\n",
      "2024-01-13 20:02:41 (92.6 MB/s) - ‘insect_det.tar.gz.1’ saved [17304082/17304082]\n"
     ]
    }
   ],
   "source": [
    "! wget https://bj.bcebos.com/paddlex/datasets/insect_det.tar.gz\n",
    "! tar xzf insect_det.tar.gz"
   ]
  },
  {
   "cell_type": "markdown",
   "metadata": {
    "collapsed": false
   },
   "source": [
    "## 3. 模型训练\n",
    "\n",
    "### 3.1 配置GPU"
   ]
  },
  {
   "cell_type": "code",
   "execution_count": 3,
   "metadata": {
    "collapsed": false
   },
   "outputs": [],
   "source": [
    "# 设置使用0号GPU卡（如无GPU，执行此代码后仍然会使用CPU训练模型）\n",
    "import matplotlib\n",
    "matplotlib.use('Agg') \n",
    "import os\n",
    "os.environ['CUDA_VISIBLE_DEVICES'] = '0'\n",
    "import paddlex as pdx"
   ]
  },
  {
   "cell_type": "markdown",
   "metadata": {
    "collapsed": false
   },
   "source": [
    "### 3.2 定义图像处理流程transforms\n",
    "定义数据处理流程，其中训练和测试需分别定义，训练过程包括了部分测试过程中不需要的数据增强操作，如在本示例中，训练过程使用了`RandomHorizontalFlip`数据增强方式，更多图像预处理流程transforms的使用可参见[paddlex.det.transforms](https://paddlex.readthedocs.io/zh_CN/develop/apis/transforms/det_transforms.html)。"
   ]
  },
  {
   "cell_type": "code",
   "execution_count": 4,
   "metadata": {
    "collapsed": false
   },
   "outputs": [],
   "source": [
    "from paddlex.det import transforms\n",
    "train_transforms = transforms.Compose([\n",
    "    transforms.RandomHorizontalFlip(),\n",
    "    transforms.Normalize(),\n",
    "    transforms.ResizeByShort(short_size=800, max_size=1333),\n",
    "    transforms.Padding(coarsest_stride=32)\n",
    "])\n",
    "\n",
    "eval_transforms = transforms.Compose([\n",
    "    transforms.Normalize(),\n",
    "    transforms.ResizeByShort(short_size=800, max_size=1333),\n",
    "    transforms.Padding(coarsest_stride=32),\n",
    "])"
   ]
  },
  {
   "cell_type": "markdown",
   "metadata": {
    "collapsed": false
   },
   "source": [
    "### 3.3 定义数据集Dataset\n",
    "目标检测可使用`VOCDetection`格式和`COCODetection`两种数据集，此处由于数据集为VOC格式，因此采用`pdx.datasets.VOCDetection`来加载数据集，该接口的介绍可参见文档[paddlex.datasets.VOCDetection](https://paddlex.readthedocs.io/zh_CN/develop/apis/datasets.html#paddlex-datasets-vocdetection)。"
   ]
  },
  {
   "cell_type": "code",
   "execution_count": 5,
   "metadata": {
    "collapsed": false
   },
   "outputs": [
    {
     "name": "stdout",
     "output_type": "stream",
     "text": [
      "2024-01-13 20:02:44 [INFO]\tStarting to read file list from dataset...\n",
      "2024-01-13 20:02:45 [INFO]\t169 samples in file insect_det/train_list.txt\n",
      "creating index...\n",
      "index created!\n",
      "2024-01-13 20:02:45 [INFO]\tStarting to read file list from dataset...\n",
      "2024-01-13 20:02:45 [INFO]\t24 samples in file insect_det/val_list.txt\n",
      "creating index...\n",
      "index created!\n"
     ]
    }
   ],
   "source": [
    "train_dataset = pdx.datasets.VOCDetection(\n",
    "    data_dir='insect_det',\n",
    "    file_list='insect_det/train_list.txt',\n",
    "    label_list='insect_det/labels.txt',\n",
    "    transforms=train_transforms,\n",
    "    shuffle=True)\n",
    "eval_dataset = pdx.datasets.VOCDetection(\n",
    "    data_dir='insect_det',\n",
    "    file_list='insect_det/val_list.txt',\n",
    "    label_list='insect_det/labels.txt',\n",
    "    transforms=eval_transforms)"
   ]
  },
  {
   "cell_type": "markdown",
   "metadata": {
    "collapsed": false
   },
   "source": [
    "### 3.4 模型开始训练\n",
    "使用本数据集在P40上训练，如有GPU，模型的训练过程预估为9分钟左右；如无GPU，则预估为6小时左右。更多训练模型的参数可参见文档[paddlex.det.FasterRCNN](https://paddlex.readthedocs.io/zh_CN/develop/apis/models/detection.html#paddlex-det-fasterrcnn)。模型训练过程每间隔save_interval_epochs轮会保存一次模型在save_dir目录下，同时在保存的过程中也会在验证数据集上计算相关指标，具体相关日志参见[文档](https://paddlex.readthedocs.io/zh_CN/develop/appendix/metrics.html#fasterrcnn)。  \n",
    "\n",
    "**AIStudio使用VisualDL查看训练过程中的指标变化**  \n",
    "1. 点击左边菜单图标的『**可视化**』；  \n",
    "2. 设置logdir，logdir的路径为训练代码中`save_dir`指定的目录下的vdl_log目录，例如`output/faster_rcnn_r50_fpn/vdl_log`  \n",
    "3. 点击下方『**启动VisualDL服务按钮**』，再『**打开VisualDL**』即可"
   ]
  },
  {
   "cell_type": "code",
   "execution_count": 6,
   "metadata": {
    "collapsed": false
   },
   "outputs": [
    {
     "name": "stderr",
     "output_type": "stream",
     "text": [
      "2024-01-13 20:02:46,386-INFO: If regularizer of a Parameter has been set by 'fluid.ParamAttr' or 'fluid.WeightNormParamAttr' already. The Regularization[L2Decay, regularization_coeff=0.000100] in Optimizer will not take effect, and it will only be applied to other Parameters!\n"
     ]
    },
    {
     "name": "stdout",
     "output_type": "stream",
     "text": [
      "2024-01-13 20:02:47 [INFO]\tDownloading ResNet50_cos_pretrained.tar from https://paddle-imagenet-models-name.bj.bcebos.com/ResNet50_cos_pretrained.tar\n"
     ]
    },
    {
     "name": "stderr",
     "output_type": "stream",
     "text": [
      "100%|██████████| 100310/100310 [00:01<00:00, 55497.64KB/s]\n"
     ]
    },
    {
     "name": "stdout",
     "output_type": "stream",
     "text": [
      "2024-01-13 20:02:49 [INFO]\tDecompressing output/faster_rcnn_r50_fpn/pretrain/ResNet50_cos_pretrained.tar...\n"
     ]
    },
    {
     "name": "stderr",
     "output_type": "stream",
     "text": [
      "W0113 20:02:49.549751    98 device_context.cc:252] Please NOTE: device: 0, CUDA Capability: 70, Driver API Version: 12.0, Runtime API Version: 9.0\n",
      "W0113 20:02:49.614439    98 device_context.cc:260] device: 0, cuDNN Version: 7.6.\n"
     ]
    },
    {
     "name": "stdout",
     "output_type": "stream",
     "text": [
      "2024-01-13 20:02:53 [INFO]\tLoad pretrain weights from output/faster_rcnn_r50_fpn/pretrain/ResNet50_cos_pretrained.\n"
     ]
    },
    {
     "name": "stderr",
     "output_type": "stream",
     "text": [
      "2024-01-13 20:02:53,440-WARNING: output/faster_rcnn_r50_fpn/pretrain/ResNet50_cos_pretrained.pdparams not found, try to load model file saved with [ save_params, save_persistables, save_vars ]\n"
     ]
    },
    {
     "name": "stdout",
     "output_type": "stream",
     "text": [
      "2024-01-13 20:02:53 [INFO]\tThere are 265 varaibles in output/faster_rcnn_r50_fpn/pretrain/ResNet50_cos_pretrained are loaded.\n",
      "2024-01-13 20:03:03 [INFO]\t[TRAIN] Epoch=1/12, Step=2/84, loss=2.486468, loss_cls=1.714386, loss_bbox=0.023146, loss_rpn_cls=0.690702, loss_rpn_bbox=0.058233, lr=0.000837, time_each_step=4.46s, eta=1:25:29\n",
      "2024-01-13 20:03:03 [INFO]\t[TRAIN] Epoch=1/12, Step=4/84, loss=1.324529, loss_cls=0.574088, loss_bbox=1e-05, loss_rpn_cls=0.686696, loss_rpn_bbox=0.063735, lr=0.000843, time_each_step=2.43s, eta=0:46:27\n",
      "2024-01-13 20:03:04 [INFO]\t[TRAIN] Epoch=1/12, Step=6/84, loss=0.986875, loss_cls=0.25629, loss_bbox=0.015699, loss_rpn_cls=0.675351, loss_rpn_bbox=0.039534, lr=0.00085, time_each_step=1.75s, eta=0:33:27\n",
      "2024-01-13 20:03:05 [INFO]\t[TRAIN] Epoch=1/12, Step=8/84, loss=1.027434, loss_cls=0.291778, loss_bbox=0.026817, loss_rpn_cls=0.654977, loss_rpn_bbox=0.053863, lr=0.000857, time_each_step=1.42s, eta=0:27:1\n",
      "2024-01-13 20:03:06 [INFO]\t[TRAIN] Epoch=1/12, Step=10/84, loss=1.137333, loss_cls=0.426045, loss_bbox=0.038998, loss_rpn_cls=0.629752, loss_rpn_bbox=0.042538, lr=0.000863, time_each_step=1.2s, eta=0:22:52\n",
      "2024-01-13 20:03:06 [INFO]\t[TRAIN] Epoch=1/12, Step=12/84, loss=0.927253, loss_cls=0.282084, loss_bbox=0.016449, loss_rpn_cls=0.598618, loss_rpn_bbox=0.030101, lr=0.00087, time_each_step=1.04s, eta=0:19:46\n",
      "2024-01-13 20:03:06 [INFO]\t[TRAIN] Epoch=1/12, Step=14/84, loss=1.010504, loss_cls=0.35979, loss_bbox=0.067094, loss_rpn_cls=0.557277, loss_rpn_bbox=0.026343, lr=0.000877, time_each_step=0.91s, eta=0:17:21\n",
      "2024-01-13 20:03:07 [INFO]\t[TRAIN] Epoch=1/12, Step=16/84, loss=0.875526, loss_cls=0.263525, loss_bbox=0.055253, loss_rpn_cls=0.528369, loss_rpn_bbox=0.02838, lr=0.000883, time_each_step=0.82s, eta=0:15:31\n",
      "2024-01-13 20:03:07 [INFO]\t[TRAIN] Epoch=1/12, Step=18/84, loss=0.839006, loss_cls=0.258034, loss_bbox=0.0725, loss_rpn_cls=0.480592, loss_rpn_bbox=0.02788, lr=0.00089, time_each_step=0.75s, eta=0:14:6\n",
      "2024-01-13 20:03:07 [INFO]\t[TRAIN] Epoch=1/12, Step=20/84, loss=0.829135, loss_cls=0.325121, loss_bbox=0.088462, loss_rpn_cls=0.385046, loss_rpn_bbox=0.030506, lr=0.000897, time_each_step=0.69s, eta=0:12:58\n",
      "2024-01-13 20:03:08 [INFO]\t[TRAIN] Epoch=1/12, Step=22/84, loss=0.902651, loss_cls=0.401523, loss_bbox=0.195121, loss_rpn_cls=0.276795, loss_rpn_bbox=0.029211, lr=0.000903, time_each_step=0.26s, eta=0:4:50\n",
      "2024-01-13 20:03:08 [INFO]\t[TRAIN] Epoch=1/12, Step=24/84, loss=0.719839, loss_cls=0.323928, loss_bbox=0.155604, loss_rpn_cls=0.215082, loss_rpn_bbox=0.025225, lr=0.00091, time_each_step=0.23s, eta=0:4:21\n",
      "2024-01-13 20:03:08 [INFO]\t[TRAIN] Epoch=1/12, Step=26/84, loss=0.812547, loss_cls=0.416842, loss_bbox=0.164792, loss_rpn_cls=0.196006, loss_rpn_bbox=0.034908, lr=0.000917, time_each_step=0.21s, eta=0:3:52\n",
      "2024-01-13 20:03:09 [INFO]\t[TRAIN] Epoch=1/12, Step=28/84, loss=0.956728, loss_cls=0.505636, loss_bbox=0.238054, loss_rpn_cls=0.182522, loss_rpn_bbox=0.030515, lr=0.000923, time_each_step=0.18s, eta=0:3:20\n",
      "2024-01-13 20:03:09 [INFO]\t[TRAIN] Epoch=1/12, Step=30/84, loss=0.689601, loss_cls=0.358782, loss_bbox=0.184077, loss_rpn_cls=0.123821, loss_rpn_bbox=0.022921, lr=0.00093, time_each_step=0.16s, eta=0:2:57\n",
      "2024-01-13 20:03:09 [INFO]\t[TRAIN] Epoch=1/12, Step=32/84, loss=0.802462, loss_cls=0.448559, loss_bbox=0.201456, loss_rpn_cls=0.129745, loss_rpn_bbox=0.022701, lr=0.000937, time_each_step=0.15s, eta=0:2:46\n",
      "2024-01-13 20:03:09 [INFO]\t[TRAIN] Epoch=1/12, Step=34/84, loss=0.954094, loss_cls=0.555915, loss_bbox=0.239916, loss_rpn_cls=0.133078, loss_rpn_bbox=0.025184, lr=0.000943, time_each_step=0.15s, eta=0:2:43\n",
      "2024-01-13 20:03:10 [INFO]\t[TRAIN] Epoch=1/12, Step=36/84, loss=0.646075, loss_cls=0.340886, loss_bbox=0.177543, loss_rpn_cls=0.105544, loss_rpn_bbox=0.022102, lr=0.00095, time_each_step=0.15s, eta=0:2:43\n",
      "2024-01-13 20:03:10 [INFO]\t[TRAIN] Epoch=1/12, Step=38/84, loss=0.640345, loss_cls=0.351426, loss_bbox=0.193501, loss_rpn_cls=0.074736, loss_rpn_bbox=0.020682, lr=0.000957, time_each_step=0.14s, eta=0:2:40\n",
      "2024-01-13 20:03:10 [INFO]\t[TRAIN] Epoch=1/12, Step=40/84, loss=0.977456, loss_cls=0.553341, loss_bbox=0.271384, loss_rpn_cls=0.129891, loss_rpn_bbox=0.02284, lr=0.000963, time_each_step=0.14s, eta=0:2:38\n",
      "2024-01-13 20:03:10 [INFO]\t[TRAIN] Epoch=1/12, Step=42/84, loss=0.707477, loss_cls=0.349463, loss_bbox=0.187563, loss_rpn_cls=0.136929, loss_rpn_bbox=0.033523, lr=0.00097, time_each_step=0.14s, eta=0:2:34\n",
      "2024-01-13 20:03:11 [INFO]\t[TRAIN] Epoch=1/12, Step=44/84, loss=0.882438, loss_cls=0.48173, loss_bbox=0.232449, loss_rpn_cls=0.131421, loss_rpn_bbox=0.036838, lr=0.000977, time_each_step=0.14s, eta=0:2:34\n",
      "2024-01-13 20:03:11 [INFO]\t[TRAIN] Epoch=1/12, Step=46/84, loss=0.949778, loss_cls=0.503549, loss_bbox=0.264394, loss_rpn_cls=0.148438, loss_rpn_bbox=0.033397, lr=0.000983, time_each_step=0.14s, eta=0:2:32\n",
      "2024-01-13 20:03:11 [INFO]\t[TRAIN] Epoch=1/12, Step=48/84, loss=0.989067, loss_cls=0.521125, loss_bbox=0.294267, loss_rpn_cls=0.139997, loss_rpn_bbox=0.033678, lr=0.00099, time_each_step=0.14s, eta=0:2:32\n",
      "2024-01-13 20:03:12 [INFO]\t[TRAIN] Epoch=1/12, Step=50/84, loss=1.104085, loss_cls=0.579855, loss_bbox=0.338072, loss_rpn_cls=0.150537, loss_rpn_bbox=0.035621, lr=0.000997, time_each_step=0.14s, eta=0:2:32\n",
      "2024-01-13 20:03:12 [INFO]\t[TRAIN] Epoch=1/12, Step=52/84, loss=0.776566, loss_cls=0.398313, loss_bbox=0.203988, loss_rpn_cls=0.140746, loss_rpn_bbox=0.033519, lr=0.001003, time_each_step=0.14s, eta=0:2:31\n",
      "2024-01-13 20:03:12 [INFO]\t[TRAIN] Epoch=1/12, Step=54/84, loss=0.763329, loss_cls=0.397291, loss_bbox=0.236553, loss_rpn_cls=0.105776, loss_rpn_bbox=0.023709, lr=0.00101, time_each_step=0.14s, eta=0:2:32\n",
      "2024-01-13 20:03:12 [INFO]\t[TRAIN] Epoch=1/12, Step=56/84, loss=0.731319, loss_cls=0.367851, loss_bbox=0.201966, loss_rpn_cls=0.136243, loss_rpn_bbox=0.025259, lr=0.001017, time_each_step=0.14s, eta=0:2:29\n",
      "2024-01-13 20:03:13 [INFO]\t[TRAIN] Epoch=1/12, Step=58/84, loss=1.13627, loss_cls=0.59852, loss_bbox=0.364219, loss_rpn_cls=0.135115, loss_rpn_bbox=0.038415, lr=0.001023, time_each_step=0.14s, eta=0:2:29\n",
      "2024-01-13 20:03:13 [INFO]\t[TRAIN] Epoch=1/12, Step=60/84, loss=1.110854, loss_cls=0.633465, loss_bbox=0.368338, loss_rpn_cls=0.082115, loss_rpn_bbox=0.026936, lr=0.00103, time_each_step=0.14s, eta=0:2:29\n",
      "2024-01-13 20:03:13 [INFO]\t[TRAIN] Epoch=1/12, Step=62/84, loss=1.282665, loss_cls=0.655672, loss_bbox=0.438557, loss_rpn_cls=0.145094, loss_rpn_bbox=0.043342, lr=0.001037, time_each_step=0.14s, eta=0:2:29\n",
      "2024-01-13 20:03:13 [INFO]\t[TRAIN] Epoch=1/12, Step=64/84, loss=0.864563, loss_cls=0.473455, loss_bbox=0.283751, loss_rpn_cls=0.089357, loss_rpn_bbox=0.018, lr=0.001043, time_each_step=0.14s, eta=0:2:29\n",
      "2024-01-13 20:03:14 [INFO]\t[TRAIN] Epoch=1/12, Step=66/84, loss=1.253318, loss_cls=0.708004, loss_bbox=0.399569, loss_rpn_cls=0.112468, loss_rpn_bbox=0.033276, lr=0.00105, time_each_step=0.14s, eta=0:2:29\n",
      "2024-01-13 20:03:14 [INFO]\t[TRAIN] Epoch=1/12, Step=68/84, loss=0.996687, loss_cls=0.513795, loss_bbox=0.334552, loss_rpn_cls=0.116857, loss_rpn_bbox=0.031483, lr=0.001057, time_each_step=0.14s, eta=0:2:29\n",
      "2024-01-13 20:03:14 [INFO]\t[TRAIN] Epoch=1/12, Step=70/84, loss=0.92413, loss_cls=0.466708, loss_bbox=0.302064, loss_rpn_cls=0.116461, loss_rpn_bbox=0.038897, lr=0.001063, time_each_step=0.14s, eta=0:2:29\n",
      "2024-01-13 20:03:15 [INFO]\t[TRAIN] Epoch=1/12, Step=72/84, loss=0.92287, loss_cls=0.483943, loss_bbox=0.315646, loss_rpn_cls=0.098287, loss_rpn_bbox=0.024994, lr=0.00107, time_each_step=0.14s, eta=0:2:29\n",
      "2024-01-13 20:03:15 [INFO]\t[TRAIN] Epoch=1/12, Step=74/84, loss=0.824782, loss_cls=0.438221, loss_bbox=0.286485, loss_rpn_cls=0.073274, loss_rpn_bbox=0.026801, lr=0.001077, time_each_step=0.14s, eta=0:2:28\n",
      "2024-01-13 20:03:15 [INFO]\t[TRAIN] Epoch=1/12, Step=76/84, loss=1.085192, loss_cls=0.611932, loss_bbox=0.359971, loss_rpn_cls=0.094816, loss_rpn_bbox=0.018473, lr=0.001083, time_each_step=0.14s, eta=0:2:27\n",
      "2024-01-13 20:03:15 [INFO]\t[TRAIN] Epoch=1/12, Step=78/84, loss=1.036587, loss_cls=0.571334, loss_bbox=0.354376, loss_rpn_cls=0.082961, loss_rpn_bbox=0.027917, lr=0.00109, time_each_step=0.14s, eta=0:2:26\n",
      "2024-01-13 20:03:16 [INFO]\t[TRAIN] Epoch=1/12, Step=80/84, loss=1.097857, loss_cls=0.605645, loss_bbox=0.364997, loss_rpn_cls=0.096514, loss_rpn_bbox=0.0307, lr=0.001097, time_each_step=0.14s, eta=0:2:25\n",
      "2024-01-13 20:03:16 [INFO]\t[TRAIN] Epoch=1/12, Step=82/84, loss=1.302763, loss_cls=0.674773, loss_bbox=0.484411, loss_rpn_cls=0.111623, loss_rpn_bbox=0.031956, lr=0.001103, time_each_step=0.14s, eta=0:2:25\n",
      "2024-01-13 20:03:16 [INFO]\t[TRAIN] Epoch=1/12, Step=84/84, loss=1.042106, loss_cls=0.541518, loss_bbox=0.349685, loss_rpn_cls=0.118218, loss_rpn_bbox=0.032685, lr=0.00111, time_each_step=0.14s, eta=0:2:25\n",
      "2024-01-13 20:03:16 [INFO]\t[TRAIN] Epoch 1 finished, loss=0.983755, loss_cls=0.494983, loss_bbox=0.219044, loss_rpn_cls=0.238223, loss_rpn_bbox=0.031504, lr=0.000972 .\n",
      "2024-01-13 20:03:16 [WARNING]\tFaster RCNN supports batch_size=1 only during evaluating, so batch_size is forced to be set to 1.\n",
      "2024-01-13 20:03:16 [INFO]\tStart to evaluating(total_samples=24, total_steps=24)...\n"
     ]
    },
    {
     "name": "stderr",
     "output_type": "stream",
     "text": [
      "100%|██████████| 24/24 [00:05<00:00,  4.70it/s]\n"
     ]
    },
    {
     "name": "stdout",
     "output_type": "stream",
     "text": [
      "2024-01-13 20:03:21 [INFO]\t[EVAL] Finished, Epoch=1, bbox_map=8.362685 .\n",
      "2024-01-13 20:03:26 [INFO]\tModel saved in output/faster_rcnn_r50_fpn/best_model.\n",
      "2024-01-13 20:03:30 [INFO]\tModel saved in output/faster_rcnn_r50_fpn/epoch_1.\n",
      "2024-01-13 20:03:30 [INFO]\tCurrent evaluated best model in eval_dataset is epoch_1, bbox_map=8.362684594288451\n",
      "2024-01-13 20:03:37 [INFO]\t[TRAIN] Epoch=2/12, Step=2/84, loss=1.203854, loss_cls=0.629111, loss_bbox=0.391916, loss_rpn_cls=0.147956, loss_rpn_bbox=0.034872, lr=0.001117, time_each_step=0.48s, eta=0:6:58\n",
      "2024-01-13 20:03:38 [INFO]\t[TRAIN] Epoch=2/12, Step=4/84, loss=1.123783, loss_cls=0.604514, loss_bbox=0.41282, loss_rpn_cls=0.07895, loss_rpn_bbox=0.027499, lr=0.001123, time_each_step=0.51s, eta=0:7:0\n",
      "2024-01-13 20:03:39 [INFO]\t[TRAIN] Epoch=2/12, Step=6/84, loss=1.12295, loss_cls=0.640848, loss_bbox=0.369273, loss_rpn_cls=0.090777, loss_rpn_bbox=0.022052, lr=0.00113, time_each_step=0.54s, eta=0:7:1\n",
      "2024-01-13 20:03:40 [INFO]\t[TRAIN] Epoch=2/12, Step=8/84, loss=1.044299, loss_cls=0.56199, loss_bbox=0.374254, loss_rpn_cls=0.089505, loss_rpn_bbox=0.01855, lr=0.001137, time_each_step=0.57s, eta=0:7:2\n",
      "2024-01-13 20:03:41 [INFO]\t[TRAIN] Epoch=2/12, Step=10/84, loss=0.960491, loss_cls=0.517741, loss_bbox=0.327749, loss_rpn_cls=0.083463, loss_rpn_bbox=0.031538, lr=0.001143, time_each_step=0.59s, eta=0:7:3\n",
      "2024-01-13 20:03:41 [INFO]\t[TRAIN] Epoch=2/12, Step=12/84, loss=1.175399, loss_cls=0.636869, loss_bbox=0.386434, loss_rpn_cls=0.120828, loss_rpn_bbox=0.031269, lr=0.00115, time_each_step=0.62s, eta=0:7:3\n",
      "2024-01-13 20:03:42 [INFO]\t[TRAIN] Epoch=2/12, Step=14/84, loss=1.049436, loss_cls=0.546051, loss_bbox=0.395044, loss_rpn_cls=0.083203, loss_rpn_bbox=0.025137, lr=0.001157, time_each_step=0.63s, eta=0:7:3\n",
      "2024-01-13 20:03:42 [INFO]\t[TRAIN] Epoch=2/12, Step=16/84, loss=1.109099, loss_cls=0.551593, loss_bbox=0.418402, loss_rpn_cls=0.099165, loss_rpn_bbox=0.03994, lr=0.001163, time_each_step=0.63s, eta=0:7:2\n",
      "2024-01-13 20:03:43 [INFO]\t[TRAIN] Epoch=2/12, Step=18/84, loss=0.976576, loss_cls=0.546343, loss_bbox=0.358903, loss_rpn_cls=0.056957, loss_rpn_bbox=0.014373, lr=0.00117, time_each_step=0.64s, eta=0:7:1\n",
      "2024-01-13 20:03:43 [INFO]\t[TRAIN] Epoch=2/12, Step=20/84, loss=1.208688, loss_cls=0.648626, loss_bbox=0.432947, loss_rpn_cls=0.095154, loss_rpn_bbox=0.031961, lr=0.001177, time_each_step=0.64s, eta=0:7:0\n",
      "2024-01-13 20:03:43 [INFO]\t[TRAIN] Epoch=2/12, Step=22/84, loss=1.366914, loss_cls=0.679815, loss_bbox=0.558533, loss_rpn_cls=0.094675, loss_rpn_bbox=0.033891, lr=0.001183, time_each_step=0.3s, eta=0:6:37\n",
      "2024-01-13 20:03:44 [INFO]\t[TRAIN] Epoch=2/12, Step=24/84, loss=0.971377, loss_cls=0.511305, loss_bbox=0.388727, loss_rpn_cls=0.055914, loss_rpn_bbox=0.015431, lr=0.00119, time_each_step=0.27s, eta=0:6:35\n",
      "2024-01-13 20:03:44 [INFO]\t[TRAIN] Epoch=2/12, Step=26/84, loss=1.071724, loss_cls=0.586965, loss_bbox=0.405071, loss_rpn_cls=0.061728, loss_rpn_bbox=0.017959, lr=0.001197, time_each_step=0.24s, eta=0:6:33\n",
      "2024-01-13 20:03:44 [INFO]\t[TRAIN] Epoch=2/12, Step=28/84, loss=1.007249, loss_cls=0.52349, loss_bbox=0.396066, loss_rpn_cls=0.066321, loss_rpn_bbox=0.021372, lr=0.001203, time_each_step=0.22s, eta=0:6:31\n",
      "2024-01-13 20:03:44 [INFO]\t[TRAIN] Epoch=2/12, Step=30/84, loss=1.056949, loss_cls=0.554742, loss_bbox=0.419729, loss_rpn_cls=0.065327, loss_rpn_bbox=0.017152, lr=0.00121, time_each_step=0.19s, eta=0:6:29\n",
      "2024-01-13 20:03:45 [INFO]\t[TRAIN] Epoch=2/12, Step=32/84, loss=1.159644, loss_cls=0.618099, loss_bbox=0.421696, loss_rpn_cls=0.091685, loss_rpn_bbox=0.028164, lr=0.001217, time_each_step=0.17s, eta=0:6:28\n",
      "2024-01-13 20:03:45 [INFO]\t[TRAIN] Epoch=2/12, Step=34/84, loss=1.238923, loss_cls=0.62663, loss_bbox=0.509674, loss_rpn_cls=0.08081, loss_rpn_bbox=0.021809, lr=0.001223, time_each_step=0.16s, eta=0:6:27\n",
      "2024-01-13 20:03:45 [INFO]\t[TRAIN] Epoch=2/12, Step=36/84, loss=1.213098, loss_cls=0.638488, loss_bbox=0.458203, loss_rpn_cls=0.090288, loss_rpn_bbox=0.026118, lr=0.00123, time_each_step=0.16s, eta=0:6:26\n",
      "2024-01-13 20:03:46 [INFO]\t[TRAIN] Epoch=2/12, Step=38/84, loss=1.144452, loss_cls=0.572578, loss_bbox=0.491954, loss_rpn_cls=0.062828, loss_rpn_bbox=0.017092, lr=0.001237, time_each_step=0.15s, eta=0:6:26\n",
      "2024-01-13 20:03:46 [INFO]\t[TRAIN] Epoch=2/12, Step=40/84, loss=1.390063, loss_cls=0.689195, loss_bbox=0.552482, loss_rpn_cls=0.10426, loss_rpn_bbox=0.044126, lr=0.001243, time_each_step=0.15s, eta=0:6:25\n",
      "2024-01-13 20:03:46 [INFO]\t[TRAIN] Epoch=2/12, Step=42/84, loss=1.32539, loss_cls=0.711999, loss_bbox=0.502511, loss_rpn_cls=0.080076, loss_rpn_bbox=0.030804, lr=0.00125, time_each_step=0.15s, eta=0:6:25\n",
      "2024-01-13 20:03:46 [INFO]\t[TRAIN] Epoch=2/12, Step=44/84, loss=1.26812, loss_cls=0.630432, loss_bbox=0.543198, loss_rpn_cls=0.071601, loss_rpn_bbox=0.022889, lr=0.001257, time_each_step=0.14s, eta=0:6:25\n",
      "2024-01-13 20:03:47 [INFO]\t[TRAIN] Epoch=2/12, Step=46/84, loss=1.02532, loss_cls=0.557976, loss_bbox=0.36878, loss_rpn_cls=0.074722, loss_rpn_bbox=0.023843, lr=0.001263, time_each_step=0.14s, eta=0:6:24\n",
      "2024-01-13 20:03:47 [INFO]\t[TRAIN] Epoch=2/12, Step=48/84, loss=0.887995, loss_cls=0.445845, loss_bbox=0.381544, loss_rpn_cls=0.04229, loss_rpn_bbox=0.018316, lr=0.00127, time_each_step=0.14s, eta=0:6:24\n",
      "2024-01-13 20:03:47 [INFO]\t[TRAIN] Epoch=2/12, Step=50/84, loss=1.034821, loss_cls=0.539985, loss_bbox=0.386961, loss_rpn_cls=0.076499, loss_rpn_bbox=0.031377, lr=0.001277, time_each_step=0.14s, eta=0:6:24\n",
      "2024-01-13 20:03:48 [INFO]\t[TRAIN] Epoch=2/12, Step=52/84, loss=1.242483, loss_cls=0.611815, loss_bbox=0.426059, loss_rpn_cls=0.152276, loss_rpn_bbox=0.052334, lr=0.001283, time_each_step=0.14s, eta=0:6:23\n",
      "2024-01-13 20:03:48 [INFO]\t[TRAIN] Epoch=2/12, Step=54/84, loss=1.049586, loss_cls=0.598592, loss_bbox=0.389706, loss_rpn_cls=0.044898, loss_rpn_bbox=0.016389, lr=0.00129, time_each_step=0.14s, eta=0:6:23\n",
      "2024-01-13 20:03:48 [INFO]\t[TRAIN] Epoch=2/12, Step=56/84, loss=1.304175, loss_cls=0.690292, loss_bbox=0.503865, loss_rpn_cls=0.083726, loss_rpn_bbox=0.026292, lr=0.001297, time_each_step=0.14s, eta=0:6:23\n",
      "2024-01-13 20:03:48 [INFO]\t[TRAIN] Epoch=2/12, Step=58/84, loss=1.13229, loss_cls=0.626087, loss_bbox=0.438241, loss_rpn_cls=0.042623, loss_rpn_bbox=0.025339, lr=0.001303, time_each_step=0.14s, eta=0:6:22\n",
      "2024-01-13 20:03:49 [INFO]\t[TRAIN] Epoch=2/12, Step=60/84, loss=1.19954, loss_cls=0.685231, loss_bbox=0.441275, loss_rpn_cls=0.055748, loss_rpn_bbox=0.017286, lr=0.00131, time_each_step=0.14s, eta=0:6:22\n",
      "2024-01-13 20:03:49 [INFO]\t[TRAIN] Epoch=2/12, Step=62/84, loss=1.099424, loss_cls=0.588148, loss_bbox=0.429383, loss_rpn_cls=0.061802, loss_rpn_bbox=0.020091, lr=0.001317, time_each_step=0.14s, eta=0:6:22\n",
      "2024-01-13 20:03:49 [INFO]\t[TRAIN] Epoch=2/12, Step=64/84, loss=1.290837, loss_cls=0.685446, loss_bbox=0.514569, loss_rpn_cls=0.064518, loss_rpn_bbox=0.026303, lr=0.001323, time_each_step=0.14s, eta=0:6:21\n",
      "2024-01-13 20:03:49 [INFO]\t[TRAIN] Epoch=2/12, Step=66/84, loss=1.118585, loss_cls=0.589554, loss_bbox=0.446208, loss_rpn_cls=0.05673, loss_rpn_bbox=0.026093, lr=0.00133, time_each_step=0.14s, eta=0:6:21\n",
      "2024-01-13 20:03:50 [INFO]\t[TRAIN] Epoch=2/12, Step=68/84, loss=1.15759, loss_cls=0.626322, loss_bbox=0.479415, loss_rpn_cls=0.027079, loss_rpn_bbox=0.024775, lr=0.001337, time_each_step=0.14s, eta=0:6:21\n",
      "2024-01-13 20:03:50 [INFO]\t[TRAIN] Epoch=2/12, Step=70/84, loss=1.385526, loss_cls=0.824004, loss_bbox=0.476796, loss_rpn_cls=0.060726, loss_rpn_bbox=0.024001, lr=0.001343, time_each_step=0.14s, eta=0:6:21\n",
      "2024-01-13 20:03:50 [INFO]\t[TRAIN] Epoch=2/12, Step=72/84, loss=1.152486, loss_cls=0.655469, loss_bbox=0.423134, loss_rpn_cls=0.053771, loss_rpn_bbox=0.020111, lr=0.00135, time_each_step=0.14s, eta=0:6:20\n",
      "2024-01-13 20:03:51 [INFO]\t[TRAIN] Epoch=2/12, Step=74/84, loss=0.961371, loss_cls=0.526544, loss_bbox=0.34763, loss_rpn_cls=0.057428, loss_rpn_bbox=0.029769, lr=0.001357, time_each_step=0.14s, eta=0:6:20\n",
      "2024-01-13 20:03:51 [INFO]\t[TRAIN] Epoch=2/12, Step=76/84, loss=0.959748, loss_cls=0.556074, loss_bbox=0.335098, loss_rpn_cls=0.042707, loss_rpn_bbox=0.025869, lr=0.001363, time_each_step=0.14s, eta=0:6:20\n",
      "2024-01-13 20:03:51 [INFO]\t[TRAIN] Epoch=2/12, Step=78/84, loss=1.027754, loss_cls=0.600716, loss_bbox=0.367924, loss_rpn_cls=0.038076, loss_rpn_bbox=0.021038, lr=0.00137, time_each_step=0.14s, eta=0:6:20\n",
      "2024-01-13 20:03:51 [INFO]\t[TRAIN] Epoch=2/12, Step=80/84, loss=1.164842, loss_cls=0.623333, loss_bbox=0.46251, loss_rpn_cls=0.054591, loss_rpn_bbox=0.024409, lr=0.001377, time_each_step=0.14s, eta=0:6:19\n",
      "2024-01-13 20:03:52 [INFO]\t[TRAIN] Epoch=2/12, Step=82/84, loss=1.189495, loss_cls=0.668902, loss_bbox=0.434766, loss_rpn_cls=0.05546, loss_rpn_bbox=0.030366, lr=0.001383, time_each_step=0.14s, eta=0:6:19\n",
      "2024-01-13 20:03:52 [INFO]\t[TRAIN] Epoch=2/12, Step=84/84, loss=1.137266, loss_cls=0.634452, loss_bbox=0.441457, loss_rpn_cls=0.042258, loss_rpn_bbox=0.019099, lr=0.00139, time_each_step=0.14s, eta=0:6:19\n",
      "2024-01-13 20:03:52 [INFO]\t[TRAIN] Epoch 2 finished, loss=1.154808, loss_cls=0.617586, loss_bbox=0.437511, loss_rpn_cls=0.073992, loss_rpn_bbox=0.025718, lr=0.001252 .\n",
      "2024-01-13 20:03:52 [WARNING]\tFaster RCNN supports batch_size=1 only during evaluating, so batch_size is forced to be set to 1.\n",
      "2024-01-13 20:03:52 [INFO]\tStart to evaluating(total_samples=24, total_steps=24)...\n"
     ]
    },
    {
     "name": "stderr",
     "output_type": "stream",
     "text": [
      "100%|██████████| 24/24 [00:06<00:00,  3.75it/s]\n"
     ]
    },
    {
     "name": "stdout",
     "output_type": "stream",
     "text": [
      "2024-01-13 20:03:58 [INFO]\t[EVAL] Finished, Epoch=2, bbox_map=31.436201 .\n",
      "2024-01-13 20:04:05 [INFO]\tModel saved in output/faster_rcnn_r50_fpn/best_model.\n",
      "2024-01-13 20:04:09 [INFO]\tModel saved in output/faster_rcnn_r50_fpn/epoch_2.\n",
      "2024-01-13 20:04:09 [INFO]\tCurrent evaluated best model in eval_dataset is epoch_2, bbox_map=31.43620083827821\n",
      "2024-01-13 20:04:17 [INFO]\t[TRAIN] Epoch=3/12, Step=2/84, loss=1.019044, loss_cls=0.524106, loss_bbox=0.416402, loss_rpn_cls=0.058975, loss_rpn_bbox=0.019561, lr=0.001397, time_each_step=0.5s, eta=0:6:51\n",
      "2024-01-13 20:04:18 [INFO]\t[TRAIN] Epoch=3/12, Step=4/84, loss=1.017236, loss_cls=0.545101, loss_bbox=0.4215, loss_rpn_cls=0.027659, loss_rpn_bbox=0.022976, lr=0.001403, time_each_step=0.53s, eta=0:6:53\n",
      "2024-01-13 20:04:19 [INFO]\t[TRAIN] Epoch=3/12, Step=6/84, loss=1.051066, loss_cls=0.559804, loss_bbox=0.433896, loss_rpn_cls=0.04054, loss_rpn_bbox=0.016826, lr=0.00141, time_each_step=0.57s, eta=0:6:55\n",
      "2024-01-13 20:04:20 [INFO]\t[TRAIN] Epoch=3/12, Step=8/84, loss=0.909374, loss_cls=0.460569, loss_bbox=0.393513, loss_rpn_cls=0.03459, loss_rpn_bbox=0.020702, lr=0.001417, time_each_step=0.59s, eta=0:6:55\n",
      "2024-01-13 20:04:20 [INFO]\t[TRAIN] Epoch=3/12, Step=10/84, loss=1.220726, loss_cls=0.697514, loss_bbox=0.437457, loss_rpn_cls=0.058465, loss_rpn_bbox=0.02729, lr=0.001423, time_each_step=0.62s, eta=0:6:56\n",
      "2024-01-13 20:04:21 [INFO]\t[TRAIN] Epoch=3/12, Step=12/84, loss=1.081877, loss_cls=0.615582, loss_bbox=0.394018, loss_rpn_cls=0.052476, loss_rpn_bbox=0.019802, lr=0.00143, time_each_step=0.64s, eta=0:6:57\n",
      "2024-01-13 20:04:22 [INFO]\t[TRAIN] Epoch=3/12, Step=14/84, loss=1.045838, loss_cls=0.571795, loss_bbox=0.397094, loss_rpn_cls=0.045126, loss_rpn_bbox=0.031822, lr=0.001437, time_each_step=0.65s, eta=0:6:56\n",
      "2024-01-13 20:04:22 [INFO]\t[TRAIN] Epoch=3/12, Step=16/84, loss=1.067878, loss_cls=0.614252, loss_bbox=0.372005, loss_rpn_cls=0.054795, loss_rpn_bbox=0.026827, lr=0.001443, time_each_step=0.65s, eta=0:6:55\n",
      "2024-01-13 20:04:22 [INFO]\t[TRAIN] Epoch=3/12, Step=18/84, loss=1.063131, loss_cls=0.591917, loss_bbox=0.375261, loss_rpn_cls=0.061223, loss_rpn_bbox=0.034731, lr=0.00145, time_each_step=0.66s, eta=0:6:54\n",
      "2024-01-13 20:04:23 [INFO]\t[TRAIN] Epoch=3/12, Step=20/84, loss=0.951121, loss_cls=0.501764, loss_bbox=0.380869, loss_rpn_cls=0.036557, loss_rpn_bbox=0.031931, lr=0.001457, time_each_step=0.66s, eta=0:6:53\n",
      "2024-01-13 20:04:23 [INFO]\t[TRAIN] Epoch=3/12, Step=22/84, loss=0.902864, loss_cls=0.486635, loss_bbox=0.334315, loss_rpn_cls=0.049825, loss_rpn_bbox=0.032089, lr=0.001463, time_each_step=0.3s, eta=0:6:29\n",
      "2024-01-13 20:04:23 [INFO]\t[TRAIN] Epoch=3/12, Step=24/84, loss=0.937441, loss_cls=0.551312, loss_bbox=0.308545, loss_rpn_cls=0.050442, loss_rpn_bbox=0.027143, lr=0.00147, time_each_step=0.27s, eta=0:6:27\n",
      "2024-01-13 20:04:23 [INFO]\t[TRAIN] Epoch=3/12, Step=26/84, loss=0.891412, loss_cls=0.540237, loss_bbox=0.312142, loss_rpn_cls=0.020415, loss_rpn_bbox=0.018617, lr=0.001477, time_each_step=0.23s, eta=0:6:24\n",
      "2024-01-13 20:04:24 [INFO]\t[TRAIN] Epoch=3/12, Step=28/84, loss=1.094705, loss_cls=0.682063, loss_bbox=0.358854, loss_rpn_cls=0.034447, loss_rpn_bbox=0.019341, lr=0.001483, time_each_step=0.21s, eta=0:6:22\n",
      "2024-01-13 20:04:24 [INFO]\t[TRAIN] Epoch=3/12, Step=30/84, loss=1.044568, loss_cls=0.613929, loss_bbox=0.362409, loss_rpn_cls=0.040049, loss_rpn_bbox=0.028182, lr=0.00149, time_each_step=0.18s, eta=0:6:20\n",
      "2024-01-13 20:04:24 [INFO]\t[TRAIN] Epoch=3/12, Step=32/84, loss=0.832493, loss_cls=0.493075, loss_bbox=0.278297, loss_rpn_cls=0.038323, loss_rpn_bbox=0.022797, lr=0.001497, time_each_step=0.16s, eta=0:6:19\n",
      "2024-01-13 20:04:25 [INFO]\t[TRAIN] Epoch=3/12, Step=34/84, loss=1.065607, loss_cls=0.626477, loss_bbox=0.346553, loss_rpn_cls=0.06214, loss_rpn_bbox=0.030437, lr=0.001503, time_each_step=0.15s, eta=0:6:18\n",
      "2024-01-13 20:04:25 [INFO]\t[TRAIN] Epoch=3/12, Step=36/84, loss=1.052336, loss_cls=0.634487, loss_bbox=0.341107, loss_rpn_cls=0.049071, loss_rpn_bbox=0.027671, lr=0.00151, time_each_step=0.14s, eta=0:6:17\n",
      "2024-01-13 20:04:25 [INFO]\t[TRAIN] Epoch=3/12, Step=38/84, loss=0.911931, loss_cls=0.518604, loss_bbox=0.322415, loss_rpn_cls=0.041651, loss_rpn_bbox=0.029262, lr=0.001517, time_each_step=0.14s, eta=0:6:17\n",
      "2024-01-13 20:04:25 [INFO]\t[TRAIN] Epoch=3/12, Step=40/84, loss=0.898069, loss_cls=0.547355, loss_bbox=0.288013, loss_rpn_cls=0.030029, loss_rpn_bbox=0.032672, lr=0.001523, time_each_step=0.14s, eta=0:6:17\n",
      "2024-01-13 20:04:26 [INFO]\t[TRAIN] Epoch=3/12, Step=42/84, loss=0.999298, loss_cls=0.649852, loss_bbox=0.302411, loss_rpn_cls=0.027704, loss_rpn_bbox=0.019331, lr=0.00153, time_each_step=0.14s, eta=0:6:16\n",
      "2024-01-13 20:04:26 [INFO]\t[TRAIN] Epoch=3/12, Step=44/84, loss=0.708995, loss_cls=0.446531, loss_bbox=0.234045, loss_rpn_cls=0.017476, loss_rpn_bbox=0.010943, lr=0.001537, time_each_step=0.14s, eta=0:6:16\n",
      "2024-01-13 20:04:26 [INFO]\t[TRAIN] Epoch=3/12, Step=46/84, loss=0.790496, loss_cls=0.456003, loss_bbox=0.290376, loss_rpn_cls=0.021024, loss_rpn_bbox=0.023093, lr=0.001543, time_each_step=0.14s, eta=0:6:16\n",
      "2024-01-13 20:04:26 [INFO]\t[TRAIN] Epoch=3/12, Step=48/84, loss=0.682955, loss_cls=0.445028, loss_bbox=0.207078, loss_rpn_cls=0.014921, loss_rpn_bbox=0.015928, lr=0.00155, time_each_step=0.14s, eta=0:6:15\n",
      "2024-01-13 20:04:27 [INFO]\t[TRAIN] Epoch=3/12, Step=50/84, loss=0.802891, loss_cls=0.521406, loss_bbox=0.246846, loss_rpn_cls=0.020856, loss_rpn_bbox=0.013782, lr=0.001557, time_each_step=0.14s, eta=0:6:15\n",
      "2024-01-13 20:04:27 [INFO]\t[TRAIN] Epoch=3/12, Step=52/84, loss=0.952766, loss_cls=0.566022, loss_bbox=0.310531, loss_rpn_cls=0.046262, loss_rpn_bbox=0.029951, lr=0.001563, time_each_step=0.14s, eta=0:6:15\n",
      "2024-01-13 20:04:27 [INFO]\t[TRAIN] Epoch=3/12, Step=54/84, loss=0.673206, loss_cls=0.418416, loss_bbox=0.215787, loss_rpn_cls=0.017995, loss_rpn_bbox=0.021007, lr=0.00157, time_each_step=0.14s, eta=0:6:15\n",
      "2024-01-13 20:04:28 [INFO]\t[TRAIN] Epoch=3/12, Step=56/84, loss=0.871634, loss_cls=0.499302, loss_bbox=0.332313, loss_rpn_cls=0.022666, loss_rpn_bbox=0.017353, lr=0.001577, time_each_step=0.14s, eta=0:6:14\n",
      "2024-01-13 20:04:28 [INFO]\t[TRAIN] Epoch=3/12, Step=58/84, loss=0.92434, loss_cls=0.548878, loss_bbox=0.332655, loss_rpn_cls=0.023887, loss_rpn_bbox=0.018921, lr=0.001583, time_each_step=0.14s, eta=0:6:14\n",
      "2024-01-13 20:04:28 [INFO]\t[TRAIN] Epoch=3/12, Step=60/84, loss=0.793446, loss_cls=0.462639, loss_bbox=0.299133, loss_rpn_cls=0.012233, loss_rpn_bbox=0.019442, lr=0.00159, time_each_step=0.14s, eta=0:6:14\n",
      "2024-01-13 20:04:28 [INFO]\t[TRAIN] Epoch=3/12, Step=62/84, loss=0.915124, loss_cls=0.546879, loss_bbox=0.329066, loss_rpn_cls=0.018709, loss_rpn_bbox=0.020471, lr=0.001597, time_each_step=0.14s, eta=0:6:14\n",
      "2024-01-13 20:04:29 [INFO]\t[TRAIN] Epoch=3/12, Step=64/84, loss=0.722768, loss_cls=0.416652, loss_bbox=0.269866, loss_rpn_cls=0.02164, loss_rpn_bbox=0.01461, lr=0.001603, time_each_step=0.14s, eta=0:6:13\n",
      "2024-01-13 20:04:29 [INFO]\t[TRAIN] Epoch=3/12, Step=66/84, loss=0.990465, loss_cls=0.586345, loss_bbox=0.36042, loss_rpn_cls=0.021785, loss_rpn_bbox=0.021915, lr=0.00161, time_each_step=0.14s, eta=0:6:13\n",
      "2024-01-13 20:04:29 [INFO]\t[TRAIN] Epoch=3/12, Step=68/84, loss=0.883745, loss_cls=0.642094, loss_bbox=0.211663, loss_rpn_cls=0.012632, loss_rpn_bbox=0.017357, lr=0.001617, time_each_step=0.14s, eta=0:6:13\n",
      "2024-01-13 20:04:29 [INFO]\t[TRAIN] Epoch=3/12, Step=70/84, loss=0.86642, loss_cls=0.492906, loss_bbox=0.34204, loss_rpn_cls=0.015041, loss_rpn_bbox=0.016433, lr=0.001623, time_each_step=0.14s, eta=0:6:12\n",
      "2024-01-13 20:04:30 [INFO]\t[TRAIN] Epoch=3/12, Step=72/84, loss=0.90418, loss_cls=0.572505, loss_bbox=0.291688, loss_rpn_cls=0.022749, loss_rpn_bbox=0.017238, lr=0.00163, time_each_step=0.14s, eta=0:6:12\n",
      "2024-01-13 20:04:30 [INFO]\t[TRAIN] Epoch=3/12, Step=74/84, loss=0.963971, loss_cls=0.672228, loss_bbox=0.262659, loss_rpn_cls=0.015707, loss_rpn_bbox=0.013378, lr=0.001637, time_each_step=0.14s, eta=0:6:12\n",
      "2024-01-13 20:04:30 [INFO]\t[TRAIN] Epoch=3/12, Step=76/84, loss=1.019913, loss_cls=0.647651, loss_bbox=0.301044, loss_rpn_cls=0.045257, loss_rpn_bbox=0.025961, lr=0.001643, time_each_step=0.14s, eta=0:6:12\n",
      "2024-01-13 20:04:31 [INFO]\t[TRAIN] Epoch=3/12, Step=78/84, loss=1.021448, loss_cls=0.681046, loss_bbox=0.288742, loss_rpn_cls=0.025889, loss_rpn_bbox=0.025772, lr=0.00165, time_each_step=0.14s, eta=0:6:11\n",
      "2024-01-13 20:04:31 [INFO]\t[TRAIN] Epoch=3/12, Step=80/84, loss=0.802182, loss_cls=0.523485, loss_bbox=0.233697, loss_rpn_cls=0.023165, loss_rpn_bbox=0.021835, lr=0.001657, time_each_step=0.14s, eta=0:6:11\n",
      "2024-01-13 20:04:31 [INFO]\t[TRAIN] Epoch=3/12, Step=82/84, loss=0.783498, loss_cls=0.525361, loss_bbox=0.22725, loss_rpn_cls=0.013652, loss_rpn_bbox=0.017234, lr=0.001663, time_each_step=0.14s, eta=0:6:11\n",
      "2024-01-13 20:04:31 [INFO]\t[TRAIN] Epoch=3/12, Step=84/84, loss=0.983122, loss_cls=0.593933, loss_bbox=0.334059, loss_rpn_cls=0.031155, loss_rpn_bbox=0.023976, lr=0.00167, time_each_step=0.14s, eta=0:6:11\n",
      "2024-01-13 20:04:31 [INFO]\t[TRAIN] Epoch 3 finished, loss=0.915465, loss_cls=0.548516, loss_bbox=0.312371, loss_rpn_cls=0.032051, loss_rpn_bbox=0.022526, lr=0.001532 .\n",
      "2024-01-13 20:04:31 [WARNING]\tFaster RCNN supports batch_size=1 only during evaluating, so batch_size is forced to be set to 1.\n",
      "2024-01-13 20:04:31 [INFO]\tStart to evaluating(total_samples=24, total_steps=24)...\n"
     ]
    },
    {
     "name": "stderr",
     "output_type": "stream",
     "text": [
      "100%|██████████| 24/24 [00:06<00:00,  3.91it/s]\n"
     ]
    },
    {
     "name": "stdout",
     "output_type": "stream",
     "text": [
      "2024-01-13 20:04:38 [INFO]\t[EVAL] Finished, Epoch=3, bbox_map=48.273881 .\n",
      "2024-01-13 20:04:45 [INFO]\tModel saved in output/faster_rcnn_r50_fpn/best_model.\n",
      "2024-01-13 20:04:49 [INFO]\tModel saved in output/faster_rcnn_r50_fpn/epoch_3.\n",
      "2024-01-13 20:04:49 [INFO]\tCurrent evaluated best model in eval_dataset is epoch_3, bbox_map=48.27388120256313\n",
      "2024-01-13 20:04:57 [INFO]\t[TRAIN] Epoch=4/12, Step=2/84, loss=0.973183, loss_cls=0.571429, loss_bbox=0.344586, loss_rpn_cls=0.033567, loss_rpn_bbox=0.0236, lr=0.001677, time_each_step=0.5s, eta=0:6:18\n",
      "2024-01-13 20:04:58 [INFO]\t[TRAIN] Epoch=4/12, Step=4/84, loss=0.797023, loss_cls=0.535871, loss_bbox=0.237581, loss_rpn_cls=0.008837, loss_rpn_bbox=0.014733, lr=0.001683, time_each_step=0.53s, eta=0:6:20\n",
      "2024-01-13 20:04:59 [INFO]\t[TRAIN] Epoch=4/12, Step=6/84, loss=0.826371, loss_cls=0.491013, loss_bbox=0.300404, loss_rpn_cls=0.016529, loss_rpn_bbox=0.018425, lr=0.00169, time_each_step=0.56s, eta=0:6:20\n",
      "2024-01-13 20:04:59 [INFO]\t[TRAIN] Epoch=4/12, Step=8/84, loss=0.783004, loss_cls=0.505166, loss_bbox=0.231127, loss_rpn_cls=0.022789, loss_rpn_bbox=0.023922, lr=0.001697, time_each_step=0.58s, eta=0:6:21\n",
      "2024-01-13 20:05:00 [INFO]\t[TRAIN] Epoch=4/12, Step=10/84, loss=0.858848, loss_cls=0.479051, loss_bbox=0.341266, loss_rpn_cls=0.013836, loss_rpn_bbox=0.024696, lr=0.001703, time_each_step=0.6s, eta=0:6:21\n",
      "2024-01-13 20:05:01 [INFO]\t[TRAIN] Epoch=4/12, Step=12/84, loss=0.790297, loss_cls=0.452668, loss_bbox=0.281236, loss_rpn_cls=0.031874, loss_rpn_bbox=0.024519, lr=0.00171, time_each_step=0.62s, eta=0:6:22\n",
      "2024-01-13 20:05:01 [INFO]\t[TRAIN] Epoch=4/12, Step=14/84, loss=0.732993, loss_cls=0.430708, loss_bbox=0.272929, loss_rpn_cls=0.01357, loss_rpn_bbox=0.015785, lr=0.001717, time_each_step=0.64s, eta=0:6:22\n",
      "2024-01-13 20:05:02 [INFO]\t[TRAIN] Epoch=4/12, Step=16/84, loss=0.608236, loss_cls=0.34213, loss_bbox=0.220383, loss_rpn_cls=0.022679, loss_rpn_bbox=0.023044, lr=0.001723, time_each_step=0.65s, eta=0:6:22\n",
      "2024-01-13 20:05:02 [INFO]\t[TRAIN] Epoch=4/12, Step=18/84, loss=0.736696, loss_cls=0.412057, loss_bbox=0.272887, loss_rpn_cls=0.029561, loss_rpn_bbox=0.02219, lr=0.00173, time_each_step=0.66s, eta=0:6:21\n",
      "2024-01-13 20:05:03 [INFO]\t[TRAIN] Epoch=4/12, Step=20/84, loss=0.853965, loss_cls=0.518706, loss_bbox=0.271991, loss_rpn_cls=0.034423, loss_rpn_bbox=0.028846, lr=0.001737, time_each_step=0.66s, eta=0:6:19\n",
      "2024-01-13 20:05:03 [INFO]\t[TRAIN] Epoch=4/12, Step=22/84, loss=0.576068, loss_cls=0.343025, loss_bbox=0.197045, loss_rpn_cls=0.011579, loss_rpn_bbox=0.024419, lr=0.001743, time_each_step=0.3s, eta=0:5:56\n",
      "2024-01-13 20:05:03 [INFO]\t[TRAIN] Epoch=4/12, Step=24/84, loss=0.593652, loss_cls=0.348316, loss_bbox=0.221723, loss_rpn_cls=0.010205, loss_rpn_bbox=0.013408, lr=0.00175, time_each_step=0.27s, eta=0:5:53\n",
      "2024-01-13 20:05:03 [INFO]\t[TRAIN] Epoch=4/12, Step=26/84, loss=0.746171, loss_cls=0.469736, loss_bbox=0.237863, loss_rpn_cls=0.016836, loss_rpn_bbox=0.021736, lr=0.001757, time_each_step=0.25s, eta=0:5:51\n",
      "2024-01-13 20:05:04 [INFO]\t[TRAIN] Epoch=4/12, Step=28/84, loss=1.058061, loss_cls=0.620713, loss_bbox=0.349838, loss_rpn_cls=0.048374, loss_rpn_bbox=0.039135, lr=0.001763, time_each_step=0.23s, eta=0:5:50\n",
      "2024-01-13 20:05:04 [INFO]\t[TRAIN] Epoch=4/12, Step=30/84, loss=0.719596, loss_cls=0.404694, loss_bbox=0.278856, loss_rpn_cls=0.020153, loss_rpn_bbox=0.015894, lr=0.00177, time_each_step=0.21s, eta=0:5:48\n",
      "2024-01-13 20:05:04 [INFO]\t[TRAIN] Epoch=4/12, Step=32/84, loss=0.767591, loss_cls=0.526998, loss_bbox=0.215528, loss_rpn_cls=0.014441, loss_rpn_bbox=0.010623, lr=0.001777, time_each_step=0.18s, eta=0:5:47\n",
      "2024-01-13 20:05:05 [INFO]\t[TRAIN] Epoch=4/12, Step=34/84, loss=0.738808, loss_cls=0.438643, loss_bbox=0.251973, loss_rpn_cls=0.023048, loss_rpn_bbox=0.025145, lr=0.001783, time_each_step=0.16s, eta=0:5:45\n",
      "2024-01-13 20:05:05 [INFO]\t[TRAIN] Epoch=4/12, Step=36/84, loss=0.692527, loss_cls=0.435197, loss_bbox=0.210063, loss_rpn_cls=0.029286, loss_rpn_bbox=0.017981, lr=0.00179, time_each_step=0.15s, eta=0:5:44\n",
      "2024-01-13 20:05:05 [INFO]\t[TRAIN] Epoch=4/12, Step=38/84, loss=0.73667, loss_cls=0.461213, loss_bbox=0.227534, loss_rpn_cls=0.01403, loss_rpn_bbox=0.033893, lr=0.001797, time_each_step=0.14s, eta=0:5:44\n",
      "2024-01-13 20:05:05 [INFO]\t[TRAIN] Epoch=4/12, Step=40/84, loss=0.806263, loss_cls=0.491046, loss_bbox=0.284571, loss_rpn_cls=0.018904, loss_rpn_bbox=0.011742, lr=0.001803, time_each_step=0.14s, eta=0:5:43\n",
      "2024-01-13 20:05:06 [INFO]\t[TRAIN] Epoch=4/12, Step=42/84, loss=0.736091, loss_cls=0.473447, loss_bbox=0.223735, loss_rpn_cls=0.018013, loss_rpn_bbox=0.020897, lr=0.00181, time_each_step=0.14s, eta=0:5:43\n",
      "2024-01-13 20:05:06 [INFO]\t[TRAIN] Epoch=4/12, Step=44/84, loss=0.828102, loss_cls=0.54381, loss_bbox=0.250986, loss_rpn_cls=0.013383, loss_rpn_bbox=0.019923, lr=0.001817, time_each_step=0.14s, eta=0:5:43\n",
      "2024-01-13 20:05:06 [INFO]\t[TRAIN] Epoch=4/12, Step=46/84, loss=0.820513, loss_cls=0.49423, loss_bbox=0.286226, loss_rpn_cls=0.01244, loss_rpn_bbox=0.027617, lr=0.001823, time_each_step=0.14s, eta=0:5:42\n",
      "2024-01-13 20:05:07 [INFO]\t[TRAIN] Epoch=4/12, Step=48/84, loss=0.803058, loss_cls=0.506295, loss_bbox=0.24438, loss_rpn_cls=0.024955, loss_rpn_bbox=0.027429, lr=0.00183, time_each_step=0.14s, eta=0:5:42\n",
      "2024-01-13 20:05:07 [INFO]\t[TRAIN] Epoch=4/12, Step=50/84, loss=0.693485, loss_cls=0.441719, loss_bbox=0.21174, loss_rpn_cls=0.021659, loss_rpn_bbox=0.018368, lr=0.001837, time_each_step=0.14s, eta=0:5:42\n",
      "2024-01-13 20:05:07 [INFO]\t[TRAIN] Epoch=4/12, Step=52/84, loss=0.781744, loss_cls=0.532913, loss_bbox=0.204469, loss_rpn_cls=0.013844, loss_rpn_bbox=0.030519, lr=0.001843, time_each_step=0.14s, eta=0:5:42\n",
      "2024-01-13 20:05:07 [INFO]\t[TRAIN] Epoch=4/12, Step=54/84, loss=0.610661, loss_cls=0.376406, loss_bbox=0.18989, loss_rpn_cls=0.020201, loss_rpn_bbox=0.024164, lr=0.00185, time_each_step=0.14s, eta=0:5:41\n",
      "2024-01-13 20:05:08 [INFO]\t[TRAIN] Epoch=4/12, Step=56/84, loss=0.646936, loss_cls=0.380889, loss_bbox=0.2217, loss_rpn_cls=0.023636, loss_rpn_bbox=0.020711, lr=0.001857, time_each_step=0.14s, eta=0:5:41\n",
      "2024-01-13 20:05:08 [INFO]\t[TRAIN] Epoch=4/12, Step=58/84, loss=0.542471, loss_cls=0.336385, loss_bbox=0.180296, loss_rpn_cls=0.012522, loss_rpn_bbox=0.013268, lr=0.001863, time_each_step=0.14s, eta=0:5:41\n",
      "2024-01-13 20:05:08 [INFO]\t[TRAIN] Epoch=4/12, Step=60/84, loss=0.662719, loss_cls=0.399349, loss_bbox=0.222716, loss_rpn_cls=0.016642, loss_rpn_bbox=0.024012, lr=0.00187, time_each_step=0.14s, eta=0:5:40\n",
      "2024-01-13 20:05:08 [INFO]\t[TRAIN] Epoch=4/12, Step=62/84, loss=0.650717, loss_cls=0.409534, loss_bbox=0.193983, loss_rpn_cls=0.018885, loss_rpn_bbox=0.028316, lr=0.001877, time_each_step=0.14s, eta=0:5:40\n",
      "2024-01-13 20:05:09 [INFO]\t[TRAIN] Epoch=4/12, Step=64/84, loss=0.785108, loss_cls=0.47434, loss_bbox=0.27934, loss_rpn_cls=0.007698, loss_rpn_bbox=0.02373, lr=0.001883, time_each_step=0.14s, eta=0:5:40\n",
      "2024-01-13 20:05:09 [INFO]\t[TRAIN] Epoch=4/12, Step=66/84, loss=0.807853, loss_cls=0.466638, loss_bbox=0.2983, loss_rpn_cls=0.020723, loss_rpn_bbox=0.022191, lr=0.00189, time_each_step=0.14s, eta=0:5:40\n",
      "2024-01-13 20:05:09 [INFO]\t[TRAIN] Epoch=4/12, Step=68/84, loss=0.716717, loss_cls=0.466199, loss_bbox=0.215722, loss_rpn_cls=0.013434, loss_rpn_bbox=0.021362, lr=0.001897, time_each_step=0.14s, eta=0:5:39\n",
      "2024-01-13 20:05:10 [INFO]\t[TRAIN] Epoch=4/12, Step=70/84, loss=0.638311, loss_cls=0.421956, loss_bbox=0.192995, loss_rpn_cls=0.007394, loss_rpn_bbox=0.015966, lr=0.001903, time_each_step=0.14s, eta=0:5:39\n",
      "2024-01-13 20:05:10 [INFO]\t[TRAIN] Epoch=4/12, Step=72/84, loss=0.493591, loss_cls=0.292816, loss_bbox=0.174576, loss_rpn_cls=0.007445, loss_rpn_bbox=0.018754, lr=0.00191, time_each_step=0.14s, eta=0:5:39\n",
      "2024-01-13 20:05:10 [INFO]\t[TRAIN] Epoch=4/12, Step=74/84, loss=0.520128, loss_cls=0.348516, loss_bbox=0.149297, loss_rpn_cls=0.006164, loss_rpn_bbox=0.01615, lr=0.001917, time_each_step=0.14s, eta=0:5:39\n",
      "2024-01-13 20:05:10 [INFO]\t[TRAIN] Epoch=4/12, Step=76/84, loss=0.565778, loss_cls=0.344528, loss_bbox=0.179041, loss_rpn_cls=0.019551, loss_rpn_bbox=0.022658, lr=0.001923, time_each_step=0.14s, eta=0:5:38\n",
      "2024-01-13 20:05:11 [INFO]\t[TRAIN] Epoch=4/12, Step=78/84, loss=0.714903, loss_cls=0.538129, loss_bbox=0.15282, loss_rpn_cls=0.006454, loss_rpn_bbox=0.017501, lr=0.00193, time_each_step=0.14s, eta=0:5:38\n",
      "2024-01-13 20:05:11 [INFO]\t[TRAIN] Epoch=4/12, Step=80/84, loss=0.747081, loss_cls=0.426757, loss_bbox=0.261781, loss_rpn_cls=0.026675, loss_rpn_bbox=0.031868, lr=0.001937, time_each_step=0.14s, eta=0:5:38\n",
      "2024-01-13 20:05:11 [INFO]\t[TRAIN] Epoch=4/12, Step=82/84, loss=0.542313, loss_cls=0.38333, loss_bbox=0.128589, loss_rpn_cls=0.015393, loss_rpn_bbox=0.015002, lr=0.001943, time_each_step=0.14s, eta=0:5:37\n",
      "2024-01-13 20:05:12 [INFO]\t[TRAIN] Epoch=4/12, Step=84/84, loss=0.629401, loss_cls=0.357853, loss_bbox=0.227004, loss_rpn_cls=0.012407, loss_rpn_bbox=0.032138, lr=0.00195, time_each_step=0.14s, eta=0:5:37\n",
      "2024-01-13 20:05:12 [INFO]\t[TRAIN] Epoch 4 finished, loss=0.723324, loss_cls=0.44653, loss_bbox=0.236876, loss_rpn_cls=0.018422, loss_rpn_bbox=0.021496, lr=0.001812 .\n",
      "2024-01-13 20:05:12 [WARNING]\tFaster RCNN supports batch_size=1 only during evaluating, so batch_size is forced to be set to 1.\n",
      "2024-01-13 20:05:12 [INFO]\tStart to evaluating(total_samples=24, total_steps=24)...\n"
     ]
    },
    {
     "name": "stderr",
     "output_type": "stream",
     "text": [
      "100%|██████████| 24/24 [00:06<00:00,  3.78it/s]\n"
     ]
    },
    {
     "name": "stdout",
     "output_type": "stream",
     "text": [
      "2024-01-13 20:05:18 [INFO]\t[EVAL] Finished, Epoch=4, bbox_map=64.292707 .\n",
      "2024-01-13 20:05:27 [INFO]\tModel saved in output/faster_rcnn_r50_fpn/best_model.\n",
      "2024-01-13 20:05:31 [INFO]\tModel saved in output/faster_rcnn_r50_fpn/epoch_4.\n",
      "2024-01-13 20:05:31 [INFO]\tCurrent evaluated best model in eval_dataset is epoch_4, bbox_map=64.2927070241873\n",
      "2024-01-13 20:05:38 [INFO]\t[TRAIN] Epoch=5/12, Step=2/84, loss=0.643963, loss_cls=0.408296, loss_bbox=0.203177, loss_rpn_cls=0.015284, loss_rpn_bbox=0.017205, lr=0.001957, time_each_step=0.49s, eta=0:5:50\n",
      "2024-01-13 20:05:39 [INFO]\t[TRAIN] Epoch=5/12, Step=4/84, loss=0.628897, loss_cls=0.449202, loss_bbox=0.150869, loss_rpn_cls=0.01127, loss_rpn_bbox=0.017556, lr=0.001963, time_each_step=0.52s, eta=0:5:51\n",
      "2024-01-13 20:05:40 [INFO]\t[TRAIN] Epoch=5/12, Step=6/84, loss=0.66424, loss_cls=0.411209, loss_bbox=0.211083, loss_rpn_cls=0.019047, loss_rpn_bbox=0.022901, lr=0.00197, time_each_step=0.54s, eta=0:5:51\n",
      "2024-01-13 20:05:41 [INFO]\t[TRAIN] Epoch=5/12, Step=8/84, loss=0.702222, loss_cls=0.43558, loss_bbox=0.227979, loss_rpn_cls=0.019175, loss_rpn_bbox=0.019488, lr=0.001977, time_each_step=0.56s, eta=0:5:52\n",
      "2024-01-13 20:05:41 [INFO]\t[TRAIN] Epoch=5/12, Step=10/84, loss=0.486722, loss_cls=0.305819, loss_bbox=0.157719, loss_rpn_cls=0.010199, loss_rpn_bbox=0.012985, lr=0.001983, time_each_step=0.59s, eta=0:5:53\n",
      "2024-01-13 20:05:42 [INFO]\t[TRAIN] Epoch=5/12, Step=12/84, loss=0.712784, loss_cls=0.511608, loss_bbox=0.178195, loss_rpn_cls=0.005244, loss_rpn_bbox=0.017737, lr=0.00199, time_each_step=0.61s, eta=0:5:53\n",
      "2024-01-13 20:05:43 [INFO]\t[TRAIN] Epoch=5/12, Step=14/84, loss=0.669638, loss_cls=0.459415, loss_bbox=0.17981, loss_rpn_cls=0.008296, loss_rpn_bbox=0.022116, lr=0.001997, time_each_step=0.62s, eta=0:5:53\n",
      "2024-01-13 20:05:43 [INFO]\t[TRAIN] Epoch=5/12, Step=16/84, loss=0.626683, loss_cls=0.392349, loss_bbox=0.205007, loss_rpn_cls=0.015062, loss_rpn_bbox=0.014265, lr=0.002003, time_each_step=0.63s, eta=0:5:52\n",
      "2024-01-13 20:05:43 [INFO]\t[TRAIN] Epoch=5/12, Step=18/84, loss=0.760766, loss_cls=0.449051, loss_bbox=0.273354, loss_rpn_cls=0.016365, loss_rpn_bbox=0.021996, lr=0.00201, time_each_step=0.64s, eta=0:5:51\n",
      "2024-01-13 20:05:44 [INFO]\t[TRAIN] Epoch=5/12, Step=20/84, loss=0.563478, loss_cls=0.388378, loss_bbox=0.146901, loss_rpn_cls=0.013133, loss_rpn_bbox=0.015067, lr=0.002017, time_each_step=0.64s, eta=0:5:50\n",
      "2024-01-13 20:05:44 [INFO]\t[TRAIN] Epoch=5/12, Step=22/84, loss=0.816372, loss_cls=0.602603, loss_bbox=0.178439, loss_rpn_cls=0.018124, loss_rpn_bbox=0.017207, lr=0.002023, time_each_step=0.29s, eta=0:5:27\n",
      "2024-01-13 20:05:44 [INFO]\t[TRAIN] Epoch=5/12, Step=24/84, loss=0.517204, loss_cls=0.319457, loss_bbox=0.177202, loss_rpn_cls=0.01092, loss_rpn_bbox=0.009625, lr=0.00203, time_each_step=0.26s, eta=0:5:25\n",
      "2024-01-13 20:05:45 [INFO]\t[TRAIN] Epoch=5/12, Step=26/84, loss=0.679994, loss_cls=0.423339, loss_bbox=0.203141, loss_rpn_cls=0.020694, loss_rpn_bbox=0.03282, lr=0.002037, time_each_step=0.25s, eta=0:5:24\n",
      "2024-01-13 20:05:45 [INFO]\t[TRAIN] Epoch=5/12, Step=28/84, loss=0.630883, loss_cls=0.422553, loss_bbox=0.179341, loss_rpn_cls=0.011596, loss_rpn_bbox=0.017393, lr=0.002043, time_each_step=0.22s, eta=0:5:22\n",
      "2024-01-13 20:05:45 [INFO]\t[TRAIN] Epoch=5/12, Step=30/84, loss=0.576131, loss_cls=0.401152, loss_bbox=0.148404, loss_rpn_cls=0.014494, loss_rpn_bbox=0.01208, lr=0.00205, time_each_step=0.2s, eta=0:5:20\n",
      "2024-01-13 20:05:45 [INFO]\t[TRAIN] Epoch=5/12, Step=32/84, loss=0.578206, loss_cls=0.351107, loss_bbox=0.200302, loss_rpn_cls=0.015034, loss_rpn_bbox=0.011763, lr=0.002057, time_each_step=0.18s, eta=0:5:19\n",
      "2024-01-13 20:05:46 [INFO]\t[TRAIN] Epoch=5/12, Step=34/84, loss=0.732236, loss_cls=0.466202, loss_bbox=0.218256, loss_rpn_cls=0.026789, loss_rpn_bbox=0.020989, lr=0.002063, time_each_step=0.16s, eta=0:5:17\n",
      "2024-01-13 20:05:46 [INFO]\t[TRAIN] Epoch=5/12, Step=36/84, loss=0.768993, loss_cls=0.51149, loss_bbox=0.217674, loss_rpn_cls=0.015686, loss_rpn_bbox=0.024143, lr=0.00207, time_each_step=0.15s, eta=0:5:17\n",
      "2024-01-13 20:05:46 [INFO]\t[TRAIN] Epoch=5/12, Step=38/84, loss=0.531351, loss_cls=0.354544, loss_bbox=0.150725, loss_rpn_cls=0.014597, loss_rpn_bbox=0.011486, lr=0.002077, time_each_step=0.15s, eta=0:5:16\n",
      "2024-01-13 20:05:47 [INFO]\t[TRAIN] Epoch=5/12, Step=40/84, loss=0.617244, loss_cls=0.384501, loss_bbox=0.185225, loss_rpn_cls=0.026073, loss_rpn_bbox=0.021444, lr=0.002083, time_each_step=0.14s, eta=0:5:16\n",
      "2024-01-13 20:05:47 [INFO]\t[TRAIN] Epoch=5/12, Step=42/84, loss=0.88578, loss_cls=0.619825, loss_bbox=0.220472, loss_rpn_cls=0.024831, loss_rpn_bbox=0.020652, lr=0.00209, time_each_step=0.14s, eta=0:5:15\n",
      "2024-01-13 20:05:47 [INFO]\t[TRAIN] Epoch=5/12, Step=44/84, loss=0.606426, loss_cls=0.37579, loss_bbox=0.197824, loss_rpn_cls=0.01383, loss_rpn_bbox=0.018981, lr=0.002097, time_each_step=0.14s, eta=0:5:15\n",
      "2024-01-13 20:05:47 [INFO]\t[TRAIN] Epoch=5/12, Step=46/84, loss=0.613443, loss_cls=0.385071, loss_bbox=0.185983, loss_rpn_cls=0.022636, loss_rpn_bbox=0.019754, lr=0.002103, time_each_step=0.14s, eta=0:5:15\n",
      "2024-01-13 20:05:48 [INFO]\t[TRAIN] Epoch=5/12, Step=48/84, loss=0.7524, loss_cls=0.440949, loss_bbox=0.2558, loss_rpn_cls=0.022045, loss_rpn_bbox=0.033606, lr=0.00211, time_each_step=0.14s, eta=0:5:14\n",
      "2024-01-13 20:05:48 [INFO]\t[TRAIN] Epoch=5/12, Step=50/84, loss=0.489161, loss_cls=0.320063, loss_bbox=0.150665, loss_rpn_cls=0.007891, loss_rpn_bbox=0.010542, lr=0.002117, time_each_step=0.14s, eta=0:5:14\n",
      "2024-01-13 20:05:48 [INFO]\t[TRAIN] Epoch=5/12, Step=52/84, loss=0.637185, loss_cls=0.402425, loss_bbox=0.205507, loss_rpn_cls=0.008905, loss_rpn_bbox=0.020348, lr=0.002123, time_each_step=0.14s, eta=0:5:14\n",
      "2024-01-13 20:05:48 [INFO]\t[TRAIN] Epoch=5/12, Step=54/84, loss=0.894489, loss_cls=0.617763, loss_bbox=0.222783, loss_rpn_cls=0.011551, loss_rpn_bbox=0.042393, lr=0.00213, time_each_step=0.14s, eta=0:5:13\n",
      "2024-01-13 20:05:49 [INFO]\t[TRAIN] Epoch=5/12, Step=56/84, loss=0.661893, loss_cls=0.380623, loss_bbox=0.256045, loss_rpn_cls=0.012298, loss_rpn_bbox=0.012927, lr=0.002137, time_each_step=0.14s, eta=0:5:13\n",
      "2024-01-13 20:05:49 [INFO]\t[TRAIN] Epoch=5/12, Step=58/84, loss=0.702671, loss_cls=0.444717, loss_bbox=0.21904, loss_rpn_cls=0.017827, loss_rpn_bbox=0.021088, lr=0.002143, time_each_step=0.14s, eta=0:5:13\n",
      "2024-01-13 20:05:49 [INFO]\t[TRAIN] Epoch=5/12, Step=60/84, loss=0.748222, loss_cls=0.46043, loss_bbox=0.262979, loss_rpn_cls=0.012974, loss_rpn_bbox=0.01184, lr=0.00215, time_each_step=0.14s, eta=0:5:13\n",
      "2024-01-13 20:05:50 [INFO]\t[TRAIN] Epoch=5/12, Step=62/84, loss=0.561277, loss_cls=0.330333, loss_bbox=0.197931, loss_rpn_cls=0.012999, loss_rpn_bbox=0.020014, lr=0.002157, time_each_step=0.14s, eta=0:5:12\n",
      "2024-01-13 20:05:50 [INFO]\t[TRAIN] Epoch=5/12, Step=64/84, loss=0.618517, loss_cls=0.422885, loss_bbox=0.169107, loss_rpn_cls=0.007936, loss_rpn_bbox=0.018589, lr=0.002163, time_each_step=0.14s, eta=0:5:12\n",
      "2024-01-13 20:05:50 [INFO]\t[TRAIN] Epoch=5/12, Step=66/84, loss=0.695507, loss_cls=0.420972, loss_bbox=0.240347, loss_rpn_cls=0.017051, loss_rpn_bbox=0.017137, lr=0.00217, time_each_step=0.14s, eta=0:5:12\n",
      "2024-01-13 20:05:50 [INFO]\t[TRAIN] Epoch=5/12, Step=68/84, loss=0.570275, loss_cls=0.381482, loss_bbox=0.151446, loss_rpn_cls=0.018542, loss_rpn_bbox=0.018805, lr=0.002177, time_each_step=0.14s, eta=0:5:12\n",
      "2024-01-13 20:05:51 [INFO]\t[TRAIN] Epoch=5/12, Step=70/84, loss=0.700169, loss_cls=0.465118, loss_bbox=0.180018, loss_rpn_cls=0.014845, loss_rpn_bbox=0.040189, lr=0.002183, time_each_step=0.14s, eta=0:5:11\n",
      "2024-01-13 20:05:51 [INFO]\t[TRAIN] Epoch=5/12, Step=72/84, loss=0.566856, loss_cls=0.307357, loss_bbox=0.22935, loss_rpn_cls=0.011596, loss_rpn_bbox=0.018553, lr=0.00219, time_each_step=0.14s, eta=0:5:11\n",
      "2024-01-13 20:05:51 [INFO]\t[TRAIN] Epoch=5/12, Step=74/84, loss=0.709917, loss_cls=0.449073, loss_bbox=0.230292, loss_rpn_cls=0.006484, loss_rpn_bbox=0.024067, lr=0.002197, time_each_step=0.14s, eta=0:5:11\n",
      "2024-01-13 20:05:52 [INFO]\t[TRAIN] Epoch=5/12, Step=76/84, loss=0.465245, loss_cls=0.285112, loss_bbox=0.154108, loss_rpn_cls=0.009544, loss_rpn_bbox=0.016481, lr=0.002203, time_each_step=0.14s, eta=0:5:10\n",
      "2024-01-13 20:05:52 [INFO]\t[TRAIN] Epoch=5/12, Step=78/84, loss=0.620336, loss_cls=0.395485, loss_bbox=0.185531, loss_rpn_cls=0.022543, loss_rpn_bbox=0.016778, lr=0.00221, time_each_step=0.14s, eta=0:5:10\n",
      "2024-01-13 20:05:52 [INFO]\t[TRAIN] Epoch=5/12, Step=80/84, loss=0.560952, loss_cls=0.340731, loss_bbox=0.186576, loss_rpn_cls=0.017842, loss_rpn_bbox=0.015803, lr=0.002217, time_each_step=0.14s, eta=0:5:10\n",
      "2024-01-13 20:05:52 [INFO]\t[TRAIN] Epoch=5/12, Step=82/84, loss=0.554164, loss_cls=0.360527, loss_bbox=0.167069, loss_rpn_cls=0.010889, loss_rpn_bbox=0.015678, lr=0.002223, time_each_step=0.14s, eta=0:5:10\n",
      "2024-01-13 20:05:53 [INFO]\t[TRAIN] Epoch=5/12, Step=84/84, loss=0.481347, loss_cls=0.327915, loss_bbox=0.12967, loss_rpn_cls=0.007607, loss_rpn_bbox=0.016154, lr=0.00223, time_each_step=0.14s, eta=0:5:9\n",
      "2024-01-13 20:05:53 [INFO]\t[TRAIN] Epoch 5 finished, loss=0.62296, loss_cls=0.397517, loss_bbox=0.192836, loss_rpn_cls=0.014278, loss_rpn_bbox=0.018329, lr=0.002092 .\n",
      "2024-01-13 20:05:53 [WARNING]\tFaster RCNN supports batch_size=1 only during evaluating, so batch_size is forced to be set to 1.\n",
      "2024-01-13 20:05:53 [INFO]\tStart to evaluating(total_samples=24, total_steps=24)...\n"
     ]
    },
    {
     "name": "stderr",
     "output_type": "stream",
     "text": [
      "100%|██████████| 24/24 [00:05<00:00,  4.05it/s]\n"
     ]
    },
    {
     "name": "stdout",
     "output_type": "stream",
     "text": [
      "2024-01-13 20:05:59 [INFO]\t[EVAL] Finished, Epoch=5, bbox_map=73.378513 .\n",
      "2024-01-13 20:06:07 [INFO]\tModel saved in output/faster_rcnn_r50_fpn/best_model.\n",
      "2024-01-13 20:06:11 [INFO]\tModel saved in output/faster_rcnn_r50_fpn/epoch_5.\n",
      "2024-01-13 20:06:11 [INFO]\tCurrent evaluated best model in eval_dataset is epoch_5, bbox_map=73.37851260929392\n",
      "2024-01-13 20:06:19 [INFO]\t[TRAIN] Epoch=6/12, Step=2/84, loss=0.523089, loss_cls=0.329351, loss_bbox=0.165354, loss_rpn_cls=0.005689, loss_rpn_bbox=0.022695, lr=0.002237, time_each_step=0.5s, eta=0:5:0\n",
      "2024-01-13 20:06:20 [INFO]\t[TRAIN] Epoch=6/12, Step=4/84, loss=0.595673, loss_cls=0.383522, loss_bbox=0.170397, loss_rpn_cls=0.017151, loss_rpn_bbox=0.024603, lr=0.002243, time_each_step=0.53s, eta=0:5:2\n",
      "2024-01-13 20:06:20 [INFO]\t[TRAIN] Epoch=6/12, Step=6/84, loss=0.449758, loss_cls=0.283995, loss_bbox=0.145674, loss_rpn_cls=0.008297, loss_rpn_bbox=0.011793, lr=0.00225, time_each_step=0.55s, eta=0:5:3\n",
      "2024-01-13 20:06:21 [INFO]\t[TRAIN] Epoch=6/12, Step=8/84, loss=0.495079, loss_cls=0.315923, loss_bbox=0.154412, loss_rpn_cls=0.007433, loss_rpn_bbox=0.01731, lr=0.002257, time_each_step=0.58s, eta=0:5:4\n",
      "2024-01-13 20:06:22 [INFO]\t[TRAIN] Epoch=6/12, Step=10/84, loss=0.441139, loss_cls=0.29472, loss_bbox=0.122888, loss_rpn_cls=0.00842, loss_rpn_bbox=0.015111, lr=0.002263, time_each_step=0.61s, eta=0:5:5\n",
      "2024-01-13 20:06:23 [INFO]\t[TRAIN] Epoch=6/12, Step=12/84, loss=0.559325, loss_cls=0.369027, loss_bbox=0.168504, loss_rpn_cls=0.008908, loss_rpn_bbox=0.012887, lr=0.00227, time_each_step=0.64s, eta=0:5:6\n",
      "2024-01-13 20:06:23 [INFO]\t[TRAIN] Epoch=6/12, Step=14/84, loss=0.420182, loss_cls=0.256348, loss_bbox=0.146668, loss_rpn_cls=0.005247, loss_rpn_bbox=0.011919, lr=0.002277, time_each_step=0.65s, eta=0:5:5\n",
      "2024-01-13 20:06:24 [INFO]\t[TRAIN] Epoch=6/12, Step=16/84, loss=0.506333, loss_cls=0.30941, loss_bbox=0.149917, loss_rpn_cls=0.0169, loss_rpn_bbox=0.030107, lr=0.002283, time_each_step=0.66s, eta=0:5:4\n",
      "2024-01-13 20:06:24 [INFO]\t[TRAIN] Epoch=6/12, Step=18/84, loss=0.34659, loss_cls=0.208806, loss_bbox=0.115964, loss_rpn_cls=0.004971, loss_rpn_bbox=0.016848, lr=0.00229, time_each_step=0.66s, eta=0:5:3\n",
      "2024-01-13 20:06:24 [INFO]\t[TRAIN] Epoch=6/12, Step=20/84, loss=0.460023, loss_cls=0.27844, loss_bbox=0.14141, loss_rpn_cls=0.012214, loss_rpn_bbox=0.027958, lr=0.002297, time_each_step=0.66s, eta=0:5:2\n",
      "2024-01-13 20:06:25 [INFO]\t[TRAIN] Epoch=6/12, Step=22/84, loss=0.526461, loss_cls=0.348155, loss_bbox=0.149544, loss_rpn_cls=0.00306, loss_rpn_bbox=0.025702, lr=0.002303, time_each_step=0.3s, eta=0:4:39\n",
      "2024-01-13 20:06:25 [INFO]\t[TRAIN] Epoch=6/12, Step=24/84, loss=0.504842, loss_cls=0.348238, loss_bbox=0.140809, loss_rpn_cls=0.003912, loss_rpn_bbox=0.011883, lr=0.00231, time_each_step=0.27s, eta=0:4:36\n",
      "2024-01-13 20:06:25 [INFO]\t[TRAIN] Epoch=6/12, Step=26/84, loss=0.717435, loss_cls=0.50984, loss_bbox=0.17814, loss_rpn_cls=0.010074, loss_rpn_bbox=0.019381, lr=0.002317, time_each_step=0.25s, eta=0:4:34\n",
      "2024-01-13 20:06:26 [INFO]\t[TRAIN] Epoch=6/12, Step=28/84, loss=0.65317, loss_cls=0.407016, loss_bbox=0.2125, loss_rpn_cls=0.017572, loss_rpn_bbox=0.016082, lr=0.002323, time_each_step=0.22s, eta=0:4:32\n",
      "2024-01-13 20:06:26 [INFO]\t[TRAIN] Epoch=6/12, Step=30/84, loss=0.712035, loss_cls=0.473503, loss_bbox=0.20417, loss_rpn_cls=0.020753, loss_rpn_bbox=0.013608, lr=0.00233, time_each_step=0.19s, eta=0:4:30\n",
      "2024-01-13 20:06:26 [INFO]\t[TRAIN] Epoch=6/12, Step=32/84, loss=0.55336, loss_cls=0.31599, loss_bbox=0.206573, loss_rpn_cls=0.008892, loss_rpn_bbox=0.021905, lr=0.002337, time_each_step=0.16s, eta=0:4:28\n",
      "2024-01-13 20:06:26 [INFO]\t[TRAIN] Epoch=6/12, Step=34/84, loss=0.703659, loss_cls=0.424448, loss_bbox=0.244176, loss_rpn_cls=0.00867, loss_rpn_bbox=0.026365, lr=0.002343, time_each_step=0.15s, eta=0:4:27\n",
      "2024-01-13 20:06:27 [INFO]\t[TRAIN] Epoch=6/12, Step=36/84, loss=0.520061, loss_cls=0.331836, loss_bbox=0.165264, loss_rpn_cls=0.008624, loss_rpn_bbox=0.014336, lr=0.00235, time_each_step=0.15s, eta=0:4:27\n",
      "2024-01-13 20:06:27 [INFO]\t[TRAIN] Epoch=6/12, Step=38/84, loss=0.520943, loss_cls=0.304707, loss_bbox=0.186577, loss_rpn_cls=0.013947, loss_rpn_bbox=0.015712, lr=0.002357, time_each_step=0.14s, eta=0:4:26\n",
      "2024-01-13 20:06:27 [INFO]\t[TRAIN] Epoch=6/12, Step=40/84, loss=0.864975, loss_cls=0.503261, loss_bbox=0.313946, loss_rpn_cls=0.022757, loss_rpn_bbox=0.025012, lr=0.002363, time_each_step=0.14s, eta=0:4:26\n",
      "2024-01-13 20:06:28 [INFO]\t[TRAIN] Epoch=6/12, Step=42/84, loss=0.519353, loss_cls=0.35249, loss_bbox=0.144753, loss_rpn_cls=0.007335, loss_rpn_bbox=0.014774, lr=0.00237, time_each_step=0.14s, eta=0:4:26\n",
      "2024-01-13 20:06:28 [INFO]\t[TRAIN] Epoch=6/12, Step=44/84, loss=0.697166, loss_cls=0.41378, loss_bbox=0.255163, loss_rpn_cls=0.013479, loss_rpn_bbox=0.014744, lr=0.002377, time_each_step=0.14s, eta=0:4:25\n",
      "2024-01-13 20:06:28 [INFO]\t[TRAIN] Epoch=6/12, Step=46/84, loss=0.597455, loss_cls=0.354747, loss_bbox=0.225459, loss_rpn_cls=0.006263, loss_rpn_bbox=0.010987, lr=0.002383, time_each_step=0.14s, eta=0:4:25\n",
      "2024-01-13 20:06:28 [INFO]\t[TRAIN] Epoch=6/12, Step=48/84, loss=0.721737, loss_cls=0.488069, loss_bbox=0.198382, loss_rpn_cls=0.010818, loss_rpn_bbox=0.024469, lr=0.00239, time_each_step=0.14s, eta=0:4:25\n",
      "2024-01-13 20:06:29 [INFO]\t[TRAIN] Epoch=6/12, Step=50/84, loss=0.572879, loss_cls=0.35416, loss_bbox=0.176152, loss_rpn_cls=0.014103, loss_rpn_bbox=0.028464, lr=0.002397, time_each_step=0.14s, eta=0:4:24\n",
      "2024-01-13 20:06:29 [INFO]\t[TRAIN] Epoch=6/12, Step=52/84, loss=0.63584, loss_cls=0.463769, loss_bbox=0.153315, loss_rpn_cls=0.00573, loss_rpn_bbox=0.013026, lr=0.002403, time_each_step=0.14s, eta=0:4:24\n",
      "2024-01-13 20:06:29 [INFO]\t[TRAIN] Epoch=6/12, Step=54/84, loss=0.509455, loss_cls=0.333748, loss_bbox=0.140832, loss_rpn_cls=0.007619, loss_rpn_bbox=0.027256, lr=0.00241, time_each_step=0.14s, eta=0:4:24\n",
      "2024-01-13 20:06:29 [INFO]\t[TRAIN] Epoch=6/12, Step=56/84, loss=0.526085, loss_cls=0.305074, loss_bbox=0.201896, loss_rpn_cls=0.007795, loss_rpn_bbox=0.01132, lr=0.002417, time_each_step=0.14s, eta=0:4:24\n",
      "2024-01-13 20:06:30 [INFO]\t[TRAIN] Epoch=6/12, Step=58/84, loss=0.517946, loss_cls=0.33878, loss_bbox=0.147625, loss_rpn_cls=0.012066, loss_rpn_bbox=0.019475, lr=0.002423, time_each_step=0.14s, eta=0:4:23\n",
      "2024-01-13 20:06:30 [INFO]\t[TRAIN] Epoch=6/12, Step=60/84, loss=0.475244, loss_cls=0.27154, loss_bbox=0.163437, loss_rpn_cls=0.021528, loss_rpn_bbox=0.018739, lr=0.00243, time_each_step=0.14s, eta=0:4:23\n",
      "2024-01-13 20:06:30 [INFO]\t[TRAIN] Epoch=6/12, Step=62/84, loss=0.557056, loss_cls=0.292346, loss_bbox=0.231806, loss_rpn_cls=0.014507, loss_rpn_bbox=0.018396, lr=0.002437, time_each_step=0.14s, eta=0:4:23\n",
      "2024-01-13 20:06:31 [INFO]\t[TRAIN] Epoch=6/12, Step=64/84, loss=0.626761, loss_cls=0.408216, loss_bbox=0.191341, loss_rpn_cls=0.008928, loss_rpn_bbox=0.018276, lr=0.002443, time_each_step=0.14s, eta=0:4:22\n",
      "2024-01-13 20:06:31 [INFO]\t[TRAIN] Epoch=6/12, Step=66/84, loss=0.560785, loss_cls=0.39576, loss_bbox=0.149381, loss_rpn_cls=0.006332, loss_rpn_bbox=0.009312, lr=0.00245, time_each_step=0.14s, eta=0:4:22\n",
      "2024-01-13 20:06:31 [INFO]\t[TRAIN] Epoch=6/12, Step=68/84, loss=0.627218, loss_cls=0.373497, loss_bbox=0.217453, loss_rpn_cls=0.021477, loss_rpn_bbox=0.014791, lr=0.002457, time_each_step=0.14s, eta=0:4:22\n",
      "2024-01-13 20:06:31 [INFO]\t[TRAIN] Epoch=6/12, Step=70/84, loss=0.691526, loss_cls=0.428758, loss_bbox=0.227609, loss_rpn_cls=0.019157, loss_rpn_bbox=0.016002, lr=0.002463, time_each_step=0.14s, eta=0:4:22\n",
      "2024-01-13 20:06:32 [INFO]\t[TRAIN] Epoch=6/12, Step=72/84, loss=0.571733, loss_cls=0.372363, loss_bbox=0.174099, loss_rpn_cls=0.013307, loss_rpn_bbox=0.011964, lr=0.00247, time_each_step=0.14s, eta=0:4:21\n",
      "2024-01-13 20:06:32 [INFO]\t[TRAIN] Epoch=6/12, Step=74/84, loss=0.460167, loss_cls=0.324387, loss_bbox=0.107507, loss_rpn_cls=0.010057, loss_rpn_bbox=0.018217, lr=0.002477, time_each_step=0.14s, eta=0:4:21\n",
      "2024-01-13 20:06:32 [INFO]\t[TRAIN] Epoch=6/12, Step=76/84, loss=0.488725, loss_cls=0.313267, loss_bbox=0.150491, loss_rpn_cls=0.010026, loss_rpn_bbox=0.014941, lr=0.002483, time_each_step=0.14s, eta=0:4:21\n",
      "2024-01-13 20:06:33 [INFO]\t[TRAIN] Epoch=6/12, Step=78/84, loss=0.595987, loss_cls=0.44834, loss_bbox=0.130662, loss_rpn_cls=0.010258, loss_rpn_bbox=0.006728, lr=0.00249, time_each_step=0.14s, eta=0:4:21\n",
      "2024-01-13 20:06:33 [INFO]\t[TRAIN] Epoch=6/12, Step=80/84, loss=0.610525, loss_cls=0.409507, loss_bbox=0.170187, loss_rpn_cls=0.01313, loss_rpn_bbox=0.017702, lr=0.002497, time_each_step=0.14s, eta=0:4:20\n",
      "2024-01-13 20:06:33 [INFO]\t[TRAIN] Epoch=6/12, Step=82/84, loss=0.53881, loss_cls=0.329981, loss_bbox=0.184724, loss_rpn_cls=0.010197, loss_rpn_bbox=0.013909, lr=0.0025, time_each_step=0.14s, eta=0:4:20\n",
      "2024-01-13 20:06:33 [INFO]\t[TRAIN] Epoch=6/12, Step=84/84, loss=0.614775, loss_cls=0.399505, loss_bbox=0.199013, loss_rpn_cls=0.005783, loss_rpn_bbox=0.010474, lr=0.0025, time_each_step=0.14s, eta=0:4:20\n",
      "2024-01-13 20:06:33 [INFO]\t[TRAIN] Epoch 6 finished, loss=0.559639, loss_cls=0.356217, loss_bbox=0.175984, loss_rpn_cls=0.010487, loss_rpn_bbox=0.016951, lr=0.002371 .\n",
      "2024-01-13 20:06:33 [WARNING]\tFaster RCNN supports batch_size=1 only during evaluating, so batch_size is forced to be set to 1.\n",
      "2024-01-13 20:06:33 [INFO]\tStart to evaluating(total_samples=24, total_steps=24)...\n"
     ]
    },
    {
     "name": "stderr",
     "output_type": "stream",
     "text": [
      "100%|██████████| 24/24 [00:06<00:00,  3.81it/s]\n"
     ]
    },
    {
     "name": "stdout",
     "output_type": "stream",
     "text": [
      "2024-01-13 20:06:40 [INFO]\t[EVAL] Finished, Epoch=6, bbox_map=70.119728 .\n",
      "2024-01-13 20:06:44 [INFO]\tModel saved in output/faster_rcnn_r50_fpn/epoch_6.\n",
      "2024-01-13 20:06:44 [INFO]\tCurrent evaluated best model in eval_dataset is epoch_5, bbox_map=73.37851260929392\n",
      "2024-01-13 20:06:52 [INFO]\t[TRAIN] Epoch=7/12, Step=2/84, loss=0.456797, loss_cls=0.286654, loss_bbox=0.149951, loss_rpn_cls=0.007963, loss_rpn_bbox=0.012228, lr=0.0025, time_each_step=0.49s, eta=0:3:37\n",
      "2024-01-13 20:06:53 [INFO]\t[TRAIN] Epoch=7/12, Step=4/84, loss=0.533524, loss_cls=0.318488, loss_bbox=0.189029, loss_rpn_cls=0.011604, loss_rpn_bbox=0.014402, lr=0.0025, time_each_step=0.52s, eta=0:3:39\n",
      "2024-01-13 20:06:54 [INFO]\t[TRAIN] Epoch=7/12, Step=6/84, loss=0.564913, loss_cls=0.38398, loss_bbox=0.149488, loss_rpn_cls=0.011993, loss_rpn_bbox=0.019452, lr=0.0025, time_each_step=0.55s, eta=0:3:40\n",
      "2024-01-13 20:06:54 [INFO]\t[TRAIN] Epoch=7/12, Step=8/84, loss=0.42962, loss_cls=0.283199, loss_bbox=0.128222, loss_rpn_cls=0.007056, loss_rpn_bbox=0.011143, lr=0.0025, time_each_step=0.58s, eta=0:3:41\n",
      "2024-01-13 20:06:55 [INFO]\t[TRAIN] Epoch=7/12, Step=10/84, loss=0.373045, loss_cls=0.239172, loss_bbox=0.122765, loss_rpn_cls=0.007085, loss_rpn_bbox=0.004024, lr=0.0025, time_each_step=0.6s, eta=0:3:42\n",
      "2024-01-13 20:06:56 [INFO]\t[TRAIN] Epoch=7/12, Step=12/84, loss=0.516141, loss_cls=0.320525, loss_bbox=0.180876, loss_rpn_cls=0.006772, loss_rpn_bbox=0.007968, lr=0.0025, time_each_step=0.62s, eta=0:3:42\n",
      "2024-01-13 20:06:56 [INFO]\t[TRAIN] Epoch=7/12, Step=14/84, loss=0.448239, loss_cls=0.295596, loss_bbox=0.123244, loss_rpn_cls=0.01374, loss_rpn_bbox=0.015658, lr=0.0025, time_each_step=0.64s, eta=0:3:42\n",
      "2024-01-13 20:06:57 [INFO]\t[TRAIN] Epoch=7/12, Step=16/84, loss=0.567309, loss_cls=0.421958, loss_bbox=0.126903, loss_rpn_cls=0.006153, loss_rpn_bbox=0.012296, lr=0.0025, time_each_step=0.64s, eta=0:3:41\n",
      "2024-01-13 20:06:57 [INFO]\t[TRAIN] Epoch=7/12, Step=18/84, loss=0.590883, loss_cls=0.402337, loss_bbox=0.160823, loss_rpn_cls=0.014901, loss_rpn_bbox=0.012823, lr=0.0025, time_each_step=0.64s, eta=0:3:40\n",
      "2024-01-13 20:06:57 [INFO]\t[TRAIN] Epoch=7/12, Step=20/84, loss=0.56249, loss_cls=0.391457, loss_bbox=0.148219, loss_rpn_cls=0.007546, loss_rpn_bbox=0.015268, lr=0.0025, time_each_step=0.65s, eta=0:3:38\n",
      "2024-01-13 20:06:58 [INFO]\t[TRAIN] Epoch=7/12, Step=22/84, loss=0.423712, loss_cls=0.267218, loss_bbox=0.137562, loss_rpn_cls=0.007138, loss_rpn_bbox=0.011794, lr=0.0025, time_each_step=0.3s, eta=0:3:16\n",
      "2024-01-13 20:06:58 [INFO]\t[TRAIN] Epoch=7/12, Step=24/84, loss=0.584638, loss_cls=0.400695, loss_bbox=0.163592, loss_rpn_cls=0.011356, loss_rpn_bbox=0.008995, lr=0.0025, time_each_step=0.27s, eta=0:3:13\n",
      "2024-01-13 20:06:58 [INFO]\t[TRAIN] Epoch=7/12, Step=26/84, loss=0.41516, loss_cls=0.260551, loss_bbox=0.136833, loss_rpn_cls=0.004359, loss_rpn_bbox=0.013418, lr=0.0025, time_each_step=0.24s, eta=0:3:11\n",
      "2024-01-13 20:06:59 [INFO]\t[TRAIN] Epoch=7/12, Step=28/84, loss=0.445145, loss_cls=0.269905, loss_bbox=0.152164, loss_rpn_cls=0.003612, loss_rpn_bbox=0.019465, lr=0.0025, time_each_step=0.22s, eta=0:3:9\n",
      "2024-01-13 20:06:59 [INFO]\t[TRAIN] Epoch=7/12, Step=30/84, loss=0.656947, loss_cls=0.465371, loss_bbox=0.163304, loss_rpn_cls=0.014428, loss_rpn_bbox=0.013844, lr=0.0025, time_each_step=0.19s, eta=0:3:7\n",
      "2024-01-13 20:06:59 [INFO]\t[TRAIN] Epoch=7/12, Step=32/84, loss=0.654842, loss_cls=0.462306, loss_bbox=0.151763, loss_rpn_cls=0.024809, loss_rpn_bbox=0.015963, lr=0.0025, time_each_step=0.17s, eta=0:3:6\n",
      "2024-01-13 20:06:59 [INFO]\t[TRAIN] Epoch=7/12, Step=34/84, loss=0.532117, loss_cls=0.318517, loss_bbox=0.188947, loss_rpn_cls=0.012669, loss_rpn_bbox=0.011984, lr=0.0025, time_each_step=0.15s, eta=0:3:5\n",
      "2024-01-13 20:07:00 [INFO]\t[TRAIN] Epoch=7/12, Step=36/84, loss=0.424075, loss_cls=0.254129, loss_bbox=0.143967, loss_rpn_cls=0.004568, loss_rpn_bbox=0.021411, lr=0.0025, time_each_step=0.15s, eta=0:3:4\n",
      "2024-01-13 20:07:00 [INFO]\t[TRAIN] Epoch=7/12, Step=38/84, loss=0.461726, loss_cls=0.30041, loss_bbox=0.131985, loss_rpn_cls=0.009489, loss_rpn_bbox=0.019842, lr=0.0025, time_each_step=0.15s, eta=0:3:4\n",
      "2024-01-13 20:07:00 [INFO]\t[TRAIN] Epoch=7/12, Step=40/84, loss=0.382896, loss_cls=0.236339, loss_bbox=0.10905, loss_rpn_cls=0.018369, loss_rpn_bbox=0.019138, lr=0.0025, time_each_step=0.15s, eta=0:3:3\n",
      "2024-01-13 20:07:01 [INFO]\t[TRAIN] Epoch=7/12, Step=42/84, loss=0.474769, loss_cls=0.301042, loss_bbox=0.157068, loss_rpn_cls=0.00624, loss_rpn_bbox=0.010419, lr=0.0025, time_each_step=0.14s, eta=0:3:3\n",
      "2024-01-13 20:07:01 [INFO]\t[TRAIN] Epoch=7/12, Step=44/84, loss=0.421873, loss_cls=0.279308, loss_bbox=0.123276, loss_rpn_cls=0.005199, loss_rpn_bbox=0.014091, lr=0.0025, time_each_step=0.14s, eta=0:3:3\n",
      "2024-01-13 20:07:01 [INFO]\t[TRAIN] Epoch=7/12, Step=46/84, loss=0.507387, loss_cls=0.272308, loss_bbox=0.197288, loss_rpn_cls=0.008823, loss_rpn_bbox=0.028968, lr=0.0025, time_each_step=0.14s, eta=0:3:2\n",
      "2024-01-13 20:07:01 [INFO]\t[TRAIN] Epoch=7/12, Step=48/84, loss=0.378845, loss_cls=0.248676, loss_bbox=0.105553, loss_rpn_cls=0.00578, loss_rpn_bbox=0.018836, lr=0.0025, time_each_step=0.14s, eta=0:3:2\n",
      "2024-01-13 20:07:02 [INFO]\t[TRAIN] Epoch=7/12, Step=50/84, loss=0.486036, loss_cls=0.30981, loss_bbox=0.152528, loss_rpn_cls=0.008081, loss_rpn_bbox=0.015617, lr=0.0025, time_each_step=0.14s, eta=0:3:2\n",
      "2024-01-13 20:07:02 [INFO]\t[TRAIN] Epoch=7/12, Step=52/84, loss=0.587206, loss_cls=0.400909, loss_bbox=0.154054, loss_rpn_cls=0.009202, loss_rpn_bbox=0.023042, lr=0.0025, time_each_step=0.14s, eta=0:3:2\n",
      "2024-01-13 20:07:02 [INFO]\t[TRAIN] Epoch=7/12, Step=54/84, loss=0.553663, loss_cls=0.40435, loss_bbox=0.122637, loss_rpn_cls=0.004623, loss_rpn_bbox=0.022054, lr=0.0025, time_each_step=0.14s, eta=0:3:1\n",
      "2024-01-13 20:07:03 [INFO]\t[TRAIN] Epoch=7/12, Step=56/84, loss=0.518317, loss_cls=0.367064, loss_bbox=0.13673, loss_rpn_cls=0.004251, loss_rpn_bbox=0.010272, lr=0.0025, time_each_step=0.14s, eta=0:3:1\n",
      "2024-01-13 20:07:03 [INFO]\t[TRAIN] Epoch=7/12, Step=58/84, loss=0.563838, loss_cls=0.384564, loss_bbox=0.14751, loss_rpn_cls=0.014327, loss_rpn_bbox=0.017438, lr=0.0025, time_each_step=0.14s, eta=0:3:1\n",
      "2024-01-13 20:07:03 [INFO]\t[TRAIN] Epoch=7/12, Step=60/84, loss=0.455632, loss_cls=0.294551, loss_bbox=0.131148, loss_rpn_cls=0.016988, loss_rpn_bbox=0.012945, lr=0.0025, time_each_step=0.14s, eta=0:3:0\n",
      "2024-01-13 20:07:03 [INFO]\t[TRAIN] Epoch=7/12, Step=62/84, loss=0.722479, loss_cls=0.425839, loss_bbox=0.243219, loss_rpn_cls=0.027971, loss_rpn_bbox=0.02545, lr=0.0025, time_each_step=0.14s, eta=0:3:0\n",
      "2024-01-13 20:07:04 [INFO]\t[TRAIN] Epoch=7/12, Step=64/84, loss=0.334062, loss_cls=0.224323, loss_bbox=0.09318, loss_rpn_cls=0.003868, loss_rpn_bbox=0.012691, lr=0.0025, time_each_step=0.14s, eta=0:3:0\n",
      "2024-01-13 20:07:04 [INFO]\t[TRAIN] Epoch=7/12, Step=66/84, loss=0.481624, loss_cls=0.307483, loss_bbox=0.134745, loss_rpn_cls=0.008349, loss_rpn_bbox=0.031046, lr=0.0025, time_each_step=0.14s, eta=0:3:0\n",
      "2024-01-13 20:07:04 [INFO]\t[TRAIN] Epoch=7/12, Step=68/84, loss=0.457734, loss_cls=0.278649, loss_bbox=0.144392, loss_rpn_cls=0.0078, loss_rpn_bbox=0.026893, lr=0.0025, time_each_step=0.14s, eta=0:2:59\n",
      "2024-01-13 20:07:05 [INFO]\t[TRAIN] Epoch=7/12, Step=70/84, loss=0.424324, loss_cls=0.273166, loss_bbox=0.125494, loss_rpn_cls=0.012945, loss_rpn_bbox=0.012719, lr=0.0025, time_each_step=0.14s, eta=0:2:59\n",
      "2024-01-13 20:07:05 [INFO]\t[TRAIN] Epoch=7/12, Step=72/84, loss=0.446806, loss_cls=0.262381, loss_bbox=0.166982, loss_rpn_cls=0.00669, loss_rpn_bbox=0.010753, lr=0.0025, time_each_step=0.14s, eta=0:2:59\n",
      "2024-01-13 20:07:05 [INFO]\t[TRAIN] Epoch=7/12, Step=74/84, loss=0.430221, loss_cls=0.304408, loss_bbox=0.111437, loss_rpn_cls=0.002561, loss_rpn_bbox=0.011815, lr=0.0025, time_each_step=0.14s, eta=0:2:58\n",
      "2024-01-13 20:07:05 [INFO]\t[TRAIN] Epoch=7/12, Step=76/84, loss=0.64457, loss_cls=0.405876, loss_bbox=0.205766, loss_rpn_cls=0.013223, loss_rpn_bbox=0.019705, lr=0.0025, time_each_step=0.14s, eta=0:2:58\n",
      "2024-01-13 20:07:06 [INFO]\t[TRAIN] Epoch=7/12, Step=78/84, loss=0.583006, loss_cls=0.313978, loss_bbox=0.24679, loss_rpn_cls=0.009839, loss_rpn_bbox=0.012399, lr=0.0025, time_each_step=0.14s, eta=0:2:58\n",
      "2024-01-13 20:07:06 [INFO]\t[TRAIN] Epoch=7/12, Step=80/84, loss=0.490185, loss_cls=0.285202, loss_bbox=0.174476, loss_rpn_cls=0.007783, loss_rpn_bbox=0.022723, lr=0.0025, time_each_step=0.14s, eta=0:2:58\n",
      "2024-01-13 20:07:06 [INFO]\t[TRAIN] Epoch=7/12, Step=82/84, loss=0.471017, loss_cls=0.326328, loss_bbox=0.124807, loss_rpn_cls=0.005371, loss_rpn_bbox=0.014511, lr=0.0025, time_each_step=0.14s, eta=0:2:57\n",
      "2024-01-13 20:07:06 [INFO]\t[TRAIN] Epoch=7/12, Step=84/84, loss=0.624393, loss_cls=0.404719, loss_bbox=0.171432, loss_rpn_cls=0.019539, loss_rpn_bbox=0.028703, lr=0.0025, time_each_step=0.14s, eta=0:2:57\n",
      "2024-01-13 20:07:06 [INFO]\t[TRAIN] Epoch 7 finished, loss=0.500303, loss_cls=0.325931, loss_bbox=0.149192, loss_rpn_cls=0.009591, loss_rpn_bbox=0.015589, lr=0.0025 .\n",
      "2024-01-13 20:07:06 [WARNING]\tFaster RCNN supports batch_size=1 only during evaluating, so batch_size is forced to be set to 1.\n",
      "2024-01-13 20:07:06 [INFO]\tStart to evaluating(total_samples=24, total_steps=24)...\n"
     ]
    },
    {
     "name": "stderr",
     "output_type": "stream",
     "text": [
      "100%|██████████| 24/24 [00:05<00:00,  4.13it/s]\n"
     ]
    },
    {
     "name": "stdout",
     "output_type": "stream",
     "text": [
      "2024-01-13 20:07:12 [INFO]\t[EVAL] Finished, Epoch=7, bbox_map=77.530353 .\n",
      "2024-01-13 20:07:21 [INFO]\tModel saved in output/faster_rcnn_r50_fpn/best_model.\n",
      "2024-01-13 20:07:25 [INFO]\tModel saved in output/faster_rcnn_r50_fpn/epoch_7.\n",
      "2024-01-13 20:07:25 [INFO]\tCurrent evaluated best model in eval_dataset is epoch_7, bbox_map=77.53035285833289\n",
      "2024-01-13 20:07:32 [INFO]\t[TRAIN] Epoch=8/12, Step=2/84, loss=0.37094, loss_cls=0.233304, loss_bbox=0.116314, loss_rpn_cls=0.00883, loss_rpn_bbox=0.012492, lr=0.0025, time_each_step=0.49s, eta=0:3:39\n",
      "2024-01-13 20:07:33 [INFO]\t[TRAIN] Epoch=8/12, Step=4/84, loss=0.427099, loss_cls=0.272015, loss_bbox=0.139786, loss_rpn_cls=0.004917, loss_rpn_bbox=0.010381, lr=0.0025, time_each_step=0.53s, eta=0:3:42\n",
      "2024-01-13 20:07:34 [INFO]\t[TRAIN] Epoch=8/12, Step=6/84, loss=0.463065, loss_cls=0.282066, loss_bbox=0.167843, loss_rpn_cls=0.006691, loss_rpn_bbox=0.006465, lr=0.0025, time_each_step=0.56s, eta=0:3:43\n",
      "2024-01-13 20:07:35 [INFO]\t[TRAIN] Epoch=8/12, Step=8/84, loss=0.535064, loss_cls=0.384058, loss_bbox=0.134056, loss_rpn_cls=0.005294, loss_rpn_bbox=0.011656, lr=0.0025, time_each_step=0.59s, eta=0:3:44\n",
      "2024-01-13 20:07:36 [INFO]\t[TRAIN] Epoch=8/12, Step=10/84, loss=0.371224, loss_cls=0.247254, loss_bbox=0.103967, loss_rpn_cls=0.004968, loss_rpn_bbox=0.015035, lr=0.0025, time_each_step=0.61s, eta=0:3:45\n",
      "2024-01-13 20:07:36 [INFO]\t[TRAIN] Epoch=8/12, Step=12/84, loss=0.630023, loss_cls=0.429596, loss_bbox=0.156644, loss_rpn_cls=0.014015, loss_rpn_bbox=0.029769, lr=0.0025, time_each_step=0.63s, eta=0:3:45\n",
      "2024-01-13 20:07:37 [INFO]\t[TRAIN] Epoch=8/12, Step=14/84, loss=0.408378, loss_cls=0.294986, loss_bbox=0.086869, loss_rpn_cls=0.015104, loss_rpn_bbox=0.01142, lr=0.0025, time_each_step=0.65s, eta=0:3:45\n",
      "2024-01-13 20:07:38 [INFO]\t[TRAIN] Epoch=8/12, Step=16/84, loss=0.471468, loss_cls=0.306951, loss_bbox=0.144315, loss_rpn_cls=0.006017, loss_rpn_bbox=0.014185, lr=0.0025, time_each_step=0.66s, eta=0:3:45\n",
      "2024-01-13 20:07:38 [INFO]\t[TRAIN] Epoch=8/12, Step=18/84, loss=0.349383, loss_cls=0.241968, loss_bbox=0.095608, loss_rpn_cls=0.002083, loss_rpn_bbox=0.009725, lr=0.0025, time_each_step=0.67s, eta=0:3:43\n",
      "2024-01-13 20:07:38 [INFO]\t[TRAIN] Epoch=8/12, Step=20/84, loss=0.416226, loss_cls=0.298439, loss_bbox=0.095325, loss_rpn_cls=0.00691, loss_rpn_bbox=0.015551, lr=0.0025, time_each_step=0.67s, eta=0:3:42\n",
      "2024-01-13 20:07:39 [INFO]\t[TRAIN] Epoch=8/12, Step=22/84, loss=0.39863, loss_cls=0.248778, loss_bbox=0.124322, loss_rpn_cls=0.011057, loss_rpn_bbox=0.014472, lr=0.0025, time_each_step=0.32s, eta=0:3:19\n",
      "2024-01-13 20:07:39 [INFO]\t[TRAIN] Epoch=8/12, Step=24/84, loss=0.554058, loss_cls=0.376572, loss_bbox=0.14698, loss_rpn_cls=0.014725, loss_rpn_bbox=0.01578, lr=0.0025, time_each_step=0.28s, eta=0:3:16\n",
      "2024-01-13 20:07:39 [INFO]\t[TRAIN] Epoch=8/12, Step=26/84, loss=0.500214, loss_cls=0.345785, loss_bbox=0.127646, loss_rpn_cls=0.01304, loss_rpn_bbox=0.013743, lr=0.0025, time_each_step=0.25s, eta=0:3:14\n",
      "2024-01-13 20:07:39 [INFO]\t[TRAIN] Epoch=8/12, Step=28/84, loss=0.477835, loss_cls=0.320639, loss_bbox=0.142343, loss_rpn_cls=0.005155, loss_rpn_bbox=0.009698, lr=0.0025, time_each_step=0.23s, eta=0:3:12\n",
      "2024-01-13 20:07:40 [INFO]\t[TRAIN] Epoch=8/12, Step=30/84, loss=0.402665, loss_cls=0.255417, loss_bbox=0.1315, loss_rpn_cls=0.005045, loss_rpn_bbox=0.010703, lr=0.0025, time_each_step=0.2s, eta=0:3:10\n",
      "2024-01-13 20:07:40 [INFO]\t[TRAIN] Epoch=8/12, Step=32/84, loss=0.483139, loss_cls=0.318796, loss_bbox=0.139809, loss_rpn_cls=0.009358, loss_rpn_bbox=0.015175, lr=0.0025, time_each_step=0.18s, eta=0:3:9\n",
      "2024-01-13 20:07:40 [INFO]\t[TRAIN] Epoch=8/12, Step=34/84, loss=0.309944, loss_cls=0.184928, loss_bbox=0.110901, loss_rpn_cls=0.005207, loss_rpn_bbox=0.008908, lr=0.0025, time_each_step=0.16s, eta=0:3:7\n",
      "2024-01-13 20:07:41 [INFO]\t[TRAIN] Epoch=8/12, Step=36/84, loss=0.362908, loss_cls=0.210851, loss_bbox=0.131679, loss_rpn_cls=0.00506, loss_rpn_bbox=0.015317, lr=0.0025, time_each_step=0.15s, eta=0:3:7\n",
      "2024-01-13 20:07:41 [INFO]\t[TRAIN] Epoch=8/12, Step=38/84, loss=0.41692, loss_cls=0.293844, loss_bbox=0.110558, loss_rpn_cls=0.004569, loss_rpn_bbox=0.00795, lr=0.0025, time_each_step=0.15s, eta=0:3:6\n",
      "2024-01-13 20:07:41 [INFO]\t[TRAIN] Epoch=8/12, Step=40/84, loss=0.335969, loss_cls=0.227824, loss_bbox=0.096109, loss_rpn_cls=0.004945, loss_rpn_bbox=0.007091, lr=0.0025, time_each_step=0.15s, eta=0:3:6\n",
      "2024-01-13 20:07:41 [INFO]\t[TRAIN] Epoch=8/12, Step=42/84, loss=0.259095, loss_cls=0.148682, loss_bbox=0.099856, loss_rpn_cls=0.004024, loss_rpn_bbox=0.006533, lr=0.0025, time_each_step=0.14s, eta=0:3:5\n",
      "2024-01-13 20:07:42 [INFO]\t[TRAIN] Epoch=8/12, Step=44/84, loss=0.447012, loss_cls=0.26005, loss_bbox=0.152476, loss_rpn_cls=0.012292, loss_rpn_bbox=0.022193, lr=0.0025, time_each_step=0.14s, eta=0:3:5\n",
      "2024-01-13 20:07:42 [INFO]\t[TRAIN] Epoch=8/12, Step=46/84, loss=0.44413, loss_cls=0.278794, loss_bbox=0.140598, loss_rpn_cls=0.009255, loss_rpn_bbox=0.015483, lr=0.0025, time_each_step=0.14s, eta=0:3:5\n",
      "2024-01-13 20:07:42 [INFO]\t[TRAIN] Epoch=8/12, Step=48/84, loss=0.509728, loss_cls=0.324347, loss_bbox=0.166223, loss_rpn_cls=0.005418, loss_rpn_bbox=0.013739, lr=0.0025, time_each_step=0.14s, eta=0:3:4\n",
      "2024-01-13 20:07:42 [INFO]\t[TRAIN] Epoch=8/12, Step=50/84, loss=0.361971, loss_cls=0.217007, loss_bbox=0.119537, loss_rpn_cls=0.01516, loss_rpn_bbox=0.010267, lr=0.0025, time_each_step=0.14s, eta=0:3:4\n",
      "2024-01-13 20:07:43 [INFO]\t[TRAIN] Epoch=8/12, Step=52/84, loss=0.365234, loss_cls=0.236164, loss_bbox=0.108291, loss_rpn_cls=0.009537, loss_rpn_bbox=0.011243, lr=0.0025, time_each_step=0.14s, eta=0:3:4\n",
      "2024-01-13 20:07:43 [INFO]\t[TRAIN] Epoch=8/12, Step=54/84, loss=0.406098, loss_cls=0.247051, loss_bbox=0.1353, loss_rpn_cls=0.009598, loss_rpn_bbox=0.014149, lr=0.0025, time_each_step=0.14s, eta=0:3:4\n",
      "2024-01-13 20:07:43 [INFO]\t[TRAIN] Epoch=8/12, Step=56/84, loss=0.417888, loss_cls=0.255225, loss_bbox=0.130735, loss_rpn_cls=0.007088, loss_rpn_bbox=0.02484, lr=0.0025, time_each_step=0.14s, eta=0:3:3\n",
      "2024-01-13 20:07:44 [INFO]\t[TRAIN] Epoch=8/12, Step=58/84, loss=0.472235, loss_cls=0.308886, loss_bbox=0.145289, loss_rpn_cls=0.008697, loss_rpn_bbox=0.009363, lr=0.0025, time_each_step=0.14s, eta=0:3:3\n",
      "2024-01-13 20:07:44 [INFO]\t[TRAIN] Epoch=8/12, Step=60/84, loss=0.652584, loss_cls=0.460029, loss_bbox=0.153397, loss_rpn_cls=0.016904, loss_rpn_bbox=0.022254, lr=0.0025, time_each_step=0.14s, eta=0:3:3\n",
      "2024-01-13 20:07:44 [INFO]\t[TRAIN] Epoch=8/12, Step=62/84, loss=0.597357, loss_cls=0.427504, loss_bbox=0.149438, loss_rpn_cls=0.006755, loss_rpn_bbox=0.013659, lr=0.0025, time_each_step=0.14s, eta=0:3:2\n",
      "2024-01-13 20:07:44 [INFO]\t[TRAIN] Epoch=8/12, Step=64/84, loss=0.412276, loss_cls=0.257901, loss_bbox=0.131591, loss_rpn_cls=0.007992, loss_rpn_bbox=0.014791, lr=0.0025, time_each_step=0.14s, eta=0:3:2\n",
      "2024-01-13 20:07:45 [INFO]\t[TRAIN] Epoch=8/12, Step=66/84, loss=0.445821, loss_cls=0.307615, loss_bbox=0.11368, loss_rpn_cls=0.009747, loss_rpn_bbox=0.01478, lr=0.0025, time_each_step=0.14s, eta=0:3:2\n",
      "2024-01-13 20:07:45 [INFO]\t[TRAIN] Epoch=8/12, Step=68/84, loss=0.589518, loss_cls=0.405729, loss_bbox=0.156881, loss_rpn_cls=0.01132, loss_rpn_bbox=0.015589, lr=0.0025, time_each_step=0.14s, eta=0:3:2\n",
      "2024-01-13 20:07:45 [INFO]\t[TRAIN] Epoch=8/12, Step=70/84, loss=0.417648, loss_cls=0.297626, loss_bbox=0.101605, loss_rpn_cls=0.003115, loss_rpn_bbox=0.015302, lr=0.0025, time_each_step=0.14s, eta=0:3:1\n",
      "2024-01-13 20:07:46 [INFO]\t[TRAIN] Epoch=8/12, Step=72/84, loss=0.388408, loss_cls=0.277388, loss_bbox=0.092815, loss_rpn_cls=0.008076, loss_rpn_bbox=0.010129, lr=0.0025, time_each_step=0.14s, eta=0:3:1\n",
      "2024-01-13 20:07:46 [INFO]\t[TRAIN] Epoch=8/12, Step=74/84, loss=0.435146, loss_cls=0.271272, loss_bbox=0.134888, loss_rpn_cls=0.004623, loss_rpn_bbox=0.024362, lr=0.0025, time_each_step=0.14s, eta=0:3:1\n",
      "2024-01-13 20:07:46 [INFO]\t[TRAIN] Epoch=8/12, Step=76/84, loss=0.278557, loss_cls=0.190845, loss_bbox=0.074273, loss_rpn_cls=0.003429, loss_rpn_bbox=0.010011, lr=0.0025, time_each_step=0.14s, eta=0:3:1\n",
      "2024-01-13 20:07:46 [INFO]\t[TRAIN] Epoch=8/12, Step=78/84, loss=0.254416, loss_cls=0.145703, loss_bbox=0.098819, loss_rpn_cls=0.001568, loss_rpn_bbox=0.008326, lr=0.0025, time_each_step=0.14s, eta=0:3:0\n",
      "2024-01-13 20:07:47 [INFO]\t[TRAIN] Epoch=8/12, Step=80/84, loss=0.343112, loss_cls=0.205102, loss_bbox=0.121408, loss_rpn_cls=0.003435, loss_rpn_bbox=0.013168, lr=0.0025, time_each_step=0.14s, eta=0:3:0\n",
      "2024-01-13 20:07:47 [INFO]\t[TRAIN] Epoch=8/12, Step=82/84, loss=0.368879, loss_cls=0.22479, loss_bbox=0.12667, loss_rpn_cls=0.004963, loss_rpn_bbox=0.012457, lr=0.0025, time_each_step=0.14s, eta=0:3:0\n",
      "2024-01-13 20:07:47 [INFO]\t[TRAIN] Epoch=8/12, Step=84/84, loss=0.684331, loss_cls=0.510082, loss_bbox=0.15866, loss_rpn_cls=0.001995, loss_rpn_bbox=0.013594, lr=0.0025, time_each_step=0.14s, eta=0:2:59\n",
      "2024-01-13 20:07:47 [INFO]\t[TRAIN] Epoch 8 finished, loss=0.44625, loss_cls=0.298329, loss_bbox=0.125564, loss_rpn_cls=0.007926, loss_rpn_bbox=0.014431, lr=0.0025 .\n",
      "2024-01-13 20:07:47 [WARNING]\tFaster RCNN supports batch_size=1 only during evaluating, so batch_size is forced to be set to 1.\n",
      "2024-01-13 20:07:47 [INFO]\tStart to evaluating(total_samples=24, total_steps=24)...\n"
     ]
    },
    {
     "name": "stderr",
     "output_type": "stream",
     "text": [
      "100%|██████████| 24/24 [00:06<00:00,  3.86it/s]\n"
     ]
    },
    {
     "name": "stdout",
     "output_type": "stream",
     "text": [
      "2024-01-13 20:07:53 [INFO]\t[EVAL] Finished, Epoch=8, bbox_map=77.308581 .\n",
      "2024-01-13 20:07:58 [INFO]\tModel saved in output/faster_rcnn_r50_fpn/epoch_8.\n",
      "2024-01-13 20:07:58 [INFO]\tCurrent evaluated best model in eval_dataset is epoch_7, bbox_map=77.53035285833289\n",
      "2024-01-13 20:08:06 [INFO]\t[TRAIN] Epoch=9/12, Step=2/84, loss=0.422751, loss_cls=0.260973, loss_bbox=0.140266, loss_rpn_cls=0.006994, loss_rpn_bbox=0.014517, lr=0.00025, time_each_step=0.51s, eta=0:2:31\n",
      "2024-01-13 20:08:06 [INFO]\t[TRAIN] Epoch=9/12, Step=4/84, loss=0.262488, loss_cls=0.14863, loss_bbox=0.103362, loss_rpn_cls=0.001494, loss_rpn_bbox=0.009002, lr=0.00025, time_each_step=0.53s, eta=0:2:32\n",
      "2024-01-13 20:08:07 [INFO]\t[TRAIN] Epoch=9/12, Step=6/84, loss=0.39186, loss_cls=0.268626, loss_bbox=0.102349, loss_rpn_cls=0.004245, loss_rpn_bbox=0.01664, lr=0.00025, time_each_step=0.56s, eta=0:2:33\n",
      "2024-01-13 20:08:08 [INFO]\t[TRAIN] Epoch=9/12, Step=8/84, loss=0.256461, loss_cls=0.18312, loss_bbox=0.063342, loss_rpn_cls=0.004271, loss_rpn_bbox=0.005727, lr=0.00025, time_each_step=0.59s, eta=0:2:34\n",
      "2024-01-13 20:08:09 [INFO]\t[TRAIN] Epoch=9/12, Step=10/84, loss=0.477512, loss_cls=0.31955, loss_bbox=0.129355, loss_rpn_cls=0.011796, loss_rpn_bbox=0.01681, lr=0.00025, time_each_step=0.62s, eta=0:2:35\n",
      "2024-01-13 20:08:10 [INFO]\t[TRAIN] Epoch=9/12, Step=12/84, loss=0.403893, loss_cls=0.275876, loss_bbox=0.107668, loss_rpn_cls=0.005984, loss_rpn_bbox=0.014365, lr=0.00025, time_each_step=0.65s, eta=0:2:36\n",
      "2024-01-13 20:08:10 [INFO]\t[TRAIN] Epoch=9/12, Step=14/84, loss=0.342871, loss_cls=0.215091, loss_bbox=0.11187, loss_rpn_cls=0.003782, loss_rpn_bbox=0.012128, lr=0.00025, time_each_step=0.65s, eta=0:2:35\n",
      "2024-01-13 20:08:10 [INFO]\t[TRAIN] Epoch=9/12, Step=16/84, loss=0.465813, loss_cls=0.332702, loss_bbox=0.110631, loss_rpn_cls=0.010905, loss_rpn_bbox=0.011575, lr=0.00025, time_each_step=0.66s, eta=0:2:34\n",
      "2024-01-13 20:08:11 [INFO]\t[TRAIN] Epoch=9/12, Step=18/84, loss=0.46975, loss_cls=0.329676, loss_bbox=0.115496, loss_rpn_cls=0.008521, loss_rpn_bbox=0.016056, lr=0.00025, time_each_step=0.66s, eta=0:2:33\n",
      "2024-01-13 20:08:11 [INFO]\t[TRAIN] Epoch=9/12, Step=20/84, loss=0.225779, loss_cls=0.15019, loss_bbox=0.069095, loss_rpn_cls=0.002275, loss_rpn_bbox=0.00422, lr=0.00025, time_each_step=0.67s, eta=0:2:32\n",
      "2024-01-13 20:08:12 [INFO]\t[TRAIN] Epoch=9/12, Step=22/84, loss=0.415795, loss_cls=0.247159, loss_bbox=0.141097, loss_rpn_cls=0.007074, loss_rpn_bbox=0.020465, lr=0.00025, time_each_step=0.3s, eta=0:2:8\n",
      "2024-01-13 20:08:12 [INFO]\t[TRAIN] Epoch=9/12, Step=24/84, loss=0.440968, loss_cls=0.279521, loss_bbox=0.143543, loss_rpn_cls=0.004239, loss_rpn_bbox=0.013665, lr=0.00025, time_each_step=0.27s, eta=0:2:6\n",
      "2024-01-13 20:08:12 [INFO]\t[TRAIN] Epoch=9/12, Step=26/84, loss=0.293217, loss_cls=0.183569, loss_bbox=0.092069, loss_rpn_cls=0.006348, loss_rpn_bbox=0.011232, lr=0.00025, time_each_step=0.24s, eta=0:2:3\n",
      "2024-01-13 20:08:12 [INFO]\t[TRAIN] Epoch=9/12, Step=28/84, loss=0.331425, loss_cls=0.228723, loss_bbox=0.087756, loss_rpn_cls=0.006065, loss_rpn_bbox=0.008882, lr=0.00025, time_each_step=0.21s, eta=0:2:1\n",
      "2024-01-13 20:08:13 [INFO]\t[TRAIN] Epoch=9/12, Step=30/84, loss=0.213437, loss_cls=0.136629, loss_bbox=0.065914, loss_rpn_cls=0.00294, loss_rpn_bbox=0.007955, lr=0.00025, time_each_step=0.18s, eta=0:1:59\n",
      "2024-01-13 20:08:13 [INFO]\t[TRAIN] Epoch=9/12, Step=32/84, loss=0.260963, loss_cls=0.177107, loss_bbox=0.071161, loss_rpn_cls=0.007723, loss_rpn_bbox=0.004972, lr=0.00025, time_each_step=0.16s, eta=0:1:57\n",
      "2024-01-13 20:08:13 [INFO]\t[TRAIN] Epoch=9/12, Step=34/84, loss=0.384565, loss_cls=0.235654, loss_bbox=0.124623, loss_rpn_cls=0.00661, loss_rpn_bbox=0.017678, lr=0.00025, time_each_step=0.15s, eta=0:1:57\n",
      "2024-01-13 20:08:13 [INFO]\t[TRAIN] Epoch=9/12, Step=36/84, loss=0.299025, loss_cls=0.19698, loss_bbox=0.082461, loss_rpn_cls=0.01229, loss_rpn_bbox=0.007294, lr=0.00025, time_each_step=0.15s, eta=0:1:56\n",
      "2024-01-13 20:08:14 [INFO]\t[TRAIN] Epoch=9/12, Step=38/84, loss=0.320078, loss_cls=0.190207, loss_bbox=0.098458, loss_rpn_cls=0.010774, loss_rpn_bbox=0.02064, lr=0.00025, time_each_step=0.15s, eta=0:1:56\n",
      "2024-01-13 20:08:14 [INFO]\t[TRAIN] Epoch=9/12, Step=40/84, loss=0.31405, loss_cls=0.217144, loss_bbox=0.08803, loss_rpn_cls=0.002087, loss_rpn_bbox=0.006789, lr=0.00025, time_each_step=0.14s, eta=0:1:55\n",
      "2024-01-13 20:08:14 [INFO]\t[TRAIN] Epoch=9/12, Step=42/84, loss=0.403956, loss_cls=0.283912, loss_bbox=0.096379, loss_rpn_cls=0.009726, loss_rpn_bbox=0.013939, lr=0.00025, time_each_step=0.14s, eta=0:1:55\n",
      "2024-01-13 20:08:15 [INFO]\t[TRAIN] Epoch=9/12, Step=44/84, loss=0.295424, loss_cls=0.222545, loss_bbox=0.061603, loss_rpn_cls=0.003298, loss_rpn_bbox=0.007978, lr=0.00025, time_each_step=0.14s, eta=0:1:55\n",
      "2024-01-13 20:08:15 [INFO]\t[TRAIN] Epoch=9/12, Step=46/84, loss=0.29534, loss_cls=0.202501, loss_bbox=0.068705, loss_rpn_cls=0.003924, loss_rpn_bbox=0.020211, lr=0.00025, time_each_step=0.14s, eta=0:1:54\n",
      "2024-01-13 20:08:15 [INFO]\t[TRAIN] Epoch=9/12, Step=48/84, loss=0.229707, loss_cls=0.153365, loss_bbox=0.05501, loss_rpn_cls=0.009852, loss_rpn_bbox=0.011479, lr=0.00025, time_each_step=0.14s, eta=0:1:54\n",
      "2024-01-13 20:08:15 [INFO]\t[TRAIN] Epoch=9/12, Step=50/84, loss=0.293644, loss_cls=0.210352, loss_bbox=0.07406, loss_rpn_cls=0.001787, loss_rpn_bbox=0.007445, lr=0.00025, time_each_step=0.14s, eta=0:1:54\n",
      "2024-01-13 20:08:16 [INFO]\t[TRAIN] Epoch=9/12, Step=52/84, loss=0.331449, loss_cls=0.227196, loss_bbox=0.089696, loss_rpn_cls=0.004863, loss_rpn_bbox=0.009694, lr=0.00025, time_each_step=0.14s, eta=0:1:54\n",
      "2024-01-13 20:08:16 [INFO]\t[TRAIN] Epoch=9/12, Step=54/84, loss=0.216435, loss_cls=0.134543, loss_bbox=0.065497, loss_rpn_cls=0.006997, loss_rpn_bbox=0.009398, lr=0.00025, time_each_step=0.14s, eta=0:1:53\n",
      "2024-01-13 20:08:16 [INFO]\t[TRAIN] Epoch=9/12, Step=56/84, loss=0.34229, loss_cls=0.233862, loss_bbox=0.075319, loss_rpn_cls=0.015531, loss_rpn_bbox=0.017578, lr=0.00025, time_each_step=0.14s, eta=0:1:53\n",
      "2024-01-13 20:08:16 [INFO]\t[TRAIN] Epoch=9/12, Step=58/84, loss=0.389931, loss_cls=0.294616, loss_bbox=0.077777, loss_rpn_cls=0.002272, loss_rpn_bbox=0.015266, lr=0.00025, time_each_step=0.14s, eta=0:1:53\n",
      "2024-01-13 20:08:17 [INFO]\t[TRAIN] Epoch=9/12, Step=60/84, loss=0.219387, loss_cls=0.138425, loss_bbox=0.07452, loss_rpn_cls=0.002042, loss_rpn_bbox=0.004401, lr=0.00025, time_each_step=0.14s, eta=0:1:52\n",
      "2024-01-13 20:08:17 [INFO]\t[TRAIN] Epoch=9/12, Step=62/84, loss=0.323563, loss_cls=0.24151, loss_bbox=0.067643, loss_rpn_cls=0.003243, loss_rpn_bbox=0.011167, lr=0.00025, time_each_step=0.14s, eta=0:1:52\n",
      "2024-01-13 20:08:17 [INFO]\t[TRAIN] Epoch=9/12, Step=64/84, loss=0.461167, loss_cls=0.328997, loss_bbox=0.115348, loss_rpn_cls=0.003316, loss_rpn_bbox=0.013507, lr=0.00025, time_each_step=0.14s, eta=0:1:52\n",
      "2024-01-13 20:08:18 [INFO]\t[TRAIN] Epoch=9/12, Step=66/84, loss=0.540471, loss_cls=0.440707, loss_bbox=0.07957, loss_rpn_cls=0.008197, loss_rpn_bbox=0.011997, lr=0.00025, time_each_step=0.14s, eta=0:1:52\n",
      "2024-01-13 20:08:18 [INFO]\t[TRAIN] Epoch=9/12, Step=68/84, loss=0.318926, loss_cls=0.207643, loss_bbox=0.089458, loss_rpn_cls=0.009557, loss_rpn_bbox=0.012268, lr=0.00025, time_each_step=0.14s, eta=0:1:51\n",
      "2024-01-13 20:08:18 [INFO]\t[TRAIN] Epoch=9/12, Step=70/84, loss=0.472336, loss_cls=0.377925, loss_bbox=0.078186, loss_rpn_cls=0.003424, loss_rpn_bbox=0.0128, lr=0.00025, time_each_step=0.14s, eta=0:1:51\n",
      "2024-01-13 20:08:18 [INFO]\t[TRAIN] Epoch=9/12, Step=72/84, loss=0.309969, loss_cls=0.206302, loss_bbox=0.093086, loss_rpn_cls=0.003858, loss_rpn_bbox=0.006724, lr=0.00025, time_each_step=0.14s, eta=0:1:51\n",
      "2024-01-13 20:08:19 [INFO]\t[TRAIN] Epoch=9/12, Step=74/84, loss=0.343155, loss_cls=0.236737, loss_bbox=0.088739, loss_rpn_cls=0.006341, loss_rpn_bbox=0.011338, lr=0.00025, time_each_step=0.14s, eta=0:1:51\n",
      "2024-01-13 20:08:19 [INFO]\t[TRAIN] Epoch=9/12, Step=76/84, loss=0.296773, loss_cls=0.194103, loss_bbox=0.088752, loss_rpn_cls=0.004598, loss_rpn_bbox=0.00932, lr=0.00025, time_each_step=0.14s, eta=0:1:50\n",
      "2024-01-13 20:08:19 [INFO]\t[TRAIN] Epoch=9/12, Step=78/84, loss=0.234962, loss_cls=0.175138, loss_bbox=0.053871, loss_rpn_cls=0.002601, loss_rpn_bbox=0.003352, lr=0.00025, time_each_step=0.14s, eta=0:1:50\n",
      "2024-01-13 20:08:20 [INFO]\t[TRAIN] Epoch=9/12, Step=80/84, loss=0.396232, loss_cls=0.306011, loss_bbox=0.078948, loss_rpn_cls=0.002577, loss_rpn_bbox=0.008696, lr=0.00025, time_each_step=0.14s, eta=0:1:50\n",
      "2024-01-13 20:08:20 [INFO]\t[TRAIN] Epoch=9/12, Step=82/84, loss=0.277271, loss_cls=0.167635, loss_bbox=0.093663, loss_rpn_cls=0.005145, loss_rpn_bbox=0.010828, lr=0.00025, time_each_step=0.14s, eta=0:1:49\n",
      "2024-01-13 20:08:20 [INFO]\t[TRAIN] Epoch=9/12, Step=84/84, loss=0.241714, loss_cls=0.159977, loss_bbox=0.068084, loss_rpn_cls=0.00506, loss_rpn_bbox=0.008592, lr=0.00025, time_each_step=0.14s, eta=0:1:49\n",
      "2024-01-13 20:08:20 [INFO]\t[TRAIN] Epoch 9 finished, loss=0.326333, loss_cls=0.222047, loss_bbox=0.088127, loss_rpn_cls=0.005452, loss_rpn_bbox=0.010706, lr=0.00025 .\n",
      "2024-01-13 20:08:20 [WARNING]\tFaster RCNN supports batch_size=1 only during evaluating, so batch_size is forced to be set to 1.\n",
      "2024-01-13 20:08:20 [INFO]\tStart to evaluating(total_samples=24, total_steps=24)...\n"
     ]
    },
    {
     "name": "stderr",
     "output_type": "stream",
     "text": [
      "100%|██████████| 24/24 [00:05<00:00,  4.04it/s]\n"
     ]
    },
    {
     "name": "stdout",
     "output_type": "stream",
     "text": [
      "2024-01-13 20:08:26 [INFO]\t[EVAL] Finished, Epoch=9, bbox_map=80.702387 .\n",
      "2024-01-13 20:08:35 [INFO]\tModel saved in output/faster_rcnn_r50_fpn/best_model.\n",
      "2024-01-13 20:08:39 [INFO]\tModel saved in output/faster_rcnn_r50_fpn/epoch_9.\n",
      "2024-01-13 20:08:39 [INFO]\tCurrent evaluated best model in eval_dataset is epoch_9, bbox_map=80.70238705781438\n",
      "2024-01-13 20:08:46 [INFO]\t[TRAIN] Epoch=10/12, Step=2/84, loss=0.286725, loss_cls=0.165578, loss_bbox=0.108555, loss_rpn_cls=0.006251, loss_rpn_bbox=0.006341, lr=0.00025, time_each_step=0.49s, eta=0:2:21\n",
      "2024-01-13 20:08:47 [INFO]\t[TRAIN] Epoch=10/12, Step=4/84, loss=0.269993, loss_cls=0.195923, loss_bbox=0.063058, loss_rpn_cls=0.003677, loss_rpn_bbox=0.007334, lr=0.00025, time_each_step=0.52s, eta=0:2:22\n",
      "2024-01-13 20:08:48 [INFO]\t[TRAIN] Epoch=10/12, Step=6/84, loss=0.259276, loss_cls=0.169018, loss_bbox=0.078373, loss_rpn_cls=0.006301, loss_rpn_bbox=0.005584, lr=0.00025, time_each_step=0.54s, eta=0:2:23\n",
      "2024-01-13 20:08:49 [INFO]\t[TRAIN] Epoch=10/12, Step=8/84, loss=0.271156, loss_cls=0.173118, loss_bbox=0.083785, loss_rpn_cls=0.006036, loss_rpn_bbox=0.008218, lr=0.00025, time_each_step=0.57s, eta=0:2:24\n",
      "2024-01-13 20:08:50 [INFO]\t[TRAIN] Epoch=10/12, Step=10/84, loss=0.191869, loss_cls=0.131492, loss_bbox=0.053251, loss_rpn_cls=0.004031, loss_rpn_bbox=0.003096, lr=0.00025, time_each_step=0.59s, eta=0:2:25\n",
      "2024-01-13 20:08:50 [INFO]\t[TRAIN] Epoch=10/12, Step=12/84, loss=0.270348, loss_cls=0.190606, loss_bbox=0.067291, loss_rpn_cls=0.004032, loss_rpn_bbox=0.008419, lr=0.00025, time_each_step=0.61s, eta=0:2:25\n",
      "2024-01-13 20:08:51 [INFO]\t[TRAIN] Epoch=10/12, Step=14/84, loss=0.239196, loss_cls=0.150075, loss_bbox=0.077941, loss_rpn_cls=0.002509, loss_rpn_bbox=0.00867, lr=0.00025, time_each_step=0.63s, eta=0:2:25\n",
      "2024-01-13 20:08:51 [INFO]\t[TRAIN] Epoch=10/12, Step=16/84, loss=0.256052, loss_cls=0.185275, loss_bbox=0.060675, loss_rpn_cls=0.003103, loss_rpn_bbox=0.006999, lr=0.00025, time_each_step=0.64s, eta=0:2:25\n",
      "2024-01-13 20:08:52 [INFO]\t[TRAIN] Epoch=10/12, Step=18/84, loss=0.285452, loss_cls=0.183361, loss_bbox=0.089064, loss_rpn_cls=0.003584, loss_rpn_bbox=0.009442, lr=0.00025, time_each_step=0.64s, eta=0:2:23\n",
      "2024-01-13 20:08:52 [INFO]\t[TRAIN] Epoch=10/12, Step=20/84, loss=0.260753, loss_cls=0.152438, loss_bbox=0.088325, loss_rpn_cls=0.005019, loss_rpn_bbox=0.014971, lr=0.00025, time_each_step=0.64s, eta=0:2:22\n",
      "2024-01-13 20:08:52 [INFO]\t[TRAIN] Epoch=10/12, Step=22/84, loss=0.234149, loss_cls=0.155431, loss_bbox=0.067048, loss_rpn_cls=0.005426, loss_rpn_bbox=0.006244, lr=0.00025, time_each_step=0.3s, eta=0:1:59\n",
      "2024-01-13 20:08:53 [INFO]\t[TRAIN] Epoch=10/12, Step=24/84, loss=0.280798, loss_cls=0.198424, loss_bbox=0.068191, loss_rpn_cls=0.005146, loss_rpn_bbox=0.009037, lr=0.00025, time_each_step=0.27s, eta=0:1:57\n",
      "2024-01-13 20:08:53 [INFO]\t[TRAIN] Epoch=10/12, Step=26/84, loss=0.242555, loss_cls=0.15105, loss_bbox=0.079626, loss_rpn_cls=0.002443, loss_rpn_bbox=0.009436, lr=0.00025, time_each_step=0.25s, eta=0:1:55\n",
      "2024-01-13 20:08:53 [INFO]\t[TRAIN] Epoch=10/12, Step=28/84, loss=0.288949, loss_cls=0.191103, loss_bbox=0.081477, loss_rpn_cls=0.003817, loss_rpn_bbox=0.012552, lr=0.00025, time_each_step=0.22s, eta=0:1:53\n",
      "2024-01-13 20:08:54 [INFO]\t[TRAIN] Epoch=10/12, Step=30/84, loss=0.342785, loss_cls=0.219488, loss_bbox=0.097041, loss_rpn_cls=0.012876, loss_rpn_bbox=0.013379, lr=0.00025, time_each_step=0.19s, eta=0:1:52\n",
      "2024-01-13 20:08:54 [INFO]\t[TRAIN] Epoch=10/12, Step=32/84, loss=0.215874, loss_cls=0.154502, loss_bbox=0.047395, loss_rpn_cls=0.006236, loss_rpn_bbox=0.007742, lr=0.00025, time_each_step=0.18s, eta=0:1:50\n",
      "2024-01-13 20:08:54 [INFO]\t[TRAIN] Epoch=10/12, Step=34/84, loss=0.369228, loss_cls=0.248238, loss_bbox=0.106317, loss_rpn_cls=0.004362, loss_rpn_bbox=0.010311, lr=0.00025, time_each_step=0.16s, eta=0:1:49\n",
      "2024-01-13 20:08:54 [INFO]\t[TRAIN] Epoch=10/12, Step=36/84, loss=0.242771, loss_cls=0.161689, loss_bbox=0.072047, loss_rpn_cls=0.002608, loss_rpn_bbox=0.006428, lr=0.00025, time_each_step=0.15s, eta=0:1:48\n",
      "2024-01-13 20:08:55 [INFO]\t[TRAIN] Epoch=10/12, Step=38/84, loss=0.352533, loss_cls=0.25484, loss_bbox=0.08602, loss_rpn_cls=0.003998, loss_rpn_bbox=0.007676, lr=0.00025, time_each_step=0.15s, eta=0:1:48\n",
      "2024-01-13 20:08:55 [INFO]\t[TRAIN] Epoch=10/12, Step=40/84, loss=0.506566, loss_cls=0.400662, loss_bbox=0.09264, loss_rpn_cls=0.003194, loss_rpn_bbox=0.010071, lr=0.00025, time_each_step=0.14s, eta=0:1:47\n",
      "2024-01-13 20:08:55 [INFO]\t[TRAIN] Epoch=10/12, Step=42/84, loss=0.465442, loss_cls=0.360636, loss_bbox=0.081069, loss_rpn_cls=0.014765, loss_rpn_bbox=0.008972, lr=0.00025, time_each_step=0.14s, eta=0:1:47\n",
      "2024-01-13 20:08:55 [INFO]\t[TRAIN] Epoch=10/12, Step=44/84, loss=0.337682, loss_cls=0.214516, loss_bbox=0.097169, loss_rpn_cls=0.012165, loss_rpn_bbox=0.013832, lr=0.00025, time_each_step=0.14s, eta=0:1:47\n",
      "2024-01-13 20:08:56 [INFO]\t[TRAIN] Epoch=10/12, Step=46/84, loss=0.241061, loss_cls=0.161171, loss_bbox=0.06798, loss_rpn_cls=0.006906, loss_rpn_bbox=0.005003, lr=0.00025, time_each_step=0.14s, eta=0:1:46\n",
      "2024-01-13 20:08:56 [INFO]\t[TRAIN] Epoch=10/12, Step=48/84, loss=0.290168, loss_cls=0.200681, loss_bbox=0.076105, loss_rpn_cls=0.003177, loss_rpn_bbox=0.010205, lr=0.00025, time_each_step=0.14s, eta=0:1:46\n",
      "2024-01-13 20:08:56 [INFO]\t[TRAIN] Epoch=10/12, Step=50/84, loss=0.28756, loss_cls=0.197813, loss_bbox=0.078936, loss_rpn_cls=0.0034, loss_rpn_bbox=0.007411, lr=0.00025, time_each_step=0.14s, eta=0:1:46\n",
      "2024-01-13 20:08:57 [INFO]\t[TRAIN] Epoch=10/12, Step=52/84, loss=0.324878, loss_cls=0.216856, loss_bbox=0.089689, loss_rpn_cls=0.007593, loss_rpn_bbox=0.01074, lr=0.00025, time_each_step=0.14s, eta=0:1:45\n",
      "2024-01-13 20:08:57 [INFO]\t[TRAIN] Epoch=10/12, Step=54/84, loss=0.313167, loss_cls=0.23481, loss_bbox=0.058972, loss_rpn_cls=0.00826, loss_rpn_bbox=0.011126, lr=0.00025, time_each_step=0.14s, eta=0:1:45\n",
      "2024-01-13 20:08:57 [INFO]\t[TRAIN] Epoch=10/12, Step=56/84, loss=0.260299, loss_cls=0.180132, loss_bbox=0.067487, loss_rpn_cls=0.005938, loss_rpn_bbox=0.006742, lr=0.00025, time_each_step=0.14s, eta=0:1:45\n",
      "2024-01-13 20:08:57 [INFO]\t[TRAIN] Epoch=10/12, Step=58/84, loss=0.28864, loss_cls=0.223335, loss_bbox=0.049331, loss_rpn_cls=0.004536, loss_rpn_bbox=0.011438, lr=0.00025, time_each_step=0.14s, eta=0:1:45\n",
      "2024-01-13 20:08:58 [INFO]\t[TRAIN] Epoch=10/12, Step=60/84, loss=0.334312, loss_cls=0.222453, loss_bbox=0.096374, loss_rpn_cls=0.00678, loss_rpn_bbox=0.008704, lr=0.00025, time_each_step=0.14s, eta=0:1:44\n",
      "2024-01-13 20:08:58 [INFO]\t[TRAIN] Epoch=10/12, Step=62/84, loss=0.272174, loss_cls=0.179712, loss_bbox=0.074421, loss_rpn_cls=0.003463, loss_rpn_bbox=0.014578, lr=0.00025, time_each_step=0.14s, eta=0:1:44\n",
      "2024-01-13 20:08:58 [INFO]\t[TRAIN] Epoch=10/12, Step=64/84, loss=0.502253, loss_cls=0.37929, loss_bbox=0.107231, loss_rpn_cls=0.004162, loss_rpn_bbox=0.01157, lr=0.00025, time_each_step=0.14s, eta=0:1:44\n",
      "2024-01-13 20:08:59 [INFO]\t[TRAIN] Epoch=10/12, Step=66/84, loss=0.368108, loss_cls=0.280094, loss_bbox=0.073643, loss_rpn_cls=0.005015, loss_rpn_bbox=0.009355, lr=0.00025, time_each_step=0.14s, eta=0:1:44\n",
      "2024-01-13 20:08:59 [INFO]\t[TRAIN] Epoch=10/12, Step=68/84, loss=0.249761, loss_cls=0.15574, loss_bbox=0.082016, loss_rpn_cls=0.006743, loss_rpn_bbox=0.005261, lr=0.00025, time_each_step=0.14s, eta=0:1:43\n",
      "2024-01-13 20:08:59 [INFO]\t[TRAIN] Epoch=10/12, Step=70/84, loss=0.256977, loss_cls=0.183705, loss_bbox=0.063207, loss_rpn_cls=0.003621, loss_rpn_bbox=0.006444, lr=0.00025, time_each_step=0.14s, eta=0:1:43\n",
      "2024-01-13 20:08:59 [INFO]\t[TRAIN] Epoch=10/12, Step=72/84, loss=0.204394, loss_cls=0.143743, loss_bbox=0.051449, loss_rpn_cls=0.00498, loss_rpn_bbox=0.004222, lr=0.00025, time_each_step=0.14s, eta=0:1:43\n",
      "2024-01-13 20:09:00 [INFO]\t[TRAIN] Epoch=10/12, Step=74/84, loss=0.296615, loss_cls=0.212762, loss_bbox=0.070022, loss_rpn_cls=0.004235, loss_rpn_bbox=0.009595, lr=0.00025, time_each_step=0.14s, eta=0:1:42\n",
      "2024-01-13 20:09:00 [INFO]\t[TRAIN] Epoch=10/12, Step=76/84, loss=0.233325, loss_cls=0.167187, loss_bbox=0.056661, loss_rpn_cls=0.003892, loss_rpn_bbox=0.005585, lr=0.00025, time_each_step=0.14s, eta=0:1:42\n",
      "2024-01-13 20:09:00 [INFO]\t[TRAIN] Epoch=10/12, Step=78/84, loss=0.305601, loss_cls=0.170092, loss_bbox=0.110003, loss_rpn_cls=0.009197, loss_rpn_bbox=0.016309, lr=0.00025, time_each_step=0.14s, eta=0:1:42\n",
      "2024-01-13 20:09:00 [INFO]\t[TRAIN] Epoch=10/12, Step=80/84, loss=0.346853, loss_cls=0.241169, loss_bbox=0.094319, loss_rpn_cls=0.002607, loss_rpn_bbox=0.008758, lr=0.00025, time_each_step=0.14s, eta=0:1:42\n",
      "2024-01-13 20:09:01 [INFO]\t[TRAIN] Epoch=10/12, Step=82/84, loss=0.303609, loss_cls=0.207194, loss_bbox=0.079127, loss_rpn_cls=0.008277, loss_rpn_bbox=0.009011, lr=0.00025, time_each_step=0.14s, eta=0:1:41\n",
      "2024-01-13 20:09:01 [INFO]\t[TRAIN] Epoch=10/12, Step=84/84, loss=0.185597, loss_cls=0.121613, loss_bbox=0.058061, loss_rpn_cls=0.001361, loss_rpn_bbox=0.004562, lr=0.00025, time_each_step=0.14s, eta=0:1:41\n",
      "2024-01-13 20:09:01 [INFO]\t[TRAIN] Epoch 10 finished, loss=0.294807, loss_cls=0.201774, loss_bbox=0.077865, loss_rpn_cls=0.005361, loss_rpn_bbox=0.009807, lr=0.00025 .\n",
      "2024-01-13 20:09:01 [WARNING]\tFaster RCNN supports batch_size=1 only during evaluating, so batch_size is forced to be set to 1.\n",
      "2024-01-13 20:09:01 [INFO]\tStart to evaluating(total_samples=24, total_steps=24)...\n"
     ]
    },
    {
     "name": "stderr",
     "output_type": "stream",
     "text": [
      "100%|██████████| 24/24 [00:06<00:00,  3.90it/s]\n"
     ]
    },
    {
     "name": "stdout",
     "output_type": "stream",
     "text": [
      "2024-01-13 20:09:07 [INFO]\t[EVAL] Finished, Epoch=10, bbox_map=80.001776 .\n",
      "2024-01-13 20:09:12 [INFO]\tModel saved in output/faster_rcnn_r50_fpn/epoch_10.\n",
      "2024-01-13 20:09:12 [INFO]\tCurrent evaluated best model in eval_dataset is epoch_9, bbox_map=80.70238705781438\n",
      "2024-01-13 20:09:19 [INFO]\t[TRAIN] Epoch=11/12, Step=2/84, loss=0.293816, loss_cls=0.196824, loss_bbox=0.085477, loss_rpn_cls=0.002718, loss_rpn_bbox=0.008797, lr=0.00025, time_each_step=0.48s, eta=0:1:22\n",
      "2024-01-13 20:09:20 [INFO]\t[TRAIN] Epoch=11/12, Step=4/84, loss=0.29466, loss_cls=0.197164, loss_bbox=0.079928, loss_rpn_cls=0.006112, loss_rpn_bbox=0.011457, lr=0.00025, time_each_step=0.51s, eta=0:1:24\n",
      "2024-01-13 20:09:21 [INFO]\t[TRAIN] Epoch=11/12, Step=6/84, loss=0.366855, loss_cls=0.253677, loss_bbox=0.083519, loss_rpn_cls=0.013089, loss_rpn_bbox=0.016571, lr=0.00025, time_each_step=0.54s, eta=0:1:25\n",
      "2024-01-13 20:09:21 [INFO]\t[TRAIN] Epoch=11/12, Step=8/84, loss=0.298055, loss_cls=0.20263, loss_bbox=0.082768, loss_rpn_cls=0.004954, loss_rpn_bbox=0.007704, lr=0.00025, time_each_step=0.57s, eta=0:1:26\n",
      "2024-01-13 20:09:22 [INFO]\t[TRAIN] Epoch=11/12, Step=10/84, loss=0.313665, loss_cls=0.211422, loss_bbox=0.086385, loss_rpn_cls=0.003171, loss_rpn_bbox=0.012688, lr=0.00025, time_each_step=0.59s, eta=0:1:26\n",
      "2024-01-13 20:09:23 [INFO]\t[TRAIN] Epoch=11/12, Step=12/84, loss=0.273903, loss_cls=0.169155, loss_bbox=0.089321, loss_rpn_cls=0.004222, loss_rpn_bbox=0.011205, lr=0.00025, time_each_step=0.6s, eta=0:1:26\n",
      "2024-01-13 20:09:23 [INFO]\t[TRAIN] Epoch=11/12, Step=14/84, loss=0.208427, loss_cls=0.133142, loss_bbox=0.063769, loss_rpn_cls=0.002068, loss_rpn_bbox=0.009449, lr=0.00025, time_each_step=0.63s, eta=0:1:26\n",
      "2024-01-13 20:09:24 [INFO]\t[TRAIN] Epoch=11/12, Step=16/84, loss=0.228552, loss_cls=0.167164, loss_bbox=0.057212, loss_rpn_cls=0.001194, loss_rpn_bbox=0.002983, lr=0.00025, time_each_step=0.63s, eta=0:1:26\n",
      "2024-01-13 20:09:24 [INFO]\t[TRAIN] Epoch=11/12, Step=18/84, loss=0.240297, loss_cls=0.147641, loss_bbox=0.083657, loss_rpn_cls=0.001501, loss_rpn_bbox=0.007498, lr=0.00025, time_each_step=0.64s, eta=0:1:25\n",
      "2024-01-13 20:09:24 [INFO]\t[TRAIN] Epoch=11/12, Step=20/84, loss=0.199103, loss_cls=0.116825, loss_bbox=0.073722, loss_rpn_cls=0.004169, loss_rpn_bbox=0.004386, lr=0.00025, time_each_step=0.64s, eta=0:1:24\n",
      "2024-01-13 20:09:25 [INFO]\t[TRAIN] Epoch=11/12, Step=22/84, loss=0.219273, loss_cls=0.122001, loss_bbox=0.084816, loss_rpn_cls=0.003877, loss_rpn_bbox=0.008579, lr=0.00025, time_each_step=0.3s, eta=0:1:1\n",
      "2024-01-13 20:09:25 [INFO]\t[TRAIN] Epoch=11/12, Step=24/84, loss=0.453507, loss_cls=0.367595, loss_bbox=0.071915, loss_rpn_cls=0.002726, loss_rpn_bbox=0.011271, lr=0.00025, time_each_step=0.27s, eta=0:0:59\n",
      "2024-01-13 20:09:25 [INFO]\t[TRAIN] Epoch=11/12, Step=26/84, loss=0.325315, loss_cls=0.20139, loss_bbox=0.104491, loss_rpn_cls=0.006486, loss_rpn_bbox=0.012949, lr=0.00025, time_each_step=0.24s, eta=0:0:57\n",
      "2024-01-13 20:09:26 [INFO]\t[TRAIN] Epoch=11/12, Step=28/84, loss=0.290862, loss_cls=0.213301, loss_bbox=0.066891, loss_rpn_cls=0.002976, loss_rpn_bbox=0.007694, lr=0.00025, time_each_step=0.22s, eta=0:0:55\n",
      "2024-01-13 20:09:26 [INFO]\t[TRAIN] Epoch=11/12, Step=30/84, loss=0.271081, loss_cls=0.177473, loss_bbox=0.086001, loss_rpn_cls=0.002885, loss_rpn_bbox=0.004723, lr=0.00025, time_each_step=0.2s, eta=0:0:53\n",
      "2024-01-13 20:09:26 [INFO]\t[TRAIN] Epoch=11/12, Step=32/84, loss=0.183504, loss_cls=0.13275, loss_bbox=0.044162, loss_rpn_cls=0.001109, loss_rpn_bbox=0.005484, lr=0.00025, time_each_step=0.18s, eta=0:0:52\n",
      "2024-01-13 20:09:26 [INFO]\t[TRAIN] Epoch=11/12, Step=34/84, loss=0.345615, loss_cls=0.239362, loss_bbox=0.077438, loss_rpn_cls=0.011679, loss_rpn_bbox=0.017137, lr=0.00025, time_each_step=0.16s, eta=0:0:50\n",
      "2024-01-13 20:09:27 [INFO]\t[TRAIN] Epoch=11/12, Step=36/84, loss=0.24746, loss_cls=0.191034, loss_bbox=0.049176, loss_rpn_cls=0.001359, loss_rpn_bbox=0.00589, lr=0.00025, time_each_step=0.15s, eta=0:0:50\n",
      "2024-01-13 20:09:27 [INFO]\t[TRAIN] Epoch=11/12, Step=38/84, loss=0.298389, loss_cls=0.194563, loss_bbox=0.088625, loss_rpn_cls=0.003548, loss_rpn_bbox=0.011653, lr=0.00025, time_each_step=0.15s, eta=0:0:49\n",
      "2024-01-13 20:09:27 [INFO]\t[TRAIN] Epoch=11/12, Step=40/84, loss=0.219007, loss_cls=0.144065, loss_bbox=0.058895, loss_rpn_cls=0.010412, loss_rpn_bbox=0.005634, lr=0.00025, time_each_step=0.14s, eta=0:0:49\n",
      "2024-01-13 20:09:28 [INFO]\t[TRAIN] Epoch=11/12, Step=42/84, loss=0.430604, loss_cls=0.331156, loss_bbox=0.083121, loss_rpn_cls=0.004469, loss_rpn_bbox=0.011858, lr=0.00025, time_each_step=0.14s, eta=0:0:48\n",
      "2024-01-13 20:09:28 [INFO]\t[TRAIN] Epoch=11/12, Step=44/84, loss=0.275538, loss_cls=0.199596, loss_bbox=0.056833, loss_rpn_cls=0.00415, loss_rpn_bbox=0.01496, lr=0.00025, time_each_step=0.14s, eta=0:0:48\n",
      "2024-01-13 20:09:28 [INFO]\t[TRAIN] Epoch=11/12, Step=46/84, loss=0.179224, loss_cls=0.127304, loss_bbox=0.045697, loss_rpn_cls=0.002251, loss_rpn_bbox=0.003973, lr=0.00025, time_each_step=0.14s, eta=0:0:48\n",
      "2024-01-13 20:09:28 [INFO]\t[TRAIN] Epoch=11/12, Step=48/84, loss=0.301994, loss_cls=0.203213, loss_bbox=0.086785, loss_rpn_cls=0.002078, loss_rpn_bbox=0.009918, lr=0.00025, time_each_step=0.14s, eta=0:0:48\n",
      "2024-01-13 20:09:29 [INFO]\t[TRAIN] Epoch=11/12, Step=50/84, loss=0.188721, loss_cls=0.124601, loss_bbox=0.057353, loss_rpn_cls=0.001944, loss_rpn_bbox=0.004823, lr=0.00025, time_each_step=0.14s, eta=0:0:47\n",
      "2024-01-13 20:09:29 [INFO]\t[TRAIN] Epoch=11/12, Step=52/84, loss=0.398413, loss_cls=0.260077, loss_bbox=0.117282, loss_rpn_cls=0.008311, loss_rpn_bbox=0.012743, lr=0.00025, time_each_step=0.14s, eta=0:0:47\n",
      "2024-01-13 20:09:29 [INFO]\t[TRAIN] Epoch=11/12, Step=54/84, loss=0.161898, loss_cls=0.119159, loss_bbox=0.035386, loss_rpn_cls=0.003168, loss_rpn_bbox=0.004184, lr=0.00025, time_each_step=0.14s, eta=0:0:47\n",
      "2024-01-13 20:09:29 [INFO]\t[TRAIN] Epoch=11/12, Step=56/84, loss=0.338306, loss_cls=0.228273, loss_bbox=0.090855, loss_rpn_cls=0.007007, loss_rpn_bbox=0.012171, lr=0.00025, time_each_step=0.14s, eta=0:0:46\n",
      "2024-01-13 20:09:30 [INFO]\t[TRAIN] Epoch=11/12, Step=58/84, loss=0.188156, loss_cls=0.126627, loss_bbox=0.051638, loss_rpn_cls=0.005607, loss_rpn_bbox=0.004283, lr=0.00025, time_each_step=0.14s, eta=0:0:46\n",
      "2024-01-13 20:09:30 [INFO]\t[TRAIN] Epoch=11/12, Step=60/84, loss=0.216602, loss_cls=0.145007, loss_bbox=0.059642, loss_rpn_cls=0.003343, loss_rpn_bbox=0.008611, lr=0.00025, time_each_step=0.14s, eta=0:0:46\n",
      "2024-01-13 20:09:30 [INFO]\t[TRAIN] Epoch=11/12, Step=62/84, loss=0.285652, loss_cls=0.213523, loss_bbox=0.063278, loss_rpn_cls=0.001875, loss_rpn_bbox=0.006977, lr=0.00025, time_each_step=0.14s, eta=0:0:46\n",
      "2024-01-13 20:09:31 [INFO]\t[TRAIN] Epoch=11/12, Step=64/84, loss=0.242599, loss_cls=0.155299, loss_bbox=0.073394, loss_rpn_cls=0.005251, loss_rpn_bbox=0.008655, lr=0.00025, time_each_step=0.14s, eta=0:0:45\n",
      "2024-01-13 20:09:31 [INFO]\t[TRAIN] Epoch=11/12, Step=66/84, loss=0.241398, loss_cls=0.158517, loss_bbox=0.067985, loss_rpn_cls=0.003172, loss_rpn_bbox=0.011723, lr=0.00025, time_each_step=0.14s, eta=0:0:45\n",
      "2024-01-13 20:09:31 [INFO]\t[TRAIN] Epoch=11/12, Step=68/84, loss=0.187159, loss_cls=0.129303, loss_bbox=0.051316, loss_rpn_cls=0.002046, loss_rpn_bbox=0.004494, lr=0.00025, time_each_step=0.14s, eta=0:0:45\n",
      "2024-01-13 20:09:31 [INFO]\t[TRAIN] Epoch=11/12, Step=70/84, loss=0.419339, loss_cls=0.287074, loss_bbox=0.112653, loss_rpn_cls=0.007083, loss_rpn_bbox=0.012529, lr=0.00025, time_each_step=0.14s, eta=0:0:45\n",
      "2024-01-13 20:09:32 [INFO]\t[TRAIN] Epoch=11/12, Step=72/84, loss=0.25767, loss_cls=0.180668, loss_bbox=0.064452, loss_rpn_cls=0.005116, loss_rpn_bbox=0.007434, lr=0.00025, time_each_step=0.14s, eta=0:0:44\n",
      "2024-01-13 20:09:32 [INFO]\t[TRAIN] Epoch=11/12, Step=74/84, loss=0.248487, loss_cls=0.158274, loss_bbox=0.081364, loss_rpn_cls=0.005827, loss_rpn_bbox=0.003022, lr=0.00025, time_each_step=0.14s, eta=0:0:44\n",
      "2024-01-13 20:09:32 [INFO]\t[TRAIN] Epoch=11/12, Step=76/84, loss=0.224165, loss_cls=0.147589, loss_bbox=0.059988, loss_rpn_cls=0.003622, loss_rpn_bbox=0.012965, lr=0.00025, time_each_step=0.14s, eta=0:0:44\n",
      "2024-01-13 20:09:33 [INFO]\t[TRAIN] Epoch=11/12, Step=78/84, loss=0.251994, loss_cls=0.174713, loss_bbox=0.066255, loss_rpn_cls=0.00335, loss_rpn_bbox=0.007676, lr=0.00025, time_each_step=0.14s, eta=0:0:43\n",
      "2024-01-13 20:09:33 [INFO]\t[TRAIN] Epoch=11/12, Step=80/84, loss=0.211372, loss_cls=0.144398, loss_bbox=0.052863, loss_rpn_cls=0.009046, loss_rpn_bbox=0.005065, lr=0.00025, time_each_step=0.14s, eta=0:0:43\n",
      "2024-01-13 20:09:33 [INFO]\t[TRAIN] Epoch=11/12, Step=82/84, loss=0.303044, loss_cls=0.223394, loss_bbox=0.057392, loss_rpn_cls=0.012523, loss_rpn_bbox=0.009734, lr=0.00025, time_each_step=0.14s, eta=0:0:43\n",
      "2024-01-13 20:09:33 [INFO]\t[TRAIN] Epoch=11/12, Step=84/84, loss=0.291072, loss_cls=0.21616, loss_bbox=0.055594, loss_rpn_cls=0.012369, loss_rpn_bbox=0.00695, lr=0.00025, time_each_step=0.14s, eta=0:0:43\n",
      "2024-01-13 20:09:33 [INFO]\t[TRAIN] Epoch 11 finished, loss=0.27947, loss_cls=0.191709, loss_bbox=0.073386, loss_rpn_cls=0.005105, loss_rpn_bbox=0.009271, lr=0.00025 .\n",
      "2024-01-13 20:09:33 [WARNING]\tFaster RCNN supports batch_size=1 only during evaluating, so batch_size is forced to be set to 1.\n",
      "2024-01-13 20:09:33 [INFO]\tStart to evaluating(total_samples=24, total_steps=24)...\n"
     ]
    },
    {
     "name": "stderr",
     "output_type": "stream",
     "text": [
      "100%|██████████| 24/24 [00:06<00:00,  3.80it/s]\n"
     ]
    },
    {
     "name": "stdout",
     "output_type": "stream",
     "text": [
      "2024-01-13 20:09:40 [INFO]\t[EVAL] Finished, Epoch=11, bbox_map=82.276537 .\n",
      "2024-01-13 20:09:49 [INFO]\tModel saved in output/faster_rcnn_r50_fpn/best_model.\n",
      "2024-01-13 20:09:53 [INFO]\tModel saved in output/faster_rcnn_r50_fpn/epoch_11.\n",
      "2024-01-13 20:09:53 [INFO]\tCurrent evaluated best model in eval_dataset is epoch_11, bbox_map=82.27653734560329\n",
      "2024-01-13 20:10:00 [INFO]\t[TRAIN] Epoch=12/12, Step=2/84, loss=0.377876, loss_cls=0.240915, loss_bbox=0.123306, loss_rpn_cls=0.005754, loss_rpn_bbox=0.007902, lr=2.5e-05, time_each_step=0.48s, eta=0:0:58\n",
      "2024-01-13 20:10:01 [INFO]\t[TRAIN] Epoch=12/12, Step=4/84, loss=0.416052, loss_cls=0.323605, loss_bbox=0.069295, loss_rpn_cls=0.003067, loss_rpn_bbox=0.020085, lr=2.5e-05, time_each_step=0.52s, eta=0:1:0\n",
      "2024-01-13 20:10:02 [INFO]\t[TRAIN] Epoch=12/12, Step=6/84, loss=0.186789, loss_cls=0.128688, loss_bbox=0.050589, loss_rpn_cls=0.002232, loss_rpn_bbox=0.00528, lr=2.5e-05, time_each_step=0.54s, eta=0:1:1\n",
      "2024-01-13 20:10:03 [INFO]\t[TRAIN] Epoch=12/12, Step=8/84, loss=0.236635, loss_cls=0.165165, loss_bbox=0.061724, loss_rpn_cls=0.001483, loss_rpn_bbox=0.008262, lr=2.5e-05, time_each_step=0.57s, eta=0:1:2\n",
      "2024-01-13 20:10:04 [INFO]\t[TRAIN] Epoch=12/12, Step=10/84, loss=0.238191, loss_cls=0.167944, loss_bbox=0.062396, loss_rpn_cls=0.002164, loss_rpn_bbox=0.005687, lr=2.5e-05, time_each_step=0.59s, eta=0:1:3\n",
      "2024-01-13 20:10:04 [INFO]\t[TRAIN] Epoch=12/12, Step=12/84, loss=0.345451, loss_cls=0.245271, loss_bbox=0.085631, loss_rpn_cls=0.004171, loss_rpn_bbox=0.010379, lr=2.5e-05, time_each_step=0.62s, eta=0:1:4\n",
      "2024-01-13 20:10:05 [INFO]\t[TRAIN] Epoch=12/12, Step=14/84, loss=0.248173, loss_cls=0.182215, loss_bbox=0.056703, loss_rpn_cls=0.003367, loss_rpn_bbox=0.005889, lr=2.5e-05, time_each_step=0.63s, eta=0:1:3\n",
      "2024-01-13 20:10:05 [INFO]\t[TRAIN] Epoch=12/12, Step=16/84, loss=0.212766, loss_cls=0.146264, loss_bbox=0.047412, loss_rpn_cls=0.010425, loss_rpn_bbox=0.008664, lr=2.5e-05, time_each_step=0.63s, eta=0:1:2\n",
      "2024-01-13 20:10:05 [INFO]\t[TRAIN] Epoch=12/12, Step=18/84, loss=0.191972, loss_cls=0.126746, loss_bbox=0.050502, loss_rpn_cls=0.008687, loss_rpn_bbox=0.006037, lr=2.5e-05, time_each_step=0.63s, eta=0:1:1\n",
      "2024-01-13 20:10:06 [INFO]\t[TRAIN] Epoch=12/12, Step=20/84, loss=0.281302, loss_cls=0.182467, loss_bbox=0.077765, loss_rpn_cls=0.006985, loss_rpn_bbox=0.014085, lr=2.5e-05, time_each_step=0.63s, eta=0:1:0\n",
      "2024-01-13 20:10:06 [INFO]\t[TRAIN] Epoch=12/12, Step=22/84, loss=0.242235, loss_cls=0.141416, loss_bbox=0.090316, loss_rpn_cls=0.002174, loss_rpn_bbox=0.008329, lr=2.5e-05, time_each_step=0.3s, eta=0:0:38\n",
      "2024-01-13 20:10:06 [INFO]\t[TRAIN] Epoch=12/12, Step=24/84, loss=0.297944, loss_cls=0.202143, loss_bbox=0.080125, loss_rpn_cls=0.003986, loss_rpn_bbox=0.01169, lr=2.5e-05, time_each_step=0.26s, eta=0:0:35\n",
      "2024-01-13 20:10:07 [INFO]\t[TRAIN] Epoch=12/12, Step=26/84, loss=0.49569, loss_cls=0.389655, loss_bbox=0.085524, loss_rpn_cls=0.003315, loss_rpn_bbox=0.017196, lr=2.5e-05, time_each_step=0.23s, eta=0:0:33\n",
      "2024-01-13 20:10:07 [INFO]\t[TRAIN] Epoch=12/12, Step=28/84, loss=0.252469, loss_cls=0.176752, loss_bbox=0.062444, loss_rpn_cls=0.005125, loss_rpn_bbox=0.008148, lr=2.5e-05, time_each_step=0.21s, eta=0:0:31\n",
      "2024-01-13 20:10:07 [INFO]\t[TRAIN] Epoch=12/12, Step=30/84, loss=0.27239, loss_cls=0.193797, loss_bbox=0.065642, loss_rpn_cls=0.002721, loss_rpn_bbox=0.01023, lr=2.5e-05, time_each_step=0.18s, eta=0:0:29\n",
      "2024-01-13 20:10:07 [INFO]\t[TRAIN] Epoch=12/12, Step=32/84, loss=0.390808, loss_cls=0.294318, loss_bbox=0.080094, loss_rpn_cls=0.005958, loss_rpn_bbox=0.010438, lr=2.5e-05, time_each_step=0.15s, eta=0:0:27\n",
      "2024-01-13 20:10:08 [INFO]\t[TRAIN] Epoch=12/12, Step=34/84, loss=0.42066, loss_cls=0.290828, loss_bbox=0.109478, loss_rpn_cls=0.006445, loss_rpn_bbox=0.013909, lr=2.5e-05, time_each_step=0.15s, eta=0:0:27\n",
      "2024-01-13 20:10:08 [INFO]\t[TRAIN] Epoch=12/12, Step=36/84, loss=0.18827, loss_cls=0.127796, loss_bbox=0.04835, loss_rpn_cls=0.004995, loss_rpn_bbox=0.007129, lr=2.5e-05, time_each_step=0.15s, eta=0:0:26\n",
      "2024-01-13 20:10:08 [INFO]\t[TRAIN] Epoch=12/12, Step=38/84, loss=0.226093, loss_cls=0.162394, loss_bbox=0.048712, loss_rpn_cls=0.007671, loss_rpn_bbox=0.007316, lr=2.5e-05, time_each_step=0.14s, eta=0:0:26\n",
      "2024-01-13 20:10:09 [INFO]\t[TRAIN] Epoch=12/12, Step=40/84, loss=0.22933, loss_cls=0.171241, loss_bbox=0.051853, loss_rpn_cls=0.001695, loss_rpn_bbox=0.00454, lr=2.5e-05, time_each_step=0.14s, eta=0:0:25\n",
      "2024-01-13 20:10:09 [INFO]\t[TRAIN] Epoch=12/12, Step=42/84, loss=0.198221, loss_cls=0.123211, loss_bbox=0.067587, loss_rpn_cls=0.001167, loss_rpn_bbox=0.006256, lr=2.5e-05, time_each_step=0.14s, eta=0:0:25\n",
      "2024-01-13 20:10:09 [INFO]\t[TRAIN] Epoch=12/12, Step=44/84, loss=0.181729, loss_cls=0.114833, loss_bbox=0.056653, loss_rpn_cls=0.005804, loss_rpn_bbox=0.004438, lr=2.5e-05, time_each_step=0.14s, eta=0:0:25\n",
      "2024-01-13 20:10:09 [INFO]\t[TRAIN] Epoch=12/12, Step=46/84, loss=0.249537, loss_cls=0.152886, loss_bbox=0.078836, loss_rpn_cls=0.009427, loss_rpn_bbox=0.008388, lr=2.5e-05, time_each_step=0.14s, eta=0:0:24\n",
      "2024-01-13 20:10:10 [INFO]\t[TRAIN] Epoch=12/12, Step=48/84, loss=0.31177, loss_cls=0.208857, loss_bbox=0.085296, loss_rpn_cls=0.008578, loss_rpn_bbox=0.009038, lr=2.5e-05, time_each_step=0.14s, eta=0:0:24\n",
      "2024-01-13 20:10:10 [INFO]\t[TRAIN] Epoch=12/12, Step=50/84, loss=0.166898, loss_cls=0.117244, loss_bbox=0.036864, loss_rpn_cls=0.006207, loss_rpn_bbox=0.006583, lr=2.5e-05, time_each_step=0.14s, eta=0:0:24\n",
      "2024-01-13 20:10:10 [INFO]\t[TRAIN] Epoch=12/12, Step=52/84, loss=0.232209, loss_cls=0.162002, loss_bbox=0.062096, loss_rpn_cls=0.002761, loss_rpn_bbox=0.00535, lr=2.5e-05, time_each_step=0.14s, eta=0:0:24\n",
      "2024-01-13 20:10:10 [INFO]\t[TRAIN] Epoch=12/12, Step=54/84, loss=0.290884, loss_cls=0.209808, loss_bbox=0.069992, loss_rpn_cls=0.005039, loss_rpn_bbox=0.006045, lr=2.5e-05, time_each_step=0.14s, eta=0:0:23\n",
      "2024-01-13 20:10:11 [INFO]\t[TRAIN] Epoch=12/12, Step=56/84, loss=0.333569, loss_cls=0.221604, loss_bbox=0.09641, loss_rpn_cls=0.004119, loss_rpn_bbox=0.011436, lr=2.5e-05, time_each_step=0.14s, eta=0:0:23\n",
      "2024-01-13 20:10:11 [INFO]\t[TRAIN] Epoch=12/12, Step=58/84, loss=0.2234, loss_cls=0.153687, loss_bbox=0.057304, loss_rpn_cls=0.002458, loss_rpn_bbox=0.00995, lr=2.5e-05, time_each_step=0.14s, eta=0:0:23\n",
      "2024-01-13 20:10:11 [INFO]\t[TRAIN] Epoch=12/12, Step=60/84, loss=0.356615, loss_cls=0.272434, loss_bbox=0.07238, loss_rpn_cls=0.003074, loss_rpn_bbox=0.008727, lr=2.5e-05, time_each_step=0.14s, eta=0:0:23\n",
      "2024-01-13 20:10:12 [INFO]\t[TRAIN] Epoch=12/12, Step=62/84, loss=0.223853, loss_cls=0.144324, loss_bbox=0.068105, loss_rpn_cls=0.002455, loss_rpn_bbox=0.00897, lr=2.5e-05, time_each_step=0.14s, eta=0:0:22\n",
      "2024-01-13 20:10:12 [INFO]\t[TRAIN] Epoch=12/12, Step=64/84, loss=0.194623, loss_cls=0.128583, loss_bbox=0.057615, loss_rpn_cls=0.002591, loss_rpn_bbox=0.005834, lr=2.5e-05, time_each_step=0.14s, eta=0:0:22\n",
      "2024-01-13 20:10:12 [INFO]\t[TRAIN] Epoch=12/12, Step=66/84, loss=0.264838, loss_cls=0.199776, loss_bbox=0.047126, loss_rpn_cls=0.005143, loss_rpn_bbox=0.012792, lr=2.5e-05, time_each_step=0.14s, eta=0:0:22\n",
      "2024-01-13 20:10:12 [INFO]\t[TRAIN] Epoch=12/12, Step=68/84, loss=0.188069, loss_cls=0.136777, loss_bbox=0.041698, loss_rpn_cls=0.003785, loss_rpn_bbox=0.005809, lr=2.5e-05, time_each_step=0.14s, eta=0:0:21\n",
      "2024-01-13 20:10:13 [INFO]\t[TRAIN] Epoch=12/12, Step=70/84, loss=0.259942, loss_cls=0.181569, loss_bbox=0.060193, loss_rpn_cls=0.01207, loss_rpn_bbox=0.00611, lr=2.5e-05, time_each_step=0.14s, eta=0:0:21\n",
      "2024-01-13 20:10:13 [INFO]\t[TRAIN] Epoch=12/12, Step=72/84, loss=0.216864, loss_cls=0.140162, loss_bbox=0.063192, loss_rpn_cls=0.004438, loss_rpn_bbox=0.009071, lr=2.5e-05, time_each_step=0.14s, eta=0:0:21\n",
      "2024-01-13 20:10:13 [INFO]\t[TRAIN] Epoch=12/12, Step=74/84, loss=0.191038, loss_cls=0.128065, loss_bbox=0.051421, loss_rpn_cls=0.004542, loss_rpn_bbox=0.00701, lr=2.5e-05, time_each_step=0.14s, eta=0:0:21\n",
      "2024-01-13 20:10:13 [INFO]\t[TRAIN] Epoch=12/12, Step=76/84, loss=0.249865, loss_cls=0.176544, loss_bbox=0.058358, loss_rpn_cls=0.004846, loss_rpn_bbox=0.010118, lr=2.5e-05, time_each_step=0.14s, eta=0:0:20\n",
      "2024-01-13 20:10:14 [INFO]\t[TRAIN] Epoch=12/12, Step=78/84, loss=0.239324, loss_cls=0.151305, loss_bbox=0.066561, loss_rpn_cls=0.0075, loss_rpn_bbox=0.013958, lr=2.5e-05, time_each_step=0.14s, eta=0:0:20\n",
      "2024-01-13 20:10:14 [INFO]\t[TRAIN] Epoch=12/12, Step=80/84, loss=0.314923, loss_cls=0.239899, loss_bbox=0.063611, loss_rpn_cls=0.00303, loss_rpn_bbox=0.008383, lr=2.5e-05, time_each_step=0.14s, eta=0:0:20\n",
      "2024-01-13 20:10:14 [INFO]\t[TRAIN] Epoch=12/12, Step=82/84, loss=0.176969, loss_cls=0.114398, loss_bbox=0.056167, loss_rpn_cls=0.002318, loss_rpn_bbox=0.004086, lr=2.5e-05, time_each_step=0.14s, eta=0:0:19\n",
      "2024-01-13 20:10:15 [INFO]\t[TRAIN] Epoch=12/12, Step=84/84, loss=0.30613, loss_cls=0.225242, loss_bbox=0.058431, loss_rpn_cls=0.006249, loss_rpn_bbox=0.016209, lr=2.5e-05, time_each_step=0.14s, eta=0:0:19\n",
      "2024-01-13 20:10:15 [INFO]\t[TRAIN] Epoch 12 finished, loss=0.261964, loss_cls=0.181997, loss_bbox=0.066642, loss_rpn_cls=0.004476, loss_rpn_bbox=0.008848, lr=2.5e-05 .\n",
      "2024-01-13 20:10:15 [WARNING]\tFaster RCNN supports batch_size=1 only during evaluating, so batch_size is forced to be set to 1.\n",
      "2024-01-13 20:10:15 [INFO]\tStart to evaluating(total_samples=24, total_steps=24)...\n"
     ]
    },
    {
     "name": "stderr",
     "output_type": "stream",
     "text": [
      "100%|██████████| 24/24 [00:05<00:00,  4.13it/s]\n"
     ]
    },
    {
     "name": "stdout",
     "output_type": "stream",
     "text": [
      "2024-01-13 20:10:20 [INFO]\t[EVAL] Finished, Epoch=12, bbox_map=81.102318 .\n",
      "2024-01-13 20:10:25 [INFO]\tModel saved in output/faster_rcnn_r50_fpn/epoch_12.\n",
      "2024-01-13 20:10:25 [INFO]\tCurrent evaluated best model in eval_dataset is epoch_11, bbox_map=82.27653734560329\n"
     ]
    }
   ],
   "source": [
    "num_classes = len(train_dataset.labels) + 1\n",
    "model = pdx.det.FasterRCNN(num_classes=num_classes)\n",
    "model.train(\n",
    "    num_epochs=12,\n",
    "    train_dataset=train_dataset,\n",
    "    train_batch_size=2,\n",
    "    eval_dataset=eval_dataset,\n",
    "    learning_rate=0.0025,\n",
    "    lr_decay_epochs=[8, 11],\n",
    "    save_interval_epochs=1,\n",
    "    save_dir='output/faster_rcnn_r50_fpn',\n",
    "    use_vdl=True)"
   ]
  },
  {
   "cell_type": "markdown",
   "metadata": {
    "collapsed": false
   },
   "source": [
    "## 4 模型预测\n",
    "\n",
    "使用模型进行预测，同时使用`pdx.det.visualize`将结果可视化，可视化结果将保存到`./output/faster_rcnn_r50_fpn`下，其中`threshold`代表Box的置信度阈值，将Box置信度低于该阈值的框过滤不进行可视化。\n",
    "> 此处请在AIStudio Notebook页面的右上角菜单，选择重启执行器，以释放显存，重新加载训练好的模型"
   ]
  },
  {
   "cell_type": "code",
   "execution_count": 7,
   "metadata": {
    "collapsed": false
   },
   "outputs": [
    {
     "name": "stdout",
     "output_type": "stream",
     "text": [
      "2024-01-13 20:10:27 [INFO]\tModel[FasterRCNN] loaded.\n"
     ]
    },
    {
     "name": "stderr",
     "output_type": "stream",
     "text": [
      "2024-01-13 20:10:28,120-INFO: font search path ['/opt/conda/envs/python35-paddle120-env/lib/python3.7/site-packages/matplotlib/mpl-data/fonts/ttf', '/opt/conda/envs/python35-paddle120-env/lib/python3.7/site-packages/matplotlib/mpl-data/fonts/afm', '/opt/conda/envs/python35-paddle120-env/lib/python3.7/site-packages/matplotlib/mpl-data/fonts/pdfcorefonts']\n",
      "2024-01-13 20:10:28,888-INFO: generated new fontManager\n"
     ]
    },
    {
     "name": "stdout",
     "output_type": "stream",
     "text": [
      "2024-01-13 20:10:29 [INFO]\tThe visualized result is saved as ./output/faster_rcnn_r50_fpn/visualize_0216.jpg\n"
     ]
    }
   ],
   "source": [
    "import paddlex as pdx\n",
    "model = pdx.load_model('output/faster_rcnn_r50_fpn/best_model')\n",
    "image_name = 'insect_det/JPEGImages/0216.jpg'\n",
    "result = model.predict(image_name)\n",
    "pdx.det.visualize(image_name, result, threshold=0.5, save_dir='./output/faster_rcnn_r50_fpn')"
   ]
  },
  {
   "cell_type": "markdown",
   "metadata": {
    "collapsed": false
   },
   "source": [
    "可视化结果如下所示：  \n",
    "<img src=\"https://ai-studio-static-online.cdn.bcebos.com/a6b37f6ab44443e19bef8390f6c9a1038541ed68644740a6b5a5a01a4ee5738d\" width=\"50%\" height=\"50%\">\n",
    "\n",
    "## 5. 反馈\n",
    "PaddleX用户QQ群: 1045148026 (手机QQ扫描如下二维码快速加入)  \n",
    "<img src=\"https://ai-studio-static-online.cdn.bcebos.com/35a3a4c0748f4eb393b3acb100bc14f2e9920eed74244c1bbc2041bdd6790f81\" width=\"15%\" height=\"15%\">"
   ]
  }
 ],
 "metadata": {
  "kernelspec": {
   "display_name": "Python 3",
   "language": "python",
   "name": "py35-paddle1.2.0"
  },
  "language_info": {
   "codemirror_mode": {
    "name": "ipython",
    "version": 3
   },
   "file_extension": ".py",
   "mimetype": "text/x-python",
   "name": "python",
   "nbconvert_exporter": "python",
   "pygments_lexer": "ipython3",
   "version": "3.7.4"
  }
 },
 "nbformat": 4,
 "nbformat_minor": 1
}
